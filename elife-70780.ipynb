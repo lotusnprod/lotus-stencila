{
 "cells": [
  {
   "cell_type": "markdown",
   "metadata": {},
   "source": [
    "# Introduction\n",
    "\n",
    "## Evolution of electronic natural products resources\n",
    "\n",
    "Natural Products (NP) research is a transdisciplinary field with wide-ranging interests: from fundamental structural aspects of naturally occurring molecular entities to their effects on living organisms and extending to the study of chemically mediated interactions within entire ecosystems. Defining the ‘natural’ qualifier is a complex task [@bib31; @bib3]. We thus adopt here a broad definition of a NP as any chemical entity _found in_ a living organism, hereafter refered to as a _structure-organism pair_. An additional and fundamental element of a structure-organism pair is a reference to the experimental evidence that establishes the linkages between the chemical structure and the biological organism. A future-oriented electronic NP resource should contain fully-referenced structure-organism pairs.\n",
    "\n",
    "Reliance on data from the NP literature presents many challenges. The assembly and integration of NP occurrences into an inter-operative platform relies primarily on access to a heterogeneous set of databases (DB) whose content and maintenance status are critical factors in this dependency [@bib126]. A tertiary inter-operative NP platform is thus dependent on a secondary set of data that has been selectively annotated into a DB from primary literature sources. The experimental data itself reflects a complex process involving collection or sourcing of natural material (and establishment of its identity), a series of material transformation and separation steps and ultimately the chemical or spectral elucidation of isolates. The specter of human error and the potential for the introduction of biases are present at every phase of this journey. These include publication biases [@bib70], such as emphasis on novel and/or bioactive structures in the review process, or, in DB assembly stages, with selective focus on a specific compound class or a given taxonomic range, or disregard for annotation of other relevant evidence that may have been presented in primary sources. Temporal biases also exist: a technological ‘state-of-the-art’ when published can eventually be recast as anachronistic.\n",
    "\n",
    "The advancement of NP research has always relied on the development of new technologies. In the past century alone, the rate at which unambiguous identification of new NP entities from biological matrices can be achieved has been reduced from years to days and in the past few decades, the scale at which new NP discoveries are being reported has increased exponentially. Without a means to access and process these disparate NP data points, information is fragmented and scientific progress is impaired [@bib6]. To this extent, contemporary bioinformatic tools enable the (re-)interpretation and (re-)annotation of (existing) datasets documenting molecular aspects of biodiversity [@bib80; @bib55].\n",
    "\n",
    "While large, well-structured and freely accessible DB exist, they are often concerned primarily with chemical structures (e.g. [PubChem](https://pubchem.ncbi.nlm.nih.gov) [@bib63], with over 100 M entries) or biological organisms (e.g. [GBIF](https://www.gbif.org) [@bib36], with over 1900 M entries), but scarce interlinkages limit their application for documentation of NP occurrence(s). Currently, no open, cross-kingdom, comprehensive and computer-interpretable electronic NP resource links NP and their containing organisms, along with referral to the underlying experimental work. This shortcoming breaks the crucial evidentiary link required for tracing information back to the original data and assessing its quality. Even valuable commercially available efforts for compiling NP data, such as the [Dictionary of Natural Products](https://dnp.chemnetbase.com) (DNP), can lack proper documentation of these critical links.\n",
    "\n",
    "Pioneering efforts to address such challenges led to the establishment of [KNApSAck](http://www.knapsackfamily.com/KNApSAcK) [@bib116], which is likely the first public, curated electronic NP resource of referenced structure-organism pairs. KNApSAck [@bib1] currently contains 50,000+ structures and 100,000+ structure-organism pairs. However, the organism field is not standardized and access to the data is not straightforward. Another early-established electronic NP resources is the NAPRALERT dataset [@bib40], which was compiled over five decades from the NP literature, gathering and annotating data derived from over 200,000 primary literature sources. This dataset contains 200,000+ distinct compound names and structural elements, along with 500,000+ records of distinct, fully-cited structure-organism pairs. In total, NAPRALERT contains over 900,000 such records, due to equivalent structure-organism pairs reported in different citations. However, NAPRALERT is not an open platform and employs an access model that provides only limited free searches of the dataset. Finally, the [NPAtlas](https://www.npatlas.org) [@bib128; @bib129] is a more recent project complying with the FAIR (Findability, Accessibility, Interoperability, and Reuse) guidelines for digital assets [@bib142] and offering convenient web access. While the NPAtlas allows retrieval and encourages submission of compounds with their biological source, it focuses on microbial NP and ignores a wide range of biosynthetically active organisms found in the Plantae kingdom.\n",
    "\n",
    "The LOTUS initiative seeks to address the aforementioned shortcomings. Building on the experience gained through the establishment of the recently published [COlleCtion of Open NatUral producTs](https://coconut.naturalproducts.net) (COCONUT) [@bib121] regarding the aggregation and curation of NP structural databases, this _savoir-faire_ was expanded to accommodate biological organisms and scientific references in the equation. After extensive data curation and harmonization of over 40 electronic ressources, pairs characterizing a NP occurrence were standardized at the chemical, biological and reference levels. At its current stage of development, LOTUS disseminates 750,000+ referenced structure-organism pairs. These efforts and experiences represent an intensive preliminary curatorial phase and the first major step towards providing a high-quality, computer-interpretable knowledge base capable of transforming NP research data management from a classical (siloed) database approach to an optimally shared resource.\n",
    "\n",
    "## Accommodating principles of FAIRness and TRUSTworthiness for natural products knowledge management\n",
    "\n",
    "In awareness of the multi-faceted pitfalls associated with implementing, using and maintaining classical scientific DBs [@bib48], and to enhance current and future sharing options, the LOTUS initiative selected the [Wikidata](https://www.wikidata.org/wiki/Wikidata:Main_Page) platform for disseminating its resources. The idea of using wikis to disseminate databases is not new, with multiple underlying advantages [@bib33]. Since its creation, Wikidata has focused on cross-disciplinary and multilingual support. Wikidata is curated and governed collaboratively by a global community of volunteers, about 20,000 of which are contributing monthly. Wikidata currently contains more than 1 billion statements in the form of subject-predicate-object triples. Triples are machine-interpretable and can be enriched with qualifiers and references. Within Wikidata, data triples correspond to approximately 100 million entries, which can be grouped into classes as diverse as countries, songs, disasters, or chemical compounds. The statements are closely integrated with [Wikipedia](https://en.wikipedia.org/wiki/Main_Page) and serve as the source for many of its infoboxes. Various workflows have been established for reporting such classes, particularly those of interest to life sciences, such as genes, proteins, diseases, drugs, or biological taxa [@bib131].\n",
    "\n",
    "Building on the principles and experiences described above, the present report introduces the development and implementation of the LOTUS workflow for NP occurrence curation and dissemination, which applies both FAIR and TRUST (Transparency, Responsibility, User focus, Sustainability and Technology) principles [@bib71]. LOTUS data upload and retrieval procedures ensure optimal accessibility by the research community, allowing any researcher to contribute, edit and reuse the data with a clear and open CC0 license ([Creative Commons 0](https://creativecommons.org/publicdomain/zero/1.0)).\n",
    "\n",
    "Despite many advantages, Wikidata hosting has some notable, yet manageable drawbacks. While its SPARQL query language offers a powerful way to query available data, it can also appear intimidating to the less experienced user. Furthermore, some typical queries of molecular electronic NP resources such as structural or spectral searches are not yet available in Wikidata. To address these shortcomings, LOTUS is hosted in parallel at <https://lotus.naturalproducts.net> (LNPN) within the naturalproducts.net ecosystem. The [Natural Products](https://naturalproducts.net)[Online](https://naturalproducts.net) website is a portal for open-source and open-data resources for NP research. In addition to the generalistic COCONUT and LNPN databases, the portal will enable hosting of arbitrary and skinned collections, themed in particular by species or taxonomic clade, by geographic location or by institution, together with a range of cheminformatics tools for NP research. LNPN is periodically updated with the latest LOTUS data. This dual hosting provides an integrated, community-curated and vast knowledge base (via Wikidata), as well as a NP community-oriented product with tailored search modes (_via_ LNPN). The multiple data interaction options should establish the basis for the transparent and sustainable access, sharing and creation of knowledge on NP occurrence.\n",
    "\n",
    "The LOTUS initiative was initially launched to answer our need to access the most comprehensive compilation of biological occurrences of NP. Indeed, we recently highlighted the interest of considering the taxonomic dimension when annotating metabolites [@bib99]. This being said, many other concrete applications can result from an access by the scientific community to the LOTUS initiative data. For example, such a resource will facilitate the exploration of eco-evolutionary mechanisms at the molecular level [@bib27]. In terms of drug discovery, this resource is extremely valuable to orient and guide researchers interested in a structure of interest. On the same theme, LOTUS is expected to be the perfect place to encounter ‘molecular arguments’ for biodiversity conservation [@bib13]. Researchers interested in the history of science will be able, through this kind of resource, to gain a preliminary view of the temporal evolution of disciplines such as pharmacognosy. More generally, the objective of the LOTUS initiative is to prepare the ground for an electronic and globally accessible resource that would be the counterpart, at the metabolite level, of established databases linking proteins to biological organisms (e.g. [Uniprot](https://www.uniprot.org/)) and genes to biological organisms ([Genbank](https://www.ncbi.nlm.nih.gov/genbank/)). Once such an objective is reached, it will be possible to interconnect the three central objects of the living, that is metabolites, proteins and genes, through the common entity of these resources, the biological organism. Such an interconnection, fostering cross-fertilization of the fields of chemistry, biology and associated disciplines is desirable and necessary to advance towards a better understanding of Life.\n",
    "\n",
    "# Results and discussion\n",
    "\n",
    "This section is structured as follows: first, we present an overview of the LOTUS initiative at its current stage of development. The central curation and dissemination elements of the LOTUS initiative are then explained in detail. The third section addresses the interaction modes between end-users and LOTUS, including _data retrieval_, _addition,_ and _editing_. Some examples on how LOTUS data can be used to answer research questions or develop hypothesis are given. The final section is dedicated to the interpretation of LOTUS data and illustrates the dimensions and qualities of the current LOTUS dataset from chemical and biological perspectives.\n",
    "\n",
    "## Blueprint of the LOTUS initiative\n",
    "\n",
    "Building on the standards established by the related WikiProjects on Wikidata ([Chemistry](https://www.wikidata.org/wiki/Wikidata:WikiProject_Chemistry), [Taxonomy](https://www.wikidata.org/wiki/Wikidata:WikiProject_Taxonomy) and [Source Metadata](https://www.wikidata.org/wiki/Wikidata:WikiProject_Source_MetaData)), a NP chemistry-oriented subproject was created ([Chemistry/Natural products](https://www.wikidata.org/wiki/Wikidata:WikiProject_Chemistry/Natural_products)). Its central data consists of three minimal sufficient objects:\n",
    "\n",
    "-   A _chemical structure object_, with associated Simplified Molecular Input Line Entry System (SMILES) [@bib135], International Chemical Identifier (InChI) [@bib47] and InChIKey (a hashed version of the InChI).\n",
    "-   A _biological organism object_, with associated taxon name, the taxonomic DB where it was described and the taxon ID in the respective DB.\n",
    "-   A _reference object_ describing the structure-organism pair, with the associated article title and a Digital Object Identifier (DOI), a PubMed (PMID), or PubMed Central (PMCID) ID.\n",
    "\n",
    "As data formats are largely inhomogeneous among existing electronic NP resources, fields related to chemical structure, biological organism and references are variable and essentially not standardized. Therefore, LOTUS implements multiple stages of harmonization, processing, and validation ([Figure 1](#fig1), stages 1–3). LOTUS employs a Single Source of Truth (SSOT, [Single_source_of_truth](https://en.wikipedia.org/wiki/Single_source_of_truth)) to ensure data reliability and continuous availability of the latest curated version of LOTUS data in both Wikidata and LNPN ([Figure 1](#fig1), stage 4). The SSOT approach consists of a [PostgreSQL](https://www.postgresql.org/) DB that structures links and data schemes such that every data element has a single place. The LOTUS processing pipeline is tailored to efficiently include and diffuse novel or curated data directly from new sources or at the Wikidata level. This iterative workflow relies both on data addition and retrieval actions as described in the Data Interaction section. The overall process leading to referenced and curated structure-organisms pairs is illustrated in [Figure 1](#fig1) and detailed hereafter."
   ]
  },
  {
   "cell_type": "markdown",
   "metadata": {},
   "source": [
    "figure: Figure 1.\n",
    ":::\n",
    "### Blueprint of the LOTUS initiative.\n",
    "Data undergo a four-stage process: (1) Harmonization, (2) Processing, (3) Validation, and (4) Dissemination. The process was designed to incorporate future contributions (5), either by the addition of new data from within Wikidata (**a**) or new sources (**b**) or via curation of existing data (**c**). The figure is available under the CC0 license at <https://commons.wikimedia.org/wiki/File:Lotus_initiative_1_blueprint.svg>.\n",
    "\n",
    "![fig1](https://upload.wikimedia.org/wikipedia/commons/d/da/Lotus_initiative_1_blueprint.svg)\n",
    ":::\n",
    "{#fig1}"
   ]
  },
  {
   "cell_type": "markdown",
   "metadata": {},
   "source": [
    "By design, this iterative process fosters community participation, essential to efficiently document NP occurrences. All stages of the workflow are described on the git sites of the LOTUS initiative at <https://github.com/lotusnprod> and in the methods. At the time of writing, 750,000+ LOTUS entries contained a curated chemical structure, biological organism and reference and were available on both Wikidata and LNPN. As the LOTUS data volume is expected to increase over time, a frozen (as of 2021-12-20), tabular version of this dataset with its associated metadata is made available at <https://doi.org/10.5281/zenodo.5794106> [@bib102].\n",
    "\n",
    "## Data harmonization\n",
    "\n",
    "Multiple data sources were processed as described hereafter. All publicly accessible electronic NP resources included in [COCONUT](https://zenodo.org/record/3778405) that contain referenced structure-organism pairs were considered as initial input. The data were complemented with COCONUT’s own referenced structure-organism pairs [@bib119], as well as the following additional electronic NP resources: Dr. Duke [@bib127], Cyanometdb [@bib56], Datawarrior [@bib112], a subset of NAPRALERT, Wakankensaku [@bib132] and DiaNat-DB [@bib74].\n",
    "\n",
    "The contacts of the electronic NP resources not explicitly licensed as open were individually reached for permission to access and reuse data. A detailed list of data sources and related information is available as Appendix 1. All necessary scripts for data gathering and harmonization can be found in the [lotus-processor](https://github.com/lotusnprod/lotus-processor) repository in the [src/1_gathering](https://github.com/lotusnprod/lotus-processor/tree/main/src/1_gathering) directory and processed is detailed in the corresponding methods section gathering section. All subsequent iterations including new data sources, either updated information from the same data sources or new data, will involve a comparison with the previously gathered data at the SSOT level to ensure that the data is only curated once.\n",
    "\n",
    "## Data processing and validation\n",
    "\n",
    "As shown in [Figure 1](#fig1), data curation consisted of three stages: harmonization, processing, and validation. Thereby, after the harmonization stage, each of the three central objects – chemical compounds, biological organisms, and reference – were processed, as described in related methods section. Given the data size (2.5M+ initial entries), manual validation was unfeasible. Curating the references was a particularly challenging part of the process. Whereas organisms are typically reported by at least their vernacular or scientific denomination and chemical structures via their SMILES, InChI, InChIKey or image (not covered in this work), references suffer from largely insufficient reporting standards. Despite poor standardization of the initial reference field, proper referencing remains an indispensable way to establish the validity of structure-organism pairs. Better reporting practices, supported by tools such as [Scholia](https://scholia.toolforge.org) [@bib10; @bib94] and relying on Wikidata, [Fatcat](https://fatcat.wiki), or [Semantic Scholar](https://www.semanticscholar.org) should improve reference-related information retrieval in the future.\n",
    "\n",
    "In addition to curating the entries during data processing, 420 referenced structure-organism pairs were selected for manual validation. An entry was considered as valid if: (_i_) the structure (in the form of any structural descriptor that could be linked to the final sanitized InChIKey) was described in the reference (_ii_) the containing organism (as any organism descriptor that could be linked to the accepted canonical name) was described in the reference and (_iii_) the reference was describing the occurrence of the chemical structure in the biological organism. More details are available in the related methods section. This process allowed us to establish rules for automatic filtering and validation of the entries. The parameters of the automatic filtering are available as a function ([filter_dirty.R](https://github.com/lotusnprod/lotus-processor/blob/main/src/r/filter_dirty.R)) and are further described in the related methods section. The automatic filtering was then applied to all entries. To confirm the efficacy of the filtering process, a new subset of 100 diverse, automatically curated and automatically validated entries was manually checked, yielding a rate of 97% of true positives. The detailed results of the two manual validation steps are reported in Appendix 2. The resulting data is also available in the dataset shared at <https://doi.org/10.5281/zenodo.5794106> [@bib102]. [Table 1](#table1) shows an example of a referenced structure-organism pair before and after curation. This process resolved the structure to an InChIKey, the organism to a valid taxonomic name and the reference to a DOI, thereby completing the establishment of the essential referenced structure-organism pair."
   ]
  },
  {
   "cell_type": "markdown",
   "metadata": {},
   "source": [
    "table: Table 1.\n",
    ":::\n",
    "### Example of a referenced structure-organism pair before and after curation.\n",
    "\n",
    "|                     | Structure                   | Organism                                                                    | Reference                                                                                                                             |\n",
    "| ------------------- | --------------------------- | --------------------------------------------------------------------------- | ------------------------------------------------------------------------------------------------------------------------------------- |\n",
    "| **Before curation** | Cyathocaline                | Stem bark of Cyathocalyx zeylanica CHAMP. ex HOOK. f. & THOMS. (Annonaceae) | Wijeratne E. M. K., de Silva L. B., Kikuchi T., Tezuka Y., Gunatilaka A. A. L., Kingston D. G. I., J. Nat. Prod., 58, 459–462 (1995). |\n",
    "| **After curation**  | VFIIVOHWCNHINZ-UHFFFAOYSA-N | Cyathocalyx zeylanicus                                                      | 10.1021 /NP50117A020                                                                                                                  |\n",
    "\n",
    ":::\n",
    "{#table1}"
   ]
  },
  {
   "cell_type": "markdown",
   "metadata": {},
   "source": [
    "Challenging examples encountered during the development of the curation process were compiled in an edge cases table ([tests/tests.tsv](https://github.com/lotusnprod/lotus-processor/blob/main/tests/tests.tsv)) to allow for automated unit testing. These tests allow a continuous revalidation of any change made to the code, ensuring that corrected errors will not reappear. The alluvial plot in [Figure 2](#fig2) illustrates the individual contribution of each _source_ and _original subcategory_ that led to the _processed categories_: structure, organism, and reference."
   ]
  },
  {
   "cell_type": "markdown",
   "metadata": {},
   "source": [
    "figure: Figure 2.\n",
    ":::\n",
    "### Alluvial plot of the data transformation flow within LOTUS during the automated curation and validation processes.\n",
    "The figure also reflects the relative proportions of the data stream in terms of the contributions from the various sources (‘source’ block, left), the composition of the harmonized subcategories (‘original subcategory’ block, middle) and the validated data after curation (‘processed category’ block, right). Automatically validated entries are represented in green, rejected entries in blue. The figure is available under the CC0 license at <https://commons.wikimedia.org/wiki/File:Lotus_initiative_1_alluvial_plot.svg>.\n",
    "\n",
    "![fig2](https://upload.wikimedia.org/wikipedia/commons/2/25/Lotus_initiative_1_alluvial_plot.svg)\n",
    ":::\n",
    "{#fig2}"
   ]
  },
  {
   "cell_type": "markdown",
   "metadata": {},
   "source": [
    "The figure highlights, for example, the essential contribution of the reference DOI category to the final validated entries. A similar pattern can be seen concerning structures, where the validation rate of structural identifiers is higher than chemical names. The combination of the results of the automated curation pipeline and the manually curated entries led to the establishment of four categories (manually validated, manually rejected, automatically validated and automatically rejected) of the referenced structure-organism pairs that formed the processed part of the SSOT. Out of a total of 2.5M+ initial pairs, the manual and automatic validation retained 750,000+ pairs (approximately 30%), which were then selected for dissemination on Wikidata. Among validated entries, multiple ones were redundant among the source databases, thus also explaining the decrease of entries between the initial pairs and validated ones. Moreover, because data quality was favored over quantity, the number of rejected entries is high. Among them, multiple correct entries were certainly falsely rejected, but still not disseminated. All rejected entries were kept aside for later manual inspection and validation. These are publicly available at <https://doi.org/10.5281/zenodo.5794597> [@bib103]. In the end, the disseminated data contained 290,000+ unique chemical structures, 40,000+ distinct organisms and 75,000+ references.\n",
    "\n",
    "## Data dissemination\n",
    "\n",
    "Research worldwide can benefit the most when all results of published scientific studies are fully accessible immediately upon publication [@bib2]. This concept is considered the foundation of scientific investigation and a prerequisite for the effective direction of new research efforts based on prior information. To achieve this, research results have to be made publicly available and reusable. As computers are now the main investigation tool for a growing number of scientists, all research data including those in publications should be disseminated in computer-readable format, following the FAIR principles. LOTUS uses Wikidata as a repository for referenced structure-organism pairs, as this allows documented research data to be integrated with a large, pre-existing and extensible body of chemical and biological knowledge. The dynamic nature of Wikidata encourages the continuous curation of deposited data through the user community. Independence from individual and institutional funding represents another major advantage of Wikidata. The Wikidata knowledge base and the option to use elaborate SPARQL queries allow the exploration of the dataset from a sheer unlimited number of angles. The openness of Wikidata also offers unprecedented opportunities for community curation, which will support, if not guarantee, a dynamic and evolving data repository. At the same time, certain limitations of this approach can be anticipated. Despite (or possibly due to) their power, SPARQL queries can be complex and potentially require an in-depth understanding of the models and data structure. This involves a steep learning curve which can discourage some end-users. Furthermore, traditional ways to query electronic NP resources such as structural or spectral searches are currently not within the scope of Wikidata and, are thus addressed in LNPN. Using the pre-existing COCONUT template, LNPN hosting allows the user to perform structural searches by directly drawing a molecule, thereby addressing the current lack of such structural search possibilities in Wikidata. Since metabolite profiling by Liquid Chromatography (LC) - Mass Spectrometry (MS) is now routinely used for the chemical composition assessment of natural extracts, future versions of LOTUS and COCONUT are envisioned to be augmented by predicted MS spectra and hosted at <https://naturalproducts.net> to allow mass and spectral-based queries. Note that such spectral database is already available at <https://doi.org/10.5281/zenodo.5607264> [@bib5]. To facilitate queries focused on specific taxa (e.g. ‘return all molecules found in the Asteraceae family’), a unified taxonomy is paramount. As the taxonomy of living organisms is a complex and constantly evolving field, all the taxon identifiers from all accepted taxonomic DB for a given taxon name were kept. Initiatives such as the [Open Tree of Life](https://tree.opentreeoflife.org) (OTL) [@bib97] will help to gradually reduce these discrepancies, and the Wikidata platform can and does support such developments. OTL also benefits from regular expert curation and new data. As the taxonomic identifier property for this resource did not exist in Wikidata, its creation was requested and obtained. The property is now available as ‘Open Tree of Life ID’ ([P9157](https://www.wikidata.org/wiki/Property:P9157)).\n",
    "\n",
    "Following the previously described curation process, all validated entries have been made available through Wikidata and LNPN. LNPN will be regularly mirroring Wikidata LOTUS through the SSOT as described in [Figure 1](#fig1).\n",
    "\n",
    "## User interaction with LOTUS data\n",
    "\n",
    "The possibilities to interact with the LOTUS data are numerous. The following gives examples of how to retrieve, add and edit LOTUS data.\n",
    "\n",
    "## Data retrieval\n",
    "\n",
    "LOTUS data can be queried and retrieved either directly in Wikidata or on LNPN, both of which have distinct advantages. While Wikidata offers flexible and powerful queries capacities at the cost of potential complexity, LNPN has a graphical user interface with capabilities of drawing chemical structures, simplified structural or biological filtering and advanced chemical descriptors, albeit with a more rigid structure. For bulk download, a frozen version of LOTUS data (timestamp of 2021-12-20) is also available at <https://doi.org/10.5281/zenodo.5794106> [@bib102]. More refined approaches to the direct interrogation of the up-to-date LOTUS data both in Wikidata and LNPN are detailed hereafter.\n",
    "\n",
    "## Wikidata\n",
    "\n",
    "The easiest way to search for NP occurrence information in Wikidata is by typing the name of a chemical structure directly into the ‘Search Wikidata’ field, which (for left-to-right languages) can be found in the upper right corner of the [Wikidata homepage](https://www.wikidata.org/wiki/Wikidata:Main_Page) or any other Wikidata page. For example, by typing ‘erysodine’, the user will land on the page of this compound ([Q27265641](https://www.wikidata.org/wiki/Q27265641)). Scrolling down to the ‘found in taxon’ statement will allow the user to view the biological organisms reported to contain this NP ([Figure 3](#fig3)). Clicking the reference link under each taxon name links to the publication(s) documenting the occurrence."
   ]
  },
  {
   "cell_type": "markdown",
   "metadata": {},
   "source": [
    "figure: Figure 3.\n",
    ":::\n",
    "### Illustration of the ‘found in taxon’ statement section on the Wikidata page\n",
    "of erysodine [Q27265641](https://www.wikidata.org/wiki/Q27265641) showing a selection of erysodine-containing taxa and the references documenting these occurrences.\n",
    "\n",
    "![fig3](images/erysodine.svg)\n",
    ":::\n",
    "{#fig3}"
   ]
  },
  {
   "cell_type": "markdown",
   "metadata": {},
   "source": [
    "The typical approach to more elaborated querying involves writing SPARQL queries using the [Wikidata Query Service](https://query.wikidata.org) or another direct connection to a SPARQL endpoint. [Table 2](#table2) contains some examples from simple to more elaborated queries, demonstrating what can be done using this approach. The full-text queries with explanations are included in [Supplementary file 1](#supp1)."
   ]
  },
  {
   "cell_type": "markdown",
   "metadata": {},
   "source": [
    "table: Table 2.\n",
    ":::\n",
    "### Potential questions about structure-organism relationships and corresponding Wikidata queries.\n",
    "\n",
    "| Question                                                                                                                                  | Wikidata SPARQL query |\n",
    "| ----------------------------------------------------------------------------------------------------------------------------------------- | --------------------- |\n",
    "| What are the compounds present in Mouse-ear cress (_Arabidopsis thaliana_) or its child taxa?                                             | <https://w.wiki/4Vcv> |\n",
    "| Which organisms are known to contain _β_-sitosterol?                                                                                      | <https://w.wiki/4VFn> |\n",
    "| Which organisms are known to contain stereoisomers of _β_-sitosterol?                                                                     | <https://w.wiki/4VFq> |\n",
    "| Which pigments are found in which taxa, according to which reference?                                                                     | <https://w.wiki/4VFx> |\n",
    "| What are examples of organisms where compounds were found in an organism sharing the same parent taxon, but not in the organism itself?   | <https://w.wiki/4Wt3> |\n",
    "| Which _Zephyranthes_ species lack compounds known from at least two species in the genus?                                                 | <https://w.wiki/4VG3> |\n",
    "| How many compounds are structurally similar to compounds labeled as antibiotics? (grouped by the parent taxon of the containing organism) | <https://w.wiki/4VG4> |\n",
    "| Which organisms contain indolic scaffolds? Count occurrences, group and order the results by the parent taxon.                            | <https://w.wiki/4VG9> |\n",
    "| Which compounds with known bioactivities were isolated from Actinobacteria, between 2014 and 2019, with related organisms and references? | <https://w.wiki/4VGC> |\n",
    "| Which compounds labeled as terpenoids were found in _Aspergillus_ species, between 2010 and 2020, with related references?                | <https://w.wiki/4VGD> |\n",
    "| Which are the available referenced structure-organism pairs on Wikidata? (example limited to 1000 results)                                | <https://w.wiki/4VFh> |\n",
    "\n",
    ":::\n",
    "{#table2}"
   ]
  },
  {
   "cell_type": "markdown",
   "metadata": {},
   "source": [
    "The queries presented in [Table 2](#table2) are only selected examples, and many other ways of interrogating LOTUS can be formulated. Generic queries can be used, for example, for hypothesis generation when starting a research project. For instance, a generic SPARQL query - listed in [Table 2](#table2) as “Which are the available referenced structure-organism pairs on Wikidata?” - retrieves all structures, identified by their InChIKey ([P235](https://www.wikidata.org/wiki/Property:P235)), which contain ‘found in taxon’ ([P703](https://www.wikidata.org/wiki/Property:P703)) statements that are stated in ([P248](https://www.wikidata.org/wiki/Property:P248)) a bibliographic reference: <https://w.wiki/4VFh>. Data can then be exported in various formats, such as classical tabular formats, json, or html tables (see Download tab on the lower right of the query frame). At the time of writing (2021-12-20), this query (without the LIMIT 1000) returned 951,800 entries; a frozen query result is available at <https://doi.org/10.5281/zenodo.5668854> [@bib105].\n",
    "\n",
    "Targeted queries allowing to interrogate LOTUS data from the perspective of one of the three objects forming the referenced structure-organism pairs can also be built. Users can, for example, retrieve a list of all structures reported from a given organism, such as all structures reported from _Arabidopsis thaliana_ ([Q158695](https://www.wikidata.org/wiki/Q158695)) or its child taxa (<https://w.wiki/4Vcv>). Alternatively, all organisms containing a given chemical can be queried via its structure, such as in the search for all organisms where _β_-sitosterol ([Q121802](https://www.wikidata.org/wiki/Q121802)) was found in (<https://w.wiki/4VFn>). For programmatic access, the [lotus-wikidata-exporter](https://github.com/lotusnprod/lotus-wikidata-exporter) repository also allows data retrieval in RDF format and as TSV tables.\n",
    "\n",
    "To further showcase the possibilities, two additional queries were established (<https://w.wiki/4VGC> and <https://w.wiki/4VGD>). Both queries were inspired by recent literature review works [@bib57; @bib153]. The first work describes compounds found in Actinobacteria, with a biological focus on compounds with reported bioactivity. The second one describes compounds found in _Aspergillus_ spp., with a chemical focus on terpenoids. In both cases, in seconds, the queries allow retrieving a table similar to the ones in the mentioned literature reviews. While these queries are not a direct substitute for manual literature review, they do allow researchers to quickly begin such a review process with a very strong body of relevant references.\n",
    "\n",
    "For a convenient expansion or limitation of the results, certain types of queries such as structure or similarity searches usually exist in molecular electronic resources. As these queries are not natively integrated by SPARQL, they are not readily available for Wikidata exploration. To address such limitation, Galgonek et al. developed an in-house SPARQL engine that allows utilization of Sachem, a high-performance chemical DB cartridge for PostgreSQL for fingerprint-guided substructure and similarity search [@bib66]. The engine is used by the Integrated Database of Small Molecules (IDSM) that operates, among other things, several dedicated endpoints allowing structural search in selected small-molecule datasets via SPARQL [@bib67]. To allow substructure and similarity searches via SPARQL also on compounds from Wikidata, a [dedicated IDSM/Sachem endpoint](https://idsm.elixir-czech.cz/sparql/endpoint/wikidata) was created for the LOTUS project. The endpoint indexes isomeric ([P2017](https://www.wikidata.org/wiki/Property:P2017)) and canonical ([P233](https://www.wikidata.org/wiki/Property:P233)) SMILES code available in Wikidata. To ensure that data is kept up-to-date, SMILES codes are automatically downloaded from Wikidata daily. The endpoint allows users to run [federated queries](https://www.w3.org/TR/sparql11-federated-query) and, thereby, proceed to structure-oriented searches on the LOTUS data hosted at Wikidata. For example, the SPARQL query <https://w.wiki/4VG9> returns a list of all organisms that produce NP with an indolic scaffold. The output is aggregated at the parent taxa level of the containing organisms and ranked by the number of scaffold occurrences.\n",
    "\n",
    "Regarding the versioning aspects, some challenges are implied by the dynamic nature of the Wikidata environment. However, tracking of the data evolution can be achieved in multiple ways and at different levels: at the full Wikidata level, dumps are regularly created (<https://dumps.wikimedia.org/wikidatawiki/entities>) while at the individual entry level the full history of modification can be consulted (see following link for the full edit history of erythromycin for example (<https://www.wikidata.org/w/index.php?title=Q213511&action=history>)).\n",
    "\n",
    "We propose to the users a simple approach to document, version and share the output of queries on the LOTUS data at a defined time point. For this, in addition to sharing the short url of a the SPARQL query (which will return results evolving over time), a simple archiving of the returned table to Zenodo or similar platform can be done. In order to gather results of SPARQL queries, we established [the LOTUS Initiative Community repository](https://zenodo.org/communities/the-lotus-initiative/). The following link allows to directly contribute to the community repository <https://zenodo.org/deposit/new?c=the-lotus-initiative>. For example, the output of this Wikidata SPARQL query <https://w.wiki/4N8G> realized on the 2021-11-10T16:56 can be easily archived and shared in a publication via its DOI [10.5281/zenodo.5668380](https://doi.org/10.5281/zenodo.5668380).\n",
    "\n",
    "## Lotus.naturalproducts.net (LNPN)\n",
    "\n",
    "In the search field of the LNPN interface (<https://lotus.naturalproducts.net>), simple queries can be achieved by typing the molecule name (e.g. [ibogaine](https://lotus.naturalproducts.net/search/simple/ibogaine)) or pasting a SMILES, InChI, InChIKey string, or a Wikidata identifier. All compounds reported from a given organism can be found by entering the organism name at the species or any higher taxa level (e.g. [Tabernanthe iboga](https://lotus.naturalproducts.net/search/simple/Tabernanthe%20iboga)). Compound search by chemical class is also possible.\n",
    "\n",
    "Alternatively, a structure can be directly drawn in the structure search interface (<https://lotus.naturalproducts.net/search/structure>), where the user can also decide on the nature of the structure search (exact, similarity, substructure search). Refined search mode combining multiple search criteria, in particular physicochemical properties, is available in the advanced search interface (<https://lotus.naturalproducts.net/search/advanced>).\n",
    "\n",
    "Within LNPN, LOTUS bulk data can be retrieved as SDF or SMILES files, or as a complete MongoDB dump via <https://lotus.naturalproducts.net/download>. Extensive documentation describing the search possibilities and data entries is available at <https://lotus.naturalproducts.net/documentation>. LNPN can also be queried via the application programming interface (API) as described in the documentation.\n",
    "\n",
    "## Data addition and evolution\n",
    "\n",
    "One major advantage of the LOTUS architecture is that every user has the option to contribute to the NP occurrences documentation effort by adding new or editing existing data. As all LOTUS data applies the SSOT mechanism, reprocessing of previously treated elements is avoided. However, at the moment, the SSOT channels are not open to the public for direct write access to maintain data coherence and evolution of the SSOT scheme. For now, the users can employ the following approaches to add or modify data in LOTUS.\n",
    "\n",
    "### Sources\n",
    "\n",
    "LOTUS data management involves regular re-importing of both current and new data sources. New and edited information from these electronic NP resources will be checked against the SSOT. If absent or different, data will be passed through the curation pipeline and subsequently stored in the SSOT. Accordingly, by contributing to external electronic NP resources, any researcher has a means of providing new data for LOTUS, keeping in mind the inevitable delay between data addition and subsequent inclusion into LOTUS.\n",
    "\n",
    "### Wikidata\n",
    "\n",
    "The currently favored approach to add new data to LOTUS is to create or edit Wikidata entries directly. Newly created or edited data will then be imported into the SSOT. There are several ways to interact with Wikidata which depend on the technical skills of the user and the volume of data to be uploaded/modified.\n",
    "\n",
    "### Pre-requisites\n",
    "\n",
    "While direct Wikidata upload is possible, contributors are encouraged to use the LOTUS curation pipeline as a preliminary step to strengthen the initial data quality. For this, a specific mode of the LOTUS processor can be called (see [Custom mode](https://github.com/lotusnprod/lotus-processor/wiki/Make-commands#custom)). The added data will therefore benefit from the curation and validation stages implemented in the LOTUS processing pipeline.\n",
    "\n",
    "### Manual upload\n",
    "\n",
    "Any researcher interested in reporting NP occurrences can manually add the data directly in Wikidata, without any particular technical knowledge requirement. For this the creation of a Wikidata account and following the [general object editing guidelines](https://www.wikidata.org/wiki/Wikidata:Tours) is advised. Regarding the addition of NP-centered objects (i.e. referenced structure-organisms pairs), users shall refer to the [WikiProject Chemistry/Natural products](https://www.wikidata.org/wiki/Wikidata:WikiProject_Chemistry/Natural_products) group page.\n",
    "\n",
    "A tutorial for the manual creation and upload of a referenced structure-organism pair to Wikidata is available in [Supplementary file 2](#supp2).\n",
    "\n",
    "### Batch and automated upload\n",
    "\n",
    "Through the initial curation process described previously, 750,000+ referenced structure-organism pairs were validated for Wikidata upload. To automate this process, a set of programs were written to automatically process the curated outputs, group references, organisms and compounds, check if they are already present in Wikidata (using SPARQL and direct Wikidata querying) and insert or update the entities as needed (i.e. upserting). These scripts can be used for future batch upload of properly curated and referenced structure-organism pairs to Wikidata. Programs for data addition to Wikidata can be found in the repository [lotus-wikidata-interact](https://github.com/lotusnprod/lotus-wikidata-interact). The following [Xtools page](https://xtools.wmflabs.org/ec/www.wikidata.org/NPImporterBot) offers an overview of the latest activity performed by our [NPimporterBot](https://www.wikidata.org/wiki/User:NPImporterBothttps:/www.wikidata.org/wiki/User:NPImporterBot), using those programs.\n",
    "\n",
    "## Data editing\n",
    "\n",
    "Even if correct at a given time point, scientific advances can invalidate or update previously uploaded data. Thus, the possibility to continuously edit the data is desirable and guarantees data quality and sustainability. Community-maintained knowledge bases such as Wikidata encourage such a process. Wikidata presents the advantage of allowing both manual and automated correction. Field-specific robots such as [SuccuBot](https://www.wikidata.org/wiki/User:SuccuBot), [KrBot](https://www.wikidata.org/wiki/User:KrBot), [Pi_bot](https://www.wikidata.org/wiki/User:Pi_bot) and [ProteinBoxBot](https://www.wikidata.org/wiki/User:ProteinBoxBot) or our [NPimporterBot](https://www.wikidata.org/wiki/User:NPImporterBot) went through an approval process. The robots are capable of performing thousands of edits without the need for human input. This automation helps reduce the amount of incorrect data that would otherwise require manual editing. However, manual curation by human experts remains irreplaceable as a standard. Users who value this approach and are interested in contributing are invited to follow the manual curation tutorial in [Supplementary file 2](#supp2).\n",
    "\n",
    "The [Scholia platform](https://scholia.toolforge.org) provides a visual interface to display the links among Wikidata objects such as researchers, topics, species or chemicals. It now provides an interesting way to view the chemical compounds found in a given biological organism (see here for the metabolome view of [Eurycoma longifolia](https://scholia.toolforge.org/taxon/Q311710)). If Scholia currently does not offer a direct editing interface for scientific references, it still allows users to proceed to convenient batch editing via [QuickStatements](https://www.wikidata.org/wiki/Help:QuickStatements). The adaptation of such a framework to edit the referenced structure-pairs in the LOTUS initiative could thus facilitate the capture of future expert curation, especially manual efforts that cannot be replaced by automated scripts.\n",
    "\n",
    "## Data interpretation\n",
    "\n",
    "To illustrate the nature and dimensions of the LOTUS dataset, some selected examples of data interpretation are shown. First, the distribution of chemical structures among four important NP reservoirs: plants, fungi, animals, and bacteria (Table 3). Then, the distribution of biological organisms according to the number of related chemical structures and likewise the distribution of chemical structures across biological organisms are illustrated (Figure 4). Furthermore, the individual electronic NP resources participation in LOTUS data is resumed using the UpSet plot depiction, which allows the visualization of intersections in data sets (Figure 5). Across these figures we take again the two previous examples, i.e, _β_-sitosterol as chemical structure and _Arabidopsis thaliana_ as biological organism because of their well-documented statuses. Finally, a biologically interpreted chemical tree and a chemically-interpreted biological tree are presented (Figures 6 and 7). The examples illustrate the overall chemical and biological coverage of LOTUS by linking family-specific classes of chemical structures to their taxonomic position. Table 3, Figures 4, 6 and 7 were generated using the frozen data (2021-12-20 timestamp), which is available for download at <https://doi.org/10.5281/zenodo.5794106> [@bib102]. Figure 5 required a dataset containing information from closed resources and the complete data used for its generation is therefore not available for public distribution. All scripts used for the generation of the figures are available in the [lotus-processor](https://github.com/lotusnprod/lotus-processor) repository in the [src/4_visualizing](https://github.com/lotusnprod/lotus-processor/tree/main/src/4_visualizing) directory for reproducibility."
   ]
  },
  {
   "cell_type": "code",
   "execution_count": null,
   "metadata": {},
   "outputs": [],
   "source": [
    "# Loading python dependencies\n",
    "import pickle\n",
    "import sys\n",
    "\n",
    "from collections import Counter\n",
    "from cmcrameri import cm\n",
    "from faerun import Faerun\n",
    "from map4 import MAP4Calculator\n",
    "from rdkit.Chem import AllChem\n",
    "from time import sleep\n",
    "\n",
    "import matplotlib.colors as mcolors\n",
    "import numpy as np\n",
    "import pandas as pd\n",
    "import scipy.stats as ss\n",
    "import tmap as tm"
   ]
  },
  {
   "cell_type": "code",
   "execution_count": null,
   "metadata": {},
   "outputs": [],
   "source": [
    "# Enabling the %%R magic\n",
    "%load_ext rpy2.ipython "
   ]
  },
  {
   "cell_type": "code",
   "execution_count": null,
   "metadata": {},
   "outputs": [],
   "source": [
    "%%R # Loading R dependencies\n",
    "library(data.table)\n",
    "library(dplyr)\n",
    "library(forcats)\n",
    "library(ggalluvial)\n",
    "library(ggfittext)\n",
    "library(ggplot2)\n",
    "library(ggtree)\n",
    "library(ggtreeExtra)\n",
    "library(ggstar)\n",
    "library(ggnewscale)\n",
    "library(parallel)\n",
    "library(pbmcapply)\n",
    "library(philentropy)\n",
    "library(readr)\n",
    "library(rotl)\n",
    "library(splitstackshape)\n",
    "library(tidyr)\n",
    "library(UpSetR)"
   ]
  },
  {
   "cell_type": "markdown",
   "metadata": {},
   "source": [
    "## Distribution of chemical structures across reported biological organisms in LOTUS\n",
    "\n",
    "[Table 3](#table3) summarizes the distribution of chemical structures and their chemical classes (according to NPClassifier [@bib64]) across the biological organisms reported in LOTUS. For this, biological organisms were grouped into four artificial taxonomic levels (plants, fungi, animals, and bacteria). These were built by combining the two highest taxonomic levels in the OTL taxonomy, namely Domain and Kingdom levels. “Plants” corresponded to “Eukaryota_Archaeplastida”, “Fungi” to “Eukaryota_Fungi”, “Animals” to “Eukaryota_Metazoa” and “Bacteria” to “Bacteria_NA”. The category corresponding to “Eukaryota_NA” mainly contained Algae, but also other organisms such as Amoebozoa and was therefore excluded. This represented less than 1% of all entries. The details of this process are available under [src/3_analyzing/structure_taxon_distribution.R](https://github.com/lotusnprod/lotus-processor/blob/main/src/3_analyzing/structure_taxon_distribution.R). When the chemical structure/class was reported only in one taxonomic grouping, it was counted as ‘specific’.\n"
   ]
  },
  {
   "cell_type": "markdown",
   "metadata": {},
   "source": [
    "table: Table 3.\n",
    ":::\n",
    "### Distribution and specificity of chemical structures across four important NP reservoirs: plants, fungi, animals, and bacteria.\n",
    "\n",
    "When the chemical structure/class appeared only in one group and not the three others, they were counted as ‘specific’. Chemical classes were attributed with NPClassifier.\n",
    "\n",
    "| Group        | Organisms | 2D Structure-Organism pairs | 2D chemical structures | Specific 2D chemical structures | Chemical classes | Specific chemical classes |\n",
    "| ------------ | --------- | --------------------------- | ---------------------- | ------------------------------- | ---------------- | ------------------------- |\n",
    "| **Plantae**  | 28,439    | 342,891                     | 95,191                 | 90,672 (95%)                    | 545              | 59 (11%)                  |\n",
    "| **Fungi**    | 4,003     | 36,950                      | 22,594                 | 20,194 (89%)                    | 417              | 19 (5%)                   |\n",
    "| **Animalia** | 2,716     | 24,114                      | 15,242                 | 11,822 (78%)                    | 455              | 14 (3%)                   |\n",
    "| **Bacteria** | 1,555     | 23,198                      | 15,895                 | 14,130 (89%)                    | 385              | 43 (11%)                  |\n",
    "\n",
    ":::\n",
    "{#table3}"
   ]
  },
  {
   "cell_type": "markdown",
   "metadata": {},
   "source": [
    "## Distributions of organisms per structure and structures per organism\n",
    "\n",
    "Readily achievable outcomes from LOTUS show that the depth of exploration of the world of NP is rather limited: as depicted in Figure 4, on average, three organisms are reported per chemical structure and eleven structures per organism. Notably, half of all structures have been reported from a single organism and half of all studied organisms are reported to contain five or fewer structures. Metabolomics studies suggest that these numbers are heavily underrated [@bib83; @bib133] and indicate that a better reporting of the metabolites detected in the course of NP chemistry investigations should greatly improve coverage.\n",
    "\n",
    "This incomplete coverage may be partially explained by the habit in classical NP journals to accept only new and/or bioactive chemical structures for publication. Another possible explanation is the fact that specific chemical classes have been under heavier scrutiny by the natural products community than others. For example, alkaloids have three specific characteristics which favor their reporting in the literature. First, they are often endowed with potent biological activities making them a target in the frame of pharmacognosy research. Second, their chemical nature makes them readily accessible from complex biological matrices through acido-basic extraction. Third, they ionize greatly in positive MS mode, which makes their detection even at a very low concentration possible, where other compounds present in much higher concentrations are not detected. It is thus a complex task to answer the following question: “Is the currently observed repartition of alkaloids across the tree of life a reflection of their true biological occurrence or is this repartition biased by the aforementioned characteristics of this chemical class?” While the LOTUS initiative does not allow yet disentangling the bias from the true occurrence, it should offer sound and strong foundations for such challenging research problematic.\n",
    "\n",
    "Another obvious explanation for the limited coverage (see [Figure 4](#fig4)) is the fact that most of the chemical structures in LOTUS have been physically isolated and described. This is an extremely time-consuming effort that can obviously not be carried on all metabolites of all biological organisms. Here, the sensitivity of mass spectrometry and the ever-increasing efficiency of computational metabolite annotation solutions could offer a strong take. The documentation of metabolite annotation results obtained on large collections of biological matrices and the associated metadata within knowledge graphs offers exciting perspectives regarding the possibilities to expand both the chemical and biological coverage of the LOTUS data in a feasible manner."
   ]
  },
  {
   "cell_type": "markdown",
   "metadata": {},
   "source": [
    "figure: Figure 4.\n",
    ":::\n",
    "### Distribution of ‘structures per organism’ and ‘organisms per structure’.\n",
    "The number of organisms linked to the planar structure of β-sitosterol (KZJWDPNRJALLNS) and the number of chemical structures in _Arabidopsis thaliana_ are two exemplary highlights. _A. thaliana_ contains 687 different short InChIKeys (i.e. 2D structures) and KZJWDPNRJALLNS is reported in 3979 distinct organisms. Less than 10% of the species contain more than 80% of the structural diversity present within LOTUS. In parallel, 80% of the species present in LOTUS are linked to less than 10% of the structures. The figure is available under the CC0 license at <https://commons.wikimedia.org/wiki/File:Lotus_initiative_1_structure_organism_distribution.svg>.\n",
    "\n",
    "![fig4](https://upload.wikimedia.org/wikipedia/commons/2/2a/Lotus_initiative_1_structure_organism_distribution.svg)\n",
    ":::\n",
    "{#fig4}"
   ]
  },
  {
   "cell_type": "markdown",
   "metadata": {},
   "source": [
    "## Contribution of individual electronic NP resources to LOTUS\n",
    "\n",
    "The added value of the LOTUS initiative to assemble multiple electronic NP resources is illustrated in [Figure 5](#fig5): Panel A shows the contributions of the individual electronic NP resources to the ensemble of chemical structures found in one of the most studied vascular plants, _Arabidopsis thaliana_ (“Mouse-ear cress”; [Q147096](https://www.wikidata.org/wiki/Q147096)). Panel B shows the ensemble of taxa reported to contain the planar structure of the widely occurring triterpenoid _β_-sitosterol ([Q121802](https://www.wikidata.org/wiki/Q121802))."
   ]
  },
  {
   "cell_type": "markdown",
   "metadata": {},
   "source": [
    "figure: Figure 5.\n",
    ":::\n",
    "### UpSet plots of the individual contribution of electronic NP resources to the planar structures found in _Arabidopsis thaliana_ (**A**) and to organisms reported to contain the planar structure of β-sitosterol (KZJWDPNRJALLNS) (**B**).\n",
    "UpSet plots are evolved Venn diagrams, allowing to represent intersections between multiple sets. The horizontal bars on the lower left represent the number of corresponding entries per electronic NP resource. The dots and their connecting line represent the intersection between source and consolidate sets. The vertical bars indicate the number of entries at the intersection. For example, 479 organisms containing the planar structure of β-sitosterol are present in both UNPD and NAPRALERT, whereas each of them respectively reports 1349 and 2330 organisms containing the planar structure of β-sitosterol. The figure is available under the CC0 license at <https://commons.wikimedia.org/wiki/File:Lotus_initiative_1_upset_plot.svg>.\n",
    "\n",
    "![fig5](https://upload.wikimedia.org/wikipedia/commons/c/c9/Lotus_initiative_1_upset_plot.svg)\n",
    ":::\n",
    "{#fig5}"
   ]
  },
  {
   "cell_type": "markdown",
   "metadata": {},
   "source": [
    "[Figure 5A](#fig5) also shows that according to NPClassifier, the ‘chemical pathway’ category distribution across electronic NP resources is not conserved. Note that NPClassifier and ClassyFire [@bib29] chemical classification results are both available as metadata in the frozen LOTUS export and LNPN. Both classification tools return a chemical taxonomy for individual structures, thus allowing their grouping at higher hierarchical levels, in the same way as it is done for biological taxonomies. The UpSet plot in [Figure 5](#fig5) indicates the poor overlap of preexisting electronic NP resources and the added value of an aggregated dataset. This is particularly well illustrated in [Figure 5B](#fig5)., where the number of organisms for which the planar structure of _β_-sitosterol (KZJWDPNRJALLNS) has been reported is shown for each intersection. NAPRALERT has by far the highest number of entries (2330 in total), while other electronic NP resources complement this well: e.g. UNPD has 573 reported organisms with _β_-sitosterol that do not overlap with any other resource. Of note, _β_-sitosterol is documented in only 13 organisms in the DNP, highlighting the importance of a better systematic reporting of ubiquitous metabolites and the interest of multiple data sources agglomeration.\n",
    "\n",
    "## A biologically interpreted chemical tree\n",
    "\n",
    "The chemical diversity captured in LOTUS is here displayed using TMAP ([Figure 6](#fig6)), a visualization library allowing the structural organization of large chemical datasets as a minimum spanning tree [@bib93]. Using Faerun, an interactive HTML file is generated to display metadata and molecule structures by embedding the SmilesDrawer library [@bib91; @bib92]. Planar structures were used for all compounds to generate the TMAP (chemical space tree-map) using MAP4 encoding [@bib17]. As the tree organizes structures according to their molecular fingerprint, an anticipated coherence between the clustering of compounds and the mapped NPClassifier chemical class is observed ([Figure 6A](#fig6).). For clarity, some of the most represented chemical classes of LOTUS plus quassinoids and stigmastane steroids are mapped, with examples of a quassinoid (NXZXPYYKGQCDRO) (light green star) and a stigmastane steroid (KZJWDPNRJALLNS) (dark green diamond) and their corresponding location in the TMAP."
   ]
  },
  {
   "cell_type": "code",
   "execution_count": null,
   "metadata": {},
   "outputs": [],
   "source": [
    "# interactive tmap\n",
    "tmap_path = \"https://metabo-store.nprod.net/tmap/index.html\"\n",
    "from IPython.display import IFrame    \n",
    "IFrame(tmap_path, width=900, height=650)"
   ]
  },
  {
   "cell_type": "markdown",
   "metadata": {},
   "source": [
    "figure: Figure 6.\n",
    ":::\n",
    "### TMAP visualizations of the chemical diversity present in LOTUS.\n",
    "Each dot corresponds to a chemical structure. A highly specific quassinoid (NXZXPYYKGQCDRO) (light green star) and an ubiquitous stigmastane steroid (KZJWDPNRJALLNS) (dark green diamond) are mapped as examples in all visualizations. In panel A., compounds (dots) are colored according to the NPClassifier chemical class they belong to. In panel B., compounds that are mostly reported in the Simaroubaceae family are highlighted in blue. Finally, in panel C., the compounds are colored according to the specificity score of chemical classes found in biological organisms. This biological specificity score at a given taxonomic level for a given chemical class is calculated as a [Jensen-Shannon divergence](https://en.wikipedia.org/wiki/Jensen%E2%80%93Shannon_divergence). A score of 1 suggests that compounds are highly specific, 0 that they are ubiquitous. Zooms on a group of compounds of high biological specificity score (in pink) and on compounds of low specificity (blue) are depicted. An interactive HTML visualization of the LOTUS TMAP is available at <https://lotus.nprod.net/post/lotus-tmap/> and archived at <https://doi.org/10.5281/zenodo.5801807> [@bib101]. The figure is available under the CC0 license at <https://commons.wikimedia.org/wiki/File:Lotus_initiative_1_biologically_interpreted_chemical_tree.svg>.\n",
    "\n",
    "![fig6](https://upload.wikimedia.org/wikipedia/commons/3/3f/Lotus_initiative_1_biologically_interpreted_chemical_tree.svg)\n",
    ":::\n",
    "{#fig6}"
   ]
  },
  {
   "cell_type": "markdown",
   "metadata": {},
   "source": [
    "To explore relationships between chemistry and biology, it is possible to map taxonomical information such as the most reported biological family per chemical compound ([Figure 6B](#fig6).) or the biological specificity of chemical classes ([Figure 6C](#fig6).) on the TMAP. The biological specificity score at a given taxonomic level for a given chemical class is calculated as a [Jensen-Shannon divergence](https://en.wikipedia.org/wiki/Jensen%E2%80%93Shannon_divergence). A score of 1 suggests that compounds are highly specific, 0 that they are ubiquitous. For more details, see [3_analyzing/jensen_shannon_divergence.R](https://github.com/lotusnprod/lotus-processor/blob/main/src/3_analyzing/jensen_shannon_divergence.R). This visualization allows to highlight chemical classes specific to a given taxon, such as the quassinoids in the Simaroubaceae family. In this case, it is striking to see how well the compounds of a given chemical class (quassinoids) ([Figure 6A](#fig6).) and the most reported plant family per compound (Simaroubaceae) ([Figure 6B](#fig6).) overlap. This is also evidenced on [Figure 6C](#fig6). with a Jensen-Shannon divergence of 0.99 at the biological family level for quassinoids. In this plot, it is also possible to identify chemical classes that are widely spread among living organisms, such as the stigmastane steroids, which exhibit a Jensen-Shannon divergence of 0.73 at the biological family level. This means that repartition of stigmastane steroids among families is not specific. [Figure 7—figure supplement 1](#fig7s1) further supports this statement.\n",
    "\n",
    "## A chemically interpreted biological tree\n",
    "\n",
    "An alternative view of the biological and chemical diversity covered by LOTUS is illustrated in [Figure 7](#fig7). Here, chemical compounds are not organized but biological organisms are placed in their taxonomy. To limit bias due to under-reporting in the literature and keep a reasonable display size, only families with at least 50 reported compounds were included. Organisms were classified according to the OTL taxonomy and structures according to NPClassifier. The tips were labeled according to the biological family and colored according to their biological kingdom. The bars represent structure specificity of the most characteristic chemical class of the given biological family (the higher the more specific). This specificity score was a [Jaccard index](https://en.wikipedia.org/wiki/Jaccard_index) between the chemical class and the biological family. For more details, see [4_visualizing/plot_magicTree.R](https://github.com/lotusnprod/lotus-processor/blob/main/src/4_visualizing/plot_magicTree.R)."
   ]
  },
  {
   "cell_type": "markdown",
   "metadata": {},
   "source": [
    "figure: Figure 7.\n",
    ":::\n",
    "### LOTUS provides new means of exploring and representing chemical and biological diversity.\n",
    "The tree generated from current LOTUS data builds on biological taxonomy and employs the kingdom as tips label color (only families containing 50+ chemical structures were considered). The outer bars correspond to the most specific chemical class found in the biological family. The height of the bar is proportional to a specificity score corresponding to a [Jaccard index](https://en.wikipedia.org/wiki/Jaccard_index) between the chemical class and the biological family. The bar color corresponds to the chemical pathway of the most specific chemical class in the NPClassifier classification system. The size of the leaf nodes corresponds to the number of genera reported in the family. The figure is vectorized and zoomable for detailed inspection and is available under the CC0 license at <https://commons.wikimedia.org/wiki/File:Lotus_initiative_1_chemically_interpreted_biological_tree.svg>.\n",
    "\n",
    "![fig7](https://upload.wikimedia.org/wikipedia/commons/a/a9/Lotus_initiative_1_chemically_interpreted_biological_tree.svg)\n",
    ":::\n",
    "{#fig7}"
   ]
  },
  {
   "cell_type": "markdown",
   "metadata": {},
   "source": [
    "figure: Figure 7 supplement.\n",
    ":::\n",
    "### Distribution of _β_-sitosterol and related chemical parents among families with at least 50 reported compounds present in LOTUS.\n",
    "Script used for the generation of each tree in the figure is the same ([src/4_visualizing/plot_magicTree.R](https://github.com/lotusnprod/lotus-processor/blob/main/src/4_visualizing/plot_magicTree.R)) as for [Figure 7](#fig7) as both figures are related. The figure is available under CC0 license at <https://commons.wikimedia.org/wiki/File:Lotus_initiative_1_chemically_interpreted_biological_tree_supplement.svg>\n",
    "\n",
    "![fig7s1](https://upload.wikimedia.org/wikipedia/commons/3/3b/Lotus_initiative_1_chemically_interpreted_biological_tree_supplement.svg)\n",
    ":::\n",
    "{#fig7s1}"
   ]
  },
  {
   "cell_type": "markdown",
   "metadata": {},
   "source": [
    "[Figure 7](#fig7) makes it possible to spot highly specific compound classes such as trinervitane terpenoids in the Termitidae, the rhizoxin macrolides in the Rhizopodaceae, or the quassinoids and limonoids typical, respectively, of Simaroubaceae and Meliaceae. Similarly, tendencies of more generic occurrence of NP can be observed. For example, within the fungal kingdom, Basidiomycotina appear to have a higher biosynthetic specificity toward terpenoids than other fungi, which mostly focus on polyketides production. As explained previously, [Figure 7](#fig7) is highly dependent of the data reported in literature. As also illustrated in [Figure 4](#fig4), some compounds can be over-studied among several organisms, and many organisms studied for specific compounds only. This is a direct consequence of the way the NP community reports its data actually. Having this in mind, when observed at a finer scale, down to the structure level, such chemotaxonomic representation can give valuable insights. For example, among all chemical structures, only two were found in all biological kingdoms, namely heptadecanoic acid (KEMQGTRYUADPNZ-UHFFFAOYSA-N) and _β_-carotene (OENHQHLEOONYIE-JLTXGRSLSA-N). Looking at the distribution of _β_-sitosterol (KZJWDPNRJALLNS-VJSFXXLFSA-N) within the overall biological tree, [Figure 7—figure supplement 1](#fig7s1) plots its presence/absence _versus_ those of its superior chemical classifications, namely the stigmastane, steroid and terpenoid derivatives, over the same tree used in [Figure 7](#fig7). The comparison of these five chemically interpreted biological trees clearly highlights the increasing speciation of the _β_-sitosterol biosynthetic pathway in the Archaeplastida kingdom, while the superior classes are distributed across all kingdoms. [Figure 7](#fig7) is zoomable and vectorized for detailed inspection.\n",
    "\n",
    "As illustrated, the possibility of data interrogation at multiple precision levels, from fully defined chemical structures to broader chemical classes, is of great interest, for example, for taxonomic and evolution studies. This makes LOTUS a unique resource for the advancement of chemotaxonomy, a discipline pioneered by Augustin Pyramus de Candolle and pursued by other notable researchers (Robert Hegnauer, Otto R. Gottlieb) [@bib39; @bib45; @bib15]. Six decades after Hegnauer’s publication of ‘Die Chemotaxonomie der Pflanzen’ [@bib46] much remains to be done for the advancement of this field of study and the LOTUS initiative aims to provide a solid basis for researchers willing to pursue these exciting explorations at the interface of chemistry, biology and evolution.\n",
    "\n",
    "As shown recently in the context of spectral annotation [@bib32], lowering the precision level of the annotation allows a broader coverage along with greater confidence. Genetic studies investigating the pathways involved and the organisms carrying the responsible biosynthetic genes would be of interest to confirm the previous observations. These forms of data interpretation exemplify the importance of reporting not only new structures, but also novel occurrences of known structures in organisms as comprehensive chemotaxonomic studies are pivotal for a better understanding of the metabolomes of living organisms.\n",
    "\n",
    "The integration of multiple knowledge sources, for example genetics for NP producing gene clusters [@bib58] combined to taxonomies and occurrences DB, also opens new opportunities to understand if an organism is responsible for the _biosynthesis_ of a NP or merely _contains_ it. This understanding is of utmost importance for the chemotaxonomic field and will help to understand to which extent microorganisms (endosymbionts) play a role in host development and its NP expression potential [@bib111].\n",
    "\n",
    "## Conclusion and Perspectives\n",
    "\n",
    "### Advancing natural products knowledge\n",
    "\n",
    "At its current development stage, data harmonized and curated throughout the LOTUS initiative remains imperfect and, by the very nature of research, at least partially biased (see Introduction). In the context of bioactive NP research, and due to global editorial practices, it should not be ignored that many publications tend to emphasize new compounds and/or those for which interesting bioactivity has been measured. Near-ubiquitous (primarily plant-based) compounds, if broadly bioactive, tend to be overrepresented in the NP literature, yet the implication of their wide distribution in nature and associated patterns of non-specific activity are often underappreciated [@bib8]. Ideally, all characterized compounds independent of structural novelty and/or bioactivity profile should be documented, and the sharing of verified structure-organism pairs is fundamental to the advancement of NP research.\n",
    "\n",
    "The LOTUS initiative provides a framework for rigorous review and incorporation of new records and already presents a valuable overview of the distribution of NP occurrences studied to date. While current data presents a reasonable approximation of the chemistries of a few well-studied organisms such as _Arabidopsis thaliana_, it remains patchy for many other organisms represented in the dataset. Community participation is the most efficient means of achieving a better documentation of NP occurrences, and the comprehensive editing opportunities provided within LOTUS and through the associated Wikidata distribution platform open new opportunities for such collaborative engagement. In addition to facilitating the introduction of new data, it also provides a forum for critical review of existing data (see an example of a Wikidata Talk page [here](https://www.wikidata.org/wiki/Talk:Q104916955)), as well as harmonization and verification of existing NP datasets as they come online.\n",
    "\n",
    "### Fostering FAIRness and TRUSTworthiness\n",
    "\n",
    "The LOTUS harmonized data and dissemination of referenced structure-organism pairs through Wikidata, enables novel forms of queries and transformational perspectives in NP research. As LOTUS follows the guidelines of FAIRness and TRUSTworthiness, all researchers across disciplines can benefit from this opportunity, whether the interest is in ecology and evolution, chemical ecology, drug discovery, biosynthesis pathway elucidation, chemotaxonomy, or other research fields connected with NP.\n",
    "\n",
    "Researchers worldwide uniformly acknowledge the limitations caused by the intrinsic unavailability of essential (raw) data [@bib7]. In addition to being FAIR, LOTUS data is also open with a clear license, while closed data is still a major impediment to advancement of science [@bib82]. The lack of progress in such direction is partly due to elements in the dissemination channels of the classical print and static PDF publication formats that complicate or sometimes even discourage data sharing, for example, due to page limitations and economically motivated mechanisms, including those involved in the focus on and calculation of journal impact factors. In particular raw data such as experimental readings, spectroscopic data, instrumental measurements, statistical, and other calculations are valued by all, but disseminated by only very few. The immense value of raw data and the desire to advance the public dissemination has recently been documented in detail for nuclear magnetic resonance (NMR) spectroscopic data by a large consortium of NP researchers [@bib77]. However, to generate the vital flow of contributed data, the effort associated with preparing and submitting content to open repositories as well as data reuse should be better acknowledged in academia, government, regulatory, and industrial environments [@bib23; @bib22; @bib88]. The introduction of LOTUS provides here a new opportunity to advance the FAIR guiding principles for scientific data management and stewardship [@bib142].\n",
    "\n",
    "### Opening new perspectives for spectral data\n",
    "\n",
    "The possibilities for expansion and future applications of the Wikidata-based LOTUS initiative are significant. For example, properly formatted spectral data (e.g. obtained by MS or NMR) can be linked to the Wikidata entries of the originating chemical compounds. MassBank [@bib51] and SPLASH [@bib145] identifiers are already reported in Wikidata, and this existing information can be used to report MassBank or SPLASH records for example for _Arabidopsis thaliana_ compounds (<https://w.wiki/3PJD>). Such possibilities will help to bridge experimental data results obtained during the early stages of NP research with data that has been reported and formatted in different contexts. This opens exciting perspectives for structural dereplication, NP annotation, and metabolomic analysis. The authors have previously demonstrated that taxonomically informed metabolite annotation is critical for the improvement of the NP annotation process [@bib99]. Alternative approaches linking structural annotation to biological organisms have also shown substantial improvements [@bib50]. In this context, the LOTUS initiative offers new opportunities for linking chemical objects to both their biological occurrences and spectral information and should significantly facilitate such applications.\n",
    "\n",
    "### Integrating chemodiversity, biodiversity, and human health\n",
    "\n",
    "As shown in [Figure 7—figure supplement 1](#fig7s1), observing the chemical and biological diversity at various granularities offers new insights. Regarding the chemical objects involved, it will be important to document the taxonomies of chemical annotations for the Wikidata entries. However, this is a rather complex task, for which stability and coverage issues will have to be addressed first. Existing chemical taxonomies such as ChEBI, ClassyFire, or NPClassifier are evolving steadily, and it will be important to constantly update the tools used to make further annotations. [Promising efforts](https://www.wikidata.org/wiki/User:SCIdude/Modeling#Chemical_ontology) have been undertaken to automate the inclusion of Wikidata structures into a chemical ontology. Such approach exploits the [SMILES](https://www.wikidata.org/wiki/Q466769) and [SMARTS](https://www.wikidata.org/wiki/Q7544680) associated properties to infer a chemical classification for the structure. See for example, the entry related to [emericellolide B](https://www.wikidata.org/wiki/Q77573987). Repositioning NP within their greater biosynthetic context is another major challenge - and active field of research. The fact that the LOTUS initiative disseminates its data through Wikidata will help facilitate further integration with biological pathway knowledge bases such as [WikiPathways](https://www.wikipathways.org/index.php/WikiPathways) and contribute to this complex task [@bib76; @bib118].\n",
    "\n",
    "In the field of ecology, molecular traits are gaining increased attention [@bib59; @bib114; @bib124]. The LOTUS architecture can help to associate classical plant traits (e.g. leaf surface area, photosynthetic capacities, etc.) with Wikidata biological organisms entries, and, thus, allow their integration and comparison with chemicals that are associated with the organisms. Likewise, the association of biogeography data documented in repositories such as GBIF could be further exploited in Wikidata to pursue the exciting but understudied topic of ‘chemodiversity hotspots’ [@bib27].\n",
    "\n",
    "Other NP-related information of great interest remains poorly formatted. One example of such a shortcoming relates to traditional medicine (and the field studying it: ethnomedicine and ethnobotany), which is the historical and empiric approach of mankind to discover and use bioactive products from Nature, primarily plants. The amount of knowledge generated in human history on the use of medicinal substances represents a fascinating yet underutilized amount of information. Notably, the body of literature on the pharmacology and toxicology of NP is compound-centric, increases steadily, and relatively scattered, but still highly relevant for exploring the role and potential utility of NP for human health. To this end, the LOTUS initiative represents a potential framework for new concepts by which such information could be valued and conserved in the digital era [@bib4; @bib20; @bib21]. This underscores the transformative value of the LOTUS initiative for the advancement of traditional medicine and its interest for drug discovery in health systems worldwide.\n",
    "\n",
    "### Shortcomings and challenges\n",
    "\n",
    "Despite these strong advantages, the establishment and functioning of the LOTUS curation pipeline is not devoid of defaults and we list hereafter some of the observed shortcomings and associated challenges.\n",
    "\n",
    "First, the LOTUS processing pipeline is heavy. It includes many dependencies and is convoluted. We tried to simplify the process and associated programs as much as possible but they remain consequent. This is the consequence of the heterogeneous nature of the source information and the number of successive operations required to process the data.\n",
    "\n",
    "Second, while the overall objective of the LOTUS processing pipeline is to increase data quality, the pipeline also _transforms_ data during the process, and, in some cases, data quality can be degraded or errors can be propagated. For example, regarding the chemical objects, the processing pipeline performs a systematic sanitization step that includes salt removal, uncharging of molecules and dimers resolving. We decided to apply this step systematically after observing a high ratio of artifacts within salts, charged or dimeric molecules. This thus implies that correct salts, charged or dimeric molecules in the input data will suffer an unwanted ‘sanitization’ step. Also, the LOTUS processing step uses external libraries and tools for the automated ‘name to structure’ and ‘structure to name’ translations. These remain challenging as they rely on sets of predefined rules which do not cover all cases and can commonly lead to incorrect translations.\n",
    "\n",
    "On the biological organisms curation side, we are aware of shortcomings, whether inherent to specific inputs or regarding limitations of the general process. Regarding inputs, some cases are clearly not resolvable except through human curation. For example, the word Lotus can refer both to the genus of a plant of the Fabaceae family (<https://www.wikidata.org/wiki/Q3645698>) or to the vernacular name of _Nelumbo nucifera_ (<https://www.wikidata.org/wiki/Q16528>). In fact, the name of the LOTUS Initiative comes, in part, from this taxonomic curiosity - and the challenge for its automated curation. To give another striking illustration, _Ficus variegata_ corresponds both to a plant (<https://www.wikidata.org/wiki/Q5446649>) and to a mollusc (<https://www.wikidata.org/wiki/Q502030>). For specific names coming from traditional Chinese medicine or other sources using vernacular names, translation was dependent on hand curated dictionaries, which are clearly not exhaustive. Additionally, it is noteworthy to remind that the validation of the processed entries relies in part on partly imperfect rules, thus leading to erroneous entries in the output data. However, we also deliberately kept those rules restrictive in order to overall favor quality over quantity (see [Figure 2](#fig2)).\n",
    "\n",
    "Thus, despite our efforts, there is no doubt that incorrect structure-organism pairs have been uploaded on Wikidata (and some correct ones have not). We however expect that the editing facilities offered by this platform and community efforts will, over time, improve data quality.\n",
    "\n",
    "### Summary and outlook\n",
    "\n",
    "Despite these challenges, the various facets discussed above connect with ongoing and future developments that the tandem of the LOTUS initiative and its Wikidata integration can accommodate through a broader knowledge base. The information of the LOTUS initiative is already readily accessible by third party projects build on top of Wikidata such as the SLING project (<https://github.com/ringgaard/sling>, see entry for [gliotoxin](https://ringgaard.com/kb/Q413364)) or the Plant Humanities Lab project (<https://lab.plant-humanities.org>, see entry for [Ilex guayusa](https://search.plant-humanities.org/?eid=wd%3AQ3772280) in the ‘From Related Items’ section). LOTUS data has also been integrated to PubChem (<https://pubchem.ncbi.nlm.nih.gov/source/25132>) to complement the natural products related metadata of this major chemical DB. For an example, see [Gentiana lutea](https://pubchem.ncbi.nlm.nih.gov/taxonomy/38851#section=Natural-Products).\n",
    "\n",
    "Behind the scenes, all underlying resources represent data in a multidimensional space and can be extracted as individual graphs, which can then be interconnected. The craft of appropriate federated queries allows users to navigate these graphs and fully exploit their potential [@bib131; @bib66]. The development of interfaces such as RDFFrames [@bib79] will also facilitate the use of the wide arsenal of existing machine learning approaches to automate reasoning on these knowledge graphs.\n",
    "\n",
    "Overall, the LOTUS initiative aims to make more and better data available. While we did our best to ensure high data quality, the current processing pipeline still removes a lot of correct entries and misses or induces some incorrect ones. Aware of those imperfections, our project hopefully paves the way for the establishment of an open, durable and expandable electronic NP resource. The design and efforts of the LOTUS initiative reflect our conviction that the integration of NP research results is long-needed and requires a truly open and FAIR approach to information dissemination, with high quality data directly flowing from its source to public knowledge bases. We believe that the LOTUS initiative has the potential to fuel a virtuous cycle of research habits and, as a result, _contribute to a better understanding of Life and its chemistry_.\n",
    "\n",
    "# Materials and methods\n",
    "\n",
    "table: Key resources table\n",
    ":::\n",
    "\n",
    "| Reagent type (species) or resource | Designation                         | Source or reference                                                            | Identifiers                                                                                                              | Additional information                                                                       |\n",
    "| ---------------------------------- | ----------------------------------- | ------------------------------------------------------------------------------ | ------------------------------------------------------------------------------------------------------------------------ | -------------------------------------------------------------------------------------------- |\n",
    "| Software, algorithm                | Lotus-processor code                | This work (<https://github.com/lotusnprod/lotus-processor>, [@bib108])         |                                                                                                                          | Archived at <https://doi.org/10.5281/zenodo.5802107>                                         |\n",
    "| Software, algorithm                | Lotus-web code                      | This work (<https://github.com/lotusnprod/lotus-web>, [@bib109])               |                                                                                                                          | Archived at <https://doi.org/10.5281/zenodo.5802119>                                         |\n",
    "| Software, algorithm                | Lotus-wikidata-interact code        | This work (<https://github.com/lotusnprod/lotus-wikidata-interact>, [@bib110]) |                                                                                                                          | Archived at <https://doi.org/10.5281/zenodo.5802113>                                         |\n",
    "| Software, algorithm                | Global Names Architeture            | <https://globalnames.org>                                                      | QID:[Q65691453](https://www.wikidata.org/wiki/Q65691453)                                                                 | See Additional executable files                                                              |\n",
    "| Software, algorithm                | Java                                | <https://www.java.com>                                                         | QID:[Q251](https://www.wikidata.org/wiki/Q251)                                                                           |                                                                                              |\n",
    "| Software, algorithm                | Kotlin                              | <https://kotlinlang.org>                                                       | QID:[Q3816639](https://www.wikidata.org/wiki/Q3816639)                                                                   | See Kotlin packages                                                                          |\n",
    "| Software, algorithm                | Manubot                             | <https://manubot.org>                                                          | QID:[Q96473455](https://www.wikidata.org/wiki/Q96473455) RRID:[SCR_018553](https://identifiers.org/RRID/RRID:SCR_018553) | Repository available at <https://github.com/lotusnprod/lotus-manuscript>                     |\n",
    "| Software, algorithm                | NPClassifier                        | <https://npclassifier.ucsd.edu>                                                |                                                                                                                          | See <https://doi.org/10.1021/acs.jnatprod.1c00399>                                           |\n",
    "| Software, algorithm                | OPSIN                               | <https://github.com/dan2097/opsin>                                             | QID:[Q26481302](https://www.wikidata.org/wiki/Q26481302)                                                                 | See Additional executable files                                                              |\n",
    "| Software, algorithm                | Python Programming Language         | <https://www.python.org>                                                       | QID:[Q28865](https://www.wikidata.org/wiki/Q28865) RRID:[SCR_008394](https://identifiers.org/RRID/RRID:SCR_008394)       | See Python packages                                                                          |\n",
    "| Software, algorithm                | R Project for Statistical Computing | <https://www.r-project.org>                                                    | QID:[Q206904](https://www.wikidata.org/wiki/Q206904) RRID:[SCR_001905](https://identifiers.org/RRID/RRID:SCR_001905)     | See R packages                                                                               |\n",
    "| Software, algorithm                | Molconvert                          | <https://docs.chemaxon.com/display/docs/molconvert.md>                         | QID:[Q55377678](https://www.wikidata.org/wiki/Q55377678)                                                                 | See Chemical structures                                                                      |\n",
    "| Software, algorithm                | Wikidata                            | <https://www.wikidata.org>                                                     | QID:[Q2013](https://www.wikidata.org/wiki/Q2013) RRID:[SCR_018492](https://identifiers.org/RRID/RRID:SCR_018492)         | Project page <https://www.wikidata.org/wiki/Wikidata:WikiProject_Chemistry/Natural_products> |\n",
    "| Other                              | Lotus custom dictionaries           | This work                                                                      |                                                                                                                          | Archived at <https://doi.org/10.5281/zenodo.5801798>                                         |\n",
    "| Other                              | Chemical identifier resolver        | <https://cactus.nci.nih.gov/chemical/structure>                                |                                                                                                                          | See Chemical structures                                                                      |\n",
    "| Other                              | CrossRef                            | <https://www.crossref.org>                                                     | QID:[Q5188229](https://www.wikidata.org/wiki/Q5188229) RRID:[SCR_003217](https://identifiers.org/RRID/RRID:SCR_003217)   | See References                                                                               |\n",
    "| Other                              | PubChem                             | <https://pubchem.ncbi.nlm.nih.gov>                                             | QID:[Q278487](https://www.wikidata.org/wiki/Q278487) RRID:[SCR_004284](https://identifiers.org/RRID/RRID:SCR_004284)     | LOTUS data <https://pubchem.ncbi.nlm.nih.gov/source/25132>                                   |\n",
    "| Other                              | PubMed                              | <https://pubmed.ncbi.nlm.nih.gov>                                              | QID:[Q180686](https://www.wikidata.org/wiki/Q180686) RRID:[SCR_004846](https://identifiers.org/RRID/RRID:SCR_004846)     | See References                                                                               |\n",
    "| Other                              | Taxonomic data sources              | <https://resolver.globalnames.org/data_sources>                                |                                                                                                                          | See Translation                                                                              |\n",
    "| Other                              | Natural Products data sources       |                                                                                |                                                                                                                          | See Appendix 1                                                                               |\n",
    "\n",
    ":::\n",
    "{#keyresource}\n",
    "\n",
    "## Data gathering\n",
    "\n",
    "Before their inclusion, the overall quality of the source was manually assessed to estimate, both, the quality of referenced structure-organism pairs and the lack of ambiguities in the links between data and references. This led to the identification of thirty-six electronic NP resources as valuable LOTUS input. Data from the proprietary Dictionary of Natural Products (DNP v 29.2) was also used for comparison purposes only and is not publicly disseminated. [FooDB](https://foodb.ca) was also curated but not publicly disseminated since its license proscribed sharing in Wikidata. Appendix 1 gives all necessary details regarding electronic NP resources access and characteristics.\n",
    "\n",
    "Manual inspection of each electronic NP resource revealed that the structure, organism, and reference fields were widely variable in format and contents, thus requiring standardization to be comparable. The initial stage consisted of writing tailored scripts that are capable of harmonizing and categorizing knowledge from each source ([Figure 1](#fig1)). This transformative process led to three categories: fields relevant to the chemical structure described, to the producing biological organism, and the reference describing the occurrence of the chemical structure in the producing biological organism. This process resulted in categorized columns for each source, providing an initial harmonized format for each table.\n",
    "\n",
    "For all thirty-eight sources, if a single file or multiple files were accessible via a download option including FTP, data was gathered that way. For some sources, data was scraped (cf. Appendix 1). All scraping scripts can be found in the [lotus-processor](https://github.com/lotusnprod/lotus-processor) repository in the [src/1_gathering](https://github.com/lotusnprod/lotus-processor/tree/main/src/1_gathering) directory (under each respective subdirectory). Data extraction scripts for the DNP are available and should allow users with a DNP license only to further exploit the data ([src/1_gathering/db/dnp](https://github.com/lotusnprod/lotus-processor/tree/main/src/1_gathering/db/dnp)). The chemical structure fields, organism fields, and reference fields were manually categorized into three, two, and ten subcategories, respectively. For chemical structures, “InChI”, “SMILES”, and “chemical name” (not necessarily IUPAC). For organisms, “clean” and “dirty”, meaning lot text not referred to the canonical name was present or the organism was not described by its canonical name (e.g. “Compound isolated from the fresh leaves of _Citrus_ spp.”). For the references, the original reference was kept in the “original” field. When the format allowed it, references were divided into: “authors”, “doi”, “external”, “isbn”, “journal”, “original”, “publishing details”, “pubmed”, “title”, “split”. The generic “external” field was used for all external cross-references to other websites or electronic NP resources (e.g. “also in knapsack”). The last subcategory, “split”, corresponds to a still non-atomic field after the removal of parts of the original reference. Other field titles are self-explanatory. The producing organism field was kept as a single field.\n",
    "\n",
    "## Data harmonization\n",
    "\n",
    "To perform the harmonization of all previously gathered sources, sixteen columns were chosen as described above. Upon electronic NP resources harmonization, resulting subcategories were divided and subject to further processing. The ‘chemical structure’ fields were divided into files according to their subcategories (“InChI”, “names” and “SMILES”). A file containing all initial structures from all three subcategories was also generated. The same procedure was followed for organisms and references.\n",
    "\n",
    "## Data processing\n",
    "\n",
    "To obtain an unambiguously referenced structure-organism pair for Wikidata dissemination, the initial sixteen columns were translated and processed into three fields: the reported structure, the organism canonical name, and the reference. The structure was reported as InChI, together with its SMILES and InChIKey translation. The biological organism field was reported as three minimal necessary and sufficient fields, namely its canonical name and the taxonID and taxonomic DB corresponding to the latter. The reference was reported as four minimal fields, namely reference title, DOI, PMCID, and PMID, one being sufficient. For the forthcoming translation processes, automated solutions were used when available. However, for specific cases (common or vernacular names of the biological organisms, Traditional Chinese Medicine (TCM) names, and conversion between digital reference identifiers), no solution existed, thus requiring the use of tailored dictionaries. Their construction is detailed in the Dictionaries section. The initial entries (containing one or multiple producing organisms per structure, with one or multiple accepted names per organism) were processed into 2M+ referenced structure-organism pairs.\n",
    "\n",
    "## Chemical structures\n",
    "\n",
    "To retrieve as much information as possible from the original structure field(s) of each of the sources, the following procedure was followed. Allowed structural fields for the sources were divided into two types: structural (InChI, SMILES) or nominal (chemical name, not necessarily IUPAC). If multiple fields were present, structural identifiers were preferred over structure names. Among structural identifiers, when both identifiers were present, SMILES was preferred over InChI. InChI were translated to SMILES using the [@bib95] implementation in Python 3.8 ([src/2_curating/2_editing/structure/1_translating/inchi.py](https://github.com/lotusnprod/lotus-processor/tree/main/src/2_curating/2_editing/structure/1_translating/inchi.py)). They were first converted to [ROMol](https://www.rdkit.org/docs/cppapi/ROMol_8h.html#details) objects which were then converted to SMILES. When no structural identifier was available, the nominal identifier was translated to InChI first thanks to [OPSIN](https://github.com/dan2097/opsin) [@bib73], a fast Java-based translation open-source solution. If no translation was obtained, chemical names were then submitted to the PUG-REST, the interface for programmatic access to PubChem [@bib62; @bib61]. If again no translation was obtained, candidates were then submitted to the [Chemical Identifier Resolver](https://cactus.nci.nih.gov). Before the translation process, some typical chemical structure-related greek characters (such as _α_, _ß_) were replaced by their textual equivalents (alpha, beta) to obtain better results. All pre-translation steps are included in the preparing_name function and are available in [src/r/preparing_name.R](https://github.com/lotusnprod/lotus-processor/tree/main/src/r/preparing_name.R).\n",
    "\n",
    "The chemical sanitization step sought to standardize the representation of chemical structures coming from different sources. It consisted of three main stages (standardizing, fragment removal, and uncharging) achieved _via_ the MolVS package. The initial standardizer function consists of six stages (RDKit Sanitization, RDKit Hs removal, Metals Disconnection, Normalization, Acids Reionization, and Stereochemistry recalculation) detailed in the [molvs documentation](https://molvs.readthedocs.io/en/latest/guide/standardize.html). In a second step, the FragmentRemover functionality was applied using a list of SMARTS to detect and remove common counterions and crystallization reagents sometimes occurring in the input DB. Finally, the Uncharger function was employed to neutralize molecules when appropriate.\n",
    "\n",
    "[Molconvert](https://docs.chemaxon.com/display/docs/molconvert.md) function of the MarvinSuite was used for traditional and IUPAC names translation, Marvin 20.19, [ChemAxon](https://www.chemaxon.com). When stereochemistry was not fully defined, (+) and (-) symbols were removed from names. All details are available in the following script: [src/2_curating/2_editing/structure/4_enriching/naming.R](https://github.com/lotusnprod/lotus-processor/tree/main/src/2_curating/2_editing/structure/4_enriching/naming.R). Chemical classification of all resulting structures was done using classyfireR [@bib29] and [NPClassifier API](https://ccms-ucsd.github.io/GNPSDocumentation/api/#structure-np-classifier).\n",
    "\n",
    "After manual evaluation, structures remaining as dimers were discarded (all structures containing a “.” in their SMILES were removed).\n",
    "\n",
    "From the 283,267 initial InChI, 242,068 (85%) sanitized structures were obtained, of which 185,929 (77%) had complete stereochemistry defined. A total of 203,718 (72%) were uploaded to Wikidata. From the 248,185 initial SMILES, 207,658 (84%) sanitized structures were obtained, of which 98,685 (48%) had complete stereochemistry defined. 174,091 (70%) were uploaded to Wikidata. From the 49,675 initial chemical names, 27,932 (56%) sanitized structures were obtained, of which 17,460 (63%) had complete stereochemistry defined. 23,036 (46%) were uploaded to Wikidata. In total, 163,800 structures with fully defined stereochemistry were uploaded as “chemical compounds” ([Q11173](https://www.wikidata.org/wiki/Q11173)), and 106,669 structures without fully defined stereochemistry were uploaded as “group of stereoisomers” ([Q59199015](https://www.wikidata.org/wiki/Q59199015)).\n",
    "\n",
    "## Biological organisms\n",
    "\n",
    "The processing at the biological organism’s level had three objectives: convert the original organism string to (a) taxon name(s), atomize fields containing multiple taxon names, and deduplicate synonyms. The original organism strings were treated with [Global Names Finder](https://github.com/gnames/gnfinder) (GNF) and [Global Names Verifier](https://github.com/gnames/gnverifier) (GNV), both tools coming from the [Global Names Architecture](http://globalnames.org) (GNA) a system of web services that helps people to register, find, index, check, and organize biological scientific names and interconnect on-line information about species. GNF allows scientific name recognition within raw text blocks and searches for found scientific names among public taxonomic DB. GNV takes names or lists of names and verifies them against various biodiversity data sources. Canonical names, their taxonID, and the taxonomic DB they were found in were retrieved. When a single entry led to multiple canonical names (accepted synonyms), all of them were kept. Because both GNF and GNV recognize scientific names and not common ones, common names were translated before a second resubmission.\n",
    "\n",
    "## Dictionaries\n",
    "\n",
    "To perform the translations from common biological organism name to latin scientific name, specialized dictionaries included in DrDuke, FooDB, PhenolExplorer were aggregated together with the translation dictionary of [GBIF Backbone Taxonomy](https://www.gbif.org/dataset/d7dddbf4-2cf0-4f39-9b2a-bb099caae36c). The script used for this was [src/1_gathering/translation/common.R](https://github.com/lotusnprod/lotus-processor/tree/main/src/1_gathering/translation/common.R). When the canonical translation of a common name contained a specific epithet that was not initially present, the translation pair was discarded (for example, “Aloe” translated in “_Aloe vera_” was discarded). Common names corresponding to a generic name were also discarded (for example “Kiwi” corresponding to the synonym of an _Apteryx_ spp. (<https://www.gbif.org/species/4849989>)). When multiple translations were given for a single common name, the following procedure was followed: the canonical name was split into species name, genus name, and possible subnames. For each common name, genus names and species names were counted. If both the species and genus names were consistent at more than 50%, they were considered consistent overall and, therefore, kept (for example, “Aberrant Bush Warbler” had “_Horornis flavolivaceus_” and “_Horornis flavolivaceus intricatus_” as translation; as both the generic (“_Horornis_”) and the specific (“_flavolivaceus_”) epithets were consistent at 100%, both (“_Horornis flavolivaceus_”) were kept). When only the generic epithet had more than 50% consistency, it was kept (for example, “Angelshark” had “_Squatina australis_” and “_Squatina squatina_” as translation, so only “_Squatina_” was kept). Some unspecific common names were removed (see <https://doi.org/10.5281/zenodo.5801816>[@bib100]) and only common names with more than three characters were kept. This resulted in 181,891 translation pairs further used for the conversion from common names to scientific names. For TCM names, translation dictionaries from TCMID, TMMC, and coming from the Chinese Medicine Board of Australia were aggregated. The script used for this was [src/1_gathering/translation/tcm.R](https://github.com/lotusnprod/lotus-processor/tree/main/src/1_gathering/translation/tcm.R). Some unspecific common names were removed (see <https://doi.org/10.5281/zenodo.5801816>[@bib100]). Careful attention was given to the Latin genitive translations and custom dictionaries were written (see <https://doi.org/10.5281/zenodo.5801816>[@bib100]). Organ names of the producing organism were removed to avoid wrong translation (see <https://doi.org/10.5281/zenodo.5801816>[@bib100]). This resulted in 7,070 translation pairs. Both common and TCM translation pairs were then ordered by decreasing string length, first translating the longer names to avoid part of them being translated incorrectly.\n",
    "\n",
    "## Translation\n",
    "\n",
    "To ensure compatibility between obtained taxonID with Wikidata, the taxonomic DB 3 ([ITIS](https://www.itis.gov)), 4 ([NCBI](https://www.ncbi.nlm.nih.gov/taxonomy)), 5 ([Index Fungorum](http://www.indexfungorum.org)), 6 ([GRIN Taxonomy for Plants](http://wgb.cimmyt.org/gringlobal/taxon/abouttaxonomy.aspx?language=en&chapter=scope)), 8 ([The Interim Register of Marine and Nonmarine Genera](https://www.irmng.org)), 9 ([World Register of Marine Species](http://www.marinespecies.org)), 11 ([GBIF Backbone Taxonomy](https://www.gbif.org)), 12 ([Encyclopedia of Life](https://eol.org)), 118 ([AmphibiaWeb](https://amphibiaweb.org)), 128 ([ARKive](https://www.wildscreen.org/arkive-closure)), 132 ([ZooBank](http://zoobank.org)), 147 ([Database of Vascular Plants of Canada (VASCAN](http://data.canadensys.net/vascan/search)[)](http://data.canadensys.net/vascan/search)), 148 ([Phasmida Species File](http://phasmida.speciesfile.org)), 150 ([USDA NRCS PLANTS Database](https://plants.sc.egov.usda.gov)), 155 ([FishBase](https://www.fishbase.se)), 158 ([EUNIS](https://eunis.eea.europa.eu)), 163 ([IUCN Red List of Threatened Species](https://www.iucnredlist.org)), 164 ([BioLib.cz](https://www.biolib.cz)), 165 ([Tropicos - Missouri Botanical Garden](https://www.tropicos.org)), 167 ([The International Plant Names Index](https://www.ipni.org)), 169 ([uBio NameBank](http://ubio.org)), 174 ([The Mammal Species of The World](https://www.departments.bucknell.edu/biology/resources/msw3)), 175 ([BirdLife International](http://www.birdlife.org)), 179 ([Open Tree of Life](https://tree.opentreeoflife.org)), 180 ([iNaturalist](https://www.inaturalist.org)), and 187 ([The eBird/Clements Checklist of Birds of the World](https://ebird.org/science/use-ebird-data/the-ebird-taxonomy)) were chosen. All other available taxonomic DB are listed at <http://index.globalnames.org/datasource>. To retrieve as much information as possible from the original organism field of each of the sources, the following procedure was followed: First, a scientific name recognition step, allowing us to retrieve canonical names was carried ([src/2_curating/2_editing/organisms/subscripts/1_processingOriginal.R](https://github.com/lotusnprod/lotus-processor/tree/main/src/2_curating/2_editing/organisms/subscripts/1_processingOriginal.R)). Then, a subtraction step of the obtained canonical names from the original field was applied, to avoid unwanted translation of parts of canonical names. For example, _Bromus mango_ contains “mango” as a specific epithet, which is also the common name for _Mangifera indica_. After this subtraction step, the remaining names were translated from vernacular (common) and TCM names to scientific names, with help of the dictionaries. For performance reasons, this processing step was written in Kotlin and used coroutines to allow efficient parallelization of that process ([src/2_curating/2_editing/organisms/2_translating_organism_kotlin/](https://github.com/lotusnprod/lotus-processor/tree/main/src/2_curating/2_editing/organisms/2_translating_organism_kotlin/)). They were subsequently submitted again to scientific name recognition ([src/2_curating/2_editing/organisms/3_processingTranslated.R](http://src/2_curating/2_editing/organisms/3_processingTranslated.R)).\n",
    "\n",
    "After full resolution of canonical names, all obtained names were submitted to rotl [@bib78] to obtain a unified taxonomy. From the 88,395 initial “clean” organism fields, 43,936 (50%) canonical names were obtained, of which 32,285 (37%) were uploaded to Wikidata. From the 300 initial “dirty” organism fields, 250 (83%) canonical names were obtained, of which 208 (69%) were uploaded to Wikidata.\n",
    "\n",
    "ReferenceThe [Rcrossref](https://cran.r-project.org/web/packages/rcrossref) package [@bib18] interfacing with the [Crossref](https://www.crossref.org) API was used to translate references from their original subcategory (“original”, “publishingDetails”, “split”, “title”) to a DOI, the title of its corresponding article, the journal it was published in, its date of publication and the name of the first author. The first twenty candidates were kept and ranked according to the score returned by Crossref, which is a [tf-idf](https://lucene.apache.org/core/8_8_0/core/org/apache/lucene/search/similarities/TFIDFSimilarity.html) score. For DOI and PMID, only a single candidate was kept. All DOIs were also translated with this method, to eventually discard any DOI not leading to an object. PMIDs were translated, thanks to the entrez_summary function of the [rentrez](https://cran.r-project.org/web/packages/rentrez) package [@bib144]. Scripts used for all subcategories of references are available in the directory [src/2_curating/2_editing/reference/1_translating/](https://github.com/lotusnprod/lotus-processor/tree/main/src/2_curating/2_editing/reference/1_translating/). Once all translations were made, results coming from each subcategory were integrated, ([src/2_curating/2_editing/reference/2_integrating.R](https://github.com/lotusnprod/lotus-processor/tree/main/src/2_curating/2_editing/reference/2_integrating.R)) and the producing organism related to the reference was added for further treatment. Because the crossref score was not informative enough, at least one other metric was chosen to complement it. The first metric was related to the presence of the producing organism’s generic name in the title of the returned article. If the title contained the generic name of the organism, a score of 1 was given, else 0. Regarding the subcategories “doi”, “pubmed” and “title”, for which the same subcategory was retrieved _via_ crossref or rentrez, distances between the input’s string and the candidates’ one were calculated. Optimal string alignment (restricted [Damerau-Levenshtein distance](https://en.wikipedia.org/wiki/Damerau%E2%80%93Levenshtein_distance)) was used as a method. Among “publishing details”, “original” and “split” categories, three additional metrics were used: If the journal name was present in the original field, a score of 1 was given, else 0. If the name of the first author was present in the original field, a score of 1 was given, else 0. Those three scores were then summed together. All candidates were first ordered according to their crossref score, then by the complement score for related subcategories, then again according to their title-producing organism score, and finally according to their translation distance score. After this re-ranking step, only the first candidate was kept. Finally, the Pubmed PMCID dictionary ([PMC-ids.csv.gz](https://ftp.ncbi.nlm.nih.gov/pub/pmc/PMC-ids.csv.gz)) was used to perform the translations between DOI, PMID, and PMCID ([src/2_curating/2_editing/reference/3_processing.R](https://github.com/lotusnprod/lotus-processor/tree/main/src/2_curating/2_editing/reference/3_processing.R)).\n",
    "\n",
    "From the 36,710 initial “original” references, 21,970 (60%) references with sufficient quality were obtained, of which 15,588 (71%) had the organism name in their title. 14,710 (40%) were uploaded to Wikidata. From the 21,953 initial “pubmed” references, 9452 (43%) references with sufficient quality were obtained, of which 6,098 (65%) had the organism name in their title. 5553 (25%) were uploaded to Wikidata. From the 37,371 initial “doi” references, 20,139 (54%) references with sufficient quality were obtained, of which 15,727 (78%) had the organism name in their title. 15,351 (41%) were uploaded to Wikidata. From the 29,600 initial “title” references, 17,417 (59%) references with sufficient quality were obtained, of which 12,675 (73%) had the organism name in their title. 10,725 (36%) were uploaded to Wikidata. From the 11,325 initial “split” references, 5856 (52%) references with sufficient quality were obtained, of which 3,206 (55%) had the organism name in their title. 2,854 (25%) were uploaded to Wikidata. From the 3,314 initial “publishingDetails” references, 119 (4%) references with sufficient quality were obtained, of which 59 (50%) had the organism name in their title. 58 (2%) were uploaded to Wikidata.\n",
    "\n",
    "## Data realignment\n",
    "\n",
    "In order to fetch back the referenced structure-organism pairs links in the original data, the processed structures, processed organisms, and processed references were re-aligned with the initial entries. This resulted in 6.2M+ referenced structure-organism pairs. Those pairs were not unique, with redundancies among electronic NP resources and different original categories leading to the same final pair (for example, entry reporting InChI=1/C21H20O12/c22-6-13-15(27)17(29)18(30)21(32-13)33-20-16(28)14-11(26)4-8(23)5-12(14)31-19(20)7-1-2-9(24)10(25)3-7/h1-5,13,15,17–18,21-27,29–30H,6H2/t13-,15+,17+,18-,21+/m1/s1 in _Crataegus oxyacantha_ or InChI=1S/C21H20O12/c22-6-13-15(27)17(29)18(30)21(32-13)33-20-16(28)14-11(26)4-8(23)5-12(14)31-19(20)7-1-2-9(24)10(25)3-7/h1-5,13,15,17–18,21-27,29–30 H,6H2/t13-,15+,17+,18-,21+/m1/s1 in _Crataegus stevenii_ both led to OVSQVDMCBVZWGM-DTGCRPNFSA-N in _Crataegus monogyna_). After deduplication, 2M+ unique structure-organism pairs were obtained.\n",
    "\n",
    "After the curation of all three objects, all of them were put together again. Therefore, the original aligned table containing the original pairs was joined with each curation result. Only entries containing a structure, an organism, and a reference after curation were kept. Each curated object was divided into minimal data (for Wikidata upload) and metadata. A dictionary containing original and curated object translations was written for each object to avoid those translations being made again during the next curation step ([src/2_curating/3_integrating.R](https://github.com/lotusnprod/lotus-processor/tree/main/src/2_curating/3_integrating.R)).\n",
    "\n",
    "## Data validation\n",
    "\n",
    "The pairs obtained after curation were of different quality. Globally, structure and organism translation was satisfactory whereas reference translation was not. Therefore, to assess the validity of the obtained results, a randomized set of 420 referenced structure-organism pairs was sampled in each reference subcategory and validated or rejected manually. Entries were sampled with at least 55 of each reference subcategory present (to get a representative idea of each subcategory) ([src/3_analyzing/1_sampling.R](https://github.com/lotusnprod/lotus-processor/tree/main/src/3_analyzing/1_sampling.R)). An entry was only validated if: (_i_) the structure (as any structural descriptor that could be linked to the final sanitized InChIKey) was described in the reference (_ii_) the producing organism (as any organism descriptor that could be linked to the accepted canonical name) was described in the reference and (_iii_) the reference was describing the occurrence of the chemical structure in the biological organism. Results obtained on the manually analyzed set were categorized according to the initial reference subcategory and are detailed in Appendix 2. To improve these results, further processing of the references was needed. This was done by accepting entries whose reference was coming from a DOI, a PMID, or from a title which restricted Damerau-Levenshtein distance between original and translated was lower than ten or if it was coming from one of the three main journals where NP occurrences are commonly expected to be published (i.e. _Journal of Natural Products_, _Phytochemistry_, or _Journal of Agricultural and Food Chemistry_). For “split”, “publishingDetails” and “original” subcategories, the year of publication of the obtained reference, its journal, and the name of the first author were searched in the original entry and if at least two of them were present, the entry was kept. Entries were then further filtered to keep the ones where the reference title contained the first element of the detected canonical name. Except for COCONUT, exceptions to this filter were made for all DOI-based references. The function resulting from those rules is ([filter_dirty.R](https://github.com/lotusnprod/lotus-processor/blob/main/src/r/filter_dirty.R)). To validate those filtering criteria, an additional set of 100 structure-organism pairs were manually analyzed. F0.5 score was used as a metric. F0.5 score is a modified F1 score where precision has twice more weight than recall. The F-score was calculated with ß = 0.5, as in [Equation 1](#equ1):\n",
    "\n",
    "$$\n",
    "{F}_{\\beta }=\\left(1+{\\beta }^{2}\\right)\\cdot \\frac{precision\\cdot recall}{\\left({\\beta }^{2}\\cdot precision\\right)+recall}\n",
    "$$\n",
    "\n",
    "Based on this first manually validated dataset, filtering criteria ([src/r/filter_dirty.R](https://github.com/lotusnprod/lotus-processor/tree/main/src/r/filter_dirty.R)) were established to maximize precision and recall. Another 100 entries were sampled, this time respecting the whole set ratios. After manual validation, 97% of true positives were reached on the second set. A summary of the validation results is given in Appendix 2. Once validated, the filtering criteria were established to the whole curated set to filter entries chosen for dissemination ([src/3_analyzing/2_validating.R](https://github.com/lotusnprod/lotus-processor/tree/main/src/3_analyzing/2_validating.R)).\n",
    "\n",
    "## Unit testing\n",
    "\n",
    "To provide robustness of the whole process and code, unit tests and partial data full-tests were written. They can run on the developer machine but also on the CI/CD system (GitHub) upon each commit to the codebase.\n",
    "\n",
    "Those tests assess that the functions are providing results coherent with what is expected especially for edge cases detected during the development. The Kotlin code has tests based on JUnit and code quality control checks based on Ktlint, Detekt and Ben Mane’s version plugin.\n",
    "\n",
    "## Data dissemination\n",
    "\n",
    "### Wikidata\n",
    "\n",
    "All the data produced for this work has been made available on Wikidata under a [Creative Commons 0](https://creativecommons.org/publicdomain/zero/1.0) license according to [Wikidata:Licensing](https://www.wikidata.org/wiki/Wikidata:Licensing). This is a “No-rights-reserved” license that places no restrictions on reuse.\n",
    "\n",
    "### Lotus.NaturalProducts.Net (LNPN)\n",
    "\n",
    "The web interface is implemented following the same protocol as described in the COCONUT publication [@bib121] that is the data are stored in a MongoDB repository, the backend runs with Kotlin and Java, using the Spring framework, and the frontend is written in React.js, and completely Dockerized. In addition to the diverse search functions available through this web interface, an API is also implemented, allowing programmatic LNPN querying. The complete API usage is described on the “Documentation” page of the website. LNPN is part of the NaturalProducts.net portal, an initiative aimed at gathering diverse open NP resources in one place.\n",
    "\n",
    "## Data Interaction\n",
    "\n",
    "### Data retrieval\n",
    "\n",
    "Bulk retrieval of a frozen (2021-12-20) version of LOTUS data is also available at <https://doi.org/10.5281/zenodo.5794106> [@bib102].\n",
    "\n",
    "The [download lotus](https://github.com/lotusnprod/lotus-wikidata-interact/blob/main/downloadLotus/README.md) part of [lotus-wikidata-interact](https://github.com/lotusnprod/lotus-wikidata-interact) allows the download of all chemical compounds with a “found in taxon” property. That way, it does not only get the data produced by this work, but any that would have existed beforehand or that would have been added directly on Wikidata by our users. It makes a copy of all the entities (compounds, taxa, references) into a local triplestore that can be queried with SPARQL as is or converted to a TSV file for inclusion in other projects. It is currently adapted to export directly into the SSOT thus allowing direct reuse by the processing/curation pipeline.\n",
    "\n",
    "## Data addition\n",
    "\n",
    "### Wikidata\n",
    "\n",
    "Data is loaded by the Kotlin importer available in the [upload lotus](https://github.com/lotusnprod/lotus-wikidata-interact/blob/main/uploadLotus/README.md) part of [lotus-wikidata-interact](https://github.com/lotusnprod/lotus-wikidata-interact) repository under a GPL V3 license and imported into Wikidata. The importer processes the curated outputs grouping references, organisms, and compounds together. It then checks if they already exist in Wikidata (using SPARQL or a direct connection to Wikidata depending on the kind of data). It then uses _update_ or _insert_, also called _upsert_, the entities as needed. The script currently takes the tabular file of the referenced structure-organism pairs resulting from the LOTUS curation process as input. Before upload, a filtering step is performed in order to avoid re-uploading entries we already uploaded. This way, if modifications occur in Wikidata, it will not be erased by the next iteration of the importer. The importer is currently being adapted to use directly the SSOT and avoid an unnecessary conversion step. To import references, it first double checks for the presence of duplicated DOIs and utilizes the [Crossref REST API](https://www.crossref.org/education/retrieve-metadata/rest-api) to retrieve metadata associated with the DOI, the support for other citation sources such as Europe PMC is in progress. The structure-related fields are only subject to limited processing: basic formatting of the molecular formula by subscripting of the numbers. Due to limitations in Wikidata, the molecule names are dropped if they are longer than 250 characters and likewise the InChI strings cannot be stored if they are longer than 1500 characters.\n",
    "\n",
    "Uploaded taxonomical DB identifiers are currently restricted to ITIS, GBIF, NCBI Taxon, Index Fungorum, IRMNG, WORMS, VASCAN, and iNaturalist, and newly OTL. The taxa levels are currently limited to family, subfamily, tribe, subtribe, genus, species, variety. The importer checks for the existence of each item based on their InChIKey and upserts the compound with the _found in taxon_ statement and the associated organisms and references.\n",
    "\n",
    "### LNPN\n",
    "\n",
    "From the onset, LNPN has been importing data directly from the frozen tabular data of the LOTUS dataset (<https://doi.org/10.5281/zenodo.5794106>[@bib102]). In future versions, LNPN will directly feed on the SSOT.\n",
    "\n",
    "### Data edition\n",
    "\n",
    "The bot framework [lotus-wikidata-interact](https://github.com/lotusnprod/lotus-wikidata-interact) was adapted such that, in addition to batch upload capabilities, it can also edit erroneously created entries on Wikidata. As massive edits have a large potential to disrupt otherwise good data, progressive deployment of this script is used, starting by editing progressively 1, 10, then 100 entries that are manually checked. Upon validation of 100 entries, the full script is run and check its behavior checked at regular intervals. An example of a corrected entry is as follows: <https://www.wikidata.org/w/index.php?title=Q105349871&type=revision&diff=1365519277&oldid=1356145998>.\n",
    "\n",
    "### Curation interface\n",
    "\n",
    "A web-based (Kotlin, Spring Boot for the back-end, and TypeScript with Vue for the front-end) curation interface is currently in construction. It will allow mass-editing of entries and navigate quick navigation in the SSOT for the curation of new and existing entries. This new interface is intended to become open to the public to foster the curation of entries by further means, driven by the users. In line with the overall LOTUS approach, any modification made in this curation interface will be mirrored after validation on Wikidata and LNPN.\n",
    "\n",
    "## Code availability\n",
    "\n",
    "### General repository\n",
    "\n",
    "All programs written for this work can be found in the following group: <https://github.com/lotusnprod>.\n",
    "\n",
    "### Processing\n",
    "\n",
    "The source data curation system is available at <https://github.com/lotusnprod/lotus-processor> (copy archived at [swh:1:rev:78e6065d8eb9d0b0d11c2ea8de6ac66b445bca0e](https://archive.softwareheritage.org/swh:1:dir:06f92b6efba0c694b9ff259ee9406c8269a9bc3f;origin=https://github.com/lotusnprod/lotus-processor;visit=swh:1:snp:816d6826154073ce81ea66e18893029abb53a8e9;anchor=swh:1:rev:78e6065d8eb9d0b0d11c2ea8de6ac66b445bca0e), [@bib108]). This program takes the source data as input and outputs curated data, ready for dissemination. The first step involves checking if the source data has already been processed. If not, all three elements (biological organism, chemical structures, and references) are submitted to various steps of translation and curation, before validation for dissemination.\n",
    "\n",
    "### Wikidata\n",
    "\n",
    "The programs to interact with Wikidata are available at <https://github.com/lotusnprod/lotus-wikidata-interact>, (copy archived at [swh:1:rev:92d19b8995a69f5bba39f438172ba425fdcc0f28](https://archive.softwareheritage.org/swh:1:dir:3c6e7a6d7c939a4ae63ef03a039bd843839ac34f;origin=https://github.com/lotusnprod/lotus-wikidata-interact;visit=swh:1:snp:86ac8009d72baef9426fe2d7cc55fe980e4d3b78;anchor=swh:1:rev:92d19b8995a69f5bba39f438172ba425fdcc0f28), [@bib110]). On the [upload side](https://github.com/lotusnprod/lotus-wikidata-interact/blob/main/uploadLotus/README.md), the program takes the processed data resulting from the lotusProcessor subprocess as input and uploads it to Wikidata. It performs a SPARQL query to check which objects already exist. If needed, it creates the missing objects. It then updates the content of each object. Finally, it updates the chemical compound page with a “found in taxon” statement complemented with a “stated in” reference. A [publication importer](https://github.com/lotusnprod/lotus-wikidata-interact/blob/main/importPublication/README.md) creating an article page from a DOI is also available.\n",
    "\n",
    "On the [download side](https://github.com/lotusnprod/lotus-wikidata-interact/blob/main/downloadLotus/README.md), the program takes the structured data in Wikidata corresponding to chemical compounds found in taxa with a reference associated as input and exports it in both RDF and tabular formats for further use. Two subsequent options are (a) that the end-user can directly use the exported data.; or (b) that the exported data, which can be new or modified since the last iteration, is used as new source data in lotusProcessor.\n",
    "\n",
    "### LNPN\n",
    "\n",
    "The LNPN website and processing system is available at <https://github.com/lotusnprod/lotus-web> (copy archived at [swh:1:rev:278a5ab82389ebd5df720b1876a1724d15937644](https://archive.softwareheritage.org/swh:1:dir:b00de761fdb113deab6cad0143190006edd0181f;origin=https://github.com/lotusnprod/lotus-web;visit=swh:1:snp:aa23783a4ecd32578845345e497259a5fdd78a0c;anchor=swh:1:rev:278a5ab82389ebd5df720b1876a1724d15937644), [@bib109]). This system takes the processed data resulting from the lotusProcessor as input and uploads it on <https://lotus.naturalproducts.net>. The repository is not part of the main GitHub group as it benefits from already established pipelines developed by CS and MS. The website allows searches from different points of view, complemented with taxonomies for both the chemical and biological sides. Many chemical molecular properties and molecular descriptors that otherwise are unavailable in Wikidata are also provided.\n",
    "\n",
    "### Code freezing\n",
    "\n",
    "All repository hyperlinks in the manuscript point to the main branches by default. The links contain all programs and code and will eventually be updated to a publication branch using modifications resulting from the peer-reviewing process. As the code evolves, readers are invited to refer to the main branch of each repository for the most up-to-date code. A frozen version (2021-12-23) of all programs and code is also available in the [LOTUS Zenodo community](https://zenodo.org/communities/the-lotus-initiative) ([!number(5802107)](https://doi.org/10.5281/zenodo.5802107) [@bib107], [!number(5802113)](https://doi.org/10.5281/zenodo.5802113) [@bib9], and [!number(5802120)](https://doi.org/10.5281/zenodo.5802120)[@bib122]).\n",
    "\n",
    "## Programs and packages\n",
    "\n",
    "### R\n",
    "\n",
    "The [R](https://www.r-project.org) versions used for the project were 4.0.2 up to 4.1.2, and R-packages used were, in alphabetical order: ChemmineR (3.42.1) [@bib16], chorddiag (0.1.3) [@bib34], ClassyfireR (0.3.6) [@bib29], data.table (1.14.2) [@bib30], DBI (1.1.1) [@bib140], gdata (2.18.0) [@bib134], ggalluvial (0.12.3) [@bib12], ggfittext (0.9.1) [@bib141], ggnewscale (0.4.5) [@bib14], ggraph (2.0.5) [@bib87], ggstar (1.0.2) [@bib146], ggtree (3.2.0) [@bib149], ggtreeExtra (1.4.0) [@bib147], jsonlite (1.7.2) [@bib86], pbmcapply (1.5.0) [@bib68], plotly (4.10.0) [@bib117], rcrossref(1.1.0.99) [@bib18], readxl (1.3.1) [@bib136], rentrez (1.2.3) [@bib144], rotl (3.0.11) [@bib78], rvest (1.0.2) [@bib138], splitstackshape (1.4.8) [@bib75], RSQLite (2.2.8) [@bib81], stringdist (0.9.8) [@bib72], stringi (1.7.6) [@bib35], tidyverse (1.3.1) [@bib137], treeio (1.18.0) [@bib133], UpSetR (1.4.0) [@bib37], webchem (1.1.1) [@bib123], XML (3.99–0.8) [@bib69], xml2 (1.3.3) [@bib139].\n",
    "\n",
    "### Python\n",
    "\n",
    "The [Python](https://www.python.org) version used was 3.7.12 up to 3.9.7, and the Python packages utilized were, in alphabetical order: cmcrameri (1.4) [@bib25; @bib24], faerun (0.3.20) [@bib91], map4 (1.0) [@bib17], matplotlib (3.5.0) [@bib53], [Molvs](https://github.com/mcs07/MolVS) (0.1.1), pandas (1.3.4) [@bib96], rdkit (2021.09.2) [@bib95], scipy (1.7.3) [@bib130], tmap (1.0.4) [@bib93].\n",
    "\n",
    "### Kotlin\n",
    "\n",
    "Kotlin packages used were as follows: Common: Kotlin 1.4.21 up to 1.6.0, Univocity 2.9.1, OpenJDK 15, Kotlin serialization 1.3.1, konnector 0.1.34, Log4J 2.14.1 Wikidata Importer Bot:, wdkt 0.12.1, CDK 2.5 [@bib143], RDF4J 3.7.4, Ktor 1.6.5, KotlinXCli 0.3.3, Wikidata data processing: Shadow 5.0.0 Quality control and testing: Ktlint 10.2.0, Kotlinter 3.3.0, Detekt 1.15.0, Ben Mane’s version plugin 0.36.0, Junit 5.8.1.\n",
    "\n",
    "### Additional executable files\n",
    "\n",
    "[GNFinder](https://github.com/gnames/gnfinder/releases/tag/v0.16.3) v.0.16.3, [GNVerifier](https://github.com/gnames/gnverifier/releases/tag/v0.6.1) v.0.6.1, [OPSIN](https://github.com/dan2097/opsin/releases/tag/2.5.0) v.2.5.0 [@bib73].\n",
    "\n",
    "## Data availability\n",
    "\n",
    "A snapshot of the obtained data at the time of re-submission (2021-12-20) is available at the following Zenodo community: <https://zenodo.org/communities/the-lotus-initiative> and related record: [!number(5793224)](https://zenodo.org/record/5793224) [@bib106], [!number(5794107)](https://zenodo.org/record/5794107) [@bib104], [!number(5794597)](https://zenodo.org/record/5794597) [@bib103], [!number(5801816)](https://zenodo.org/record/5801816) [@bib100]. The <https://lotus.nprod.net> website is intended to gather news and features related to the LOTUS initiative in the future."
   ]
  },
  {
   "cell_type": "code",
   "execution_count": null,
   "metadata": {},
   "outputs": [],
   "source": []
  }
 ],
 "metadata": {
  "about": [
   {
    "name": "Computational and Systems Biology",
    "type": "DefinedTerm"
   },
   {
    "name": "Ecology",
    "type": "DefinedTerm"
   }
  ],
  "authors": [
   {
    "affiliations": [
     {
      "address": {
       "addressCountry": "Switzerland",
       "type": "PostalAddress"
      },
      "name": "Geneva",
      "type": "Organization"
     },
     {
      "address": {
       "addressCountry": "Switzerland",
       "type": "PostalAddress"
      },
      "name": "Geneva",
      "type": "Organization"
     }
    ],
    "familyNames": [
     "Rutz"
    ],
    "givenNames": [
     "Adriano"
    ],
    "name": "Adriano Rutz",
    "type": "Person"
   },
   {
    "affiliations": [
     {
      "address": {
       "addressCountry": "Germany",
       "type": "PostalAddress"
      },
      "name": "Jena",
      "type": "Organization"
     }
    ],
    "familyNames": [
     "Sorokina"
    ],
    "givenNames": [
     "Maria"
    ],
    "name": "Maria Sorokina",
    "type": "Person"
   },
   {
    "affiliations": [
     {
      "address": {
       "addressCountry": "Czech Republic",
       "type": "PostalAddress"
      },
      "name": "Prague",
      "type": "Organization"
     }
    ],
    "familyNames": [
     "Galgonek"
    ],
    "givenNames": [
     "Jakub"
    ],
    "name": "Jakub Galgonek",
    "type": "Person"
   },
   {
    "affiliations": [
     {
      "address": {
       "addressCountry": "United States",
       "type": "PostalAddress"
      },
      "name": "Montclair",
      "type": "Organization"
     },
     {
      "address": {
       "addressCountry": "Germany",
       "type": "PostalAddress"
      },
      "name": "Berlin",
      "type": "Organization"
     },
     {
      "address": {
       "addressCountry": "United States",
       "type": "PostalAddress"
      },
      "name": "Charlottesville",
      "type": "Organization"
     }
    ],
    "familyNames": [
     "Mietchen"
    ],
    "givenNames": [
     "Daniel"
    ],
    "name": "Daniel Mietchen",
    "type": "Person"
   },
   {
    "affiliations": [
     {
      "address": {
       "addressCountry": "Netherlands",
       "type": "PostalAddress"
      },
      "name": "Maastricht",
      "type": "Organization"
     }
    ],
    "familyNames": [
     "Willighagen"
    ],
    "givenNames": [
     "Egon"
    ],
    "name": "Egon Willighagen",
    "type": "Person"
   },
   {
    "affiliations": [
     {
      "address": {
       "addressCountry": "Switzerland",
       "type": "PostalAddress"
      },
      "name": "Geneva",
      "type": "Organization"
     },
     {
      "address": {
       "addressCountry": "Switzerland",
       "type": "PostalAddress"
      },
      "name": "Geneva",
      "type": "Organization"
     }
    ],
    "familyNames": [
     "Gaudry"
    ],
    "givenNames": [
     "Arnaud"
    ],
    "name": "Arnaud Gaudry",
    "type": "Person"
   },
   {
    "affiliations": [
     {
      "address": {
       "addressCountry": "United States",
       "type": "PostalAddress"
      },
      "name": "Chicago",
      "type": "Organization"
     },
     {
      "address": {
       "addressCountry": "United States",
       "type": "PostalAddress"
      },
      "name": "Chicago",
      "type": "Organization"
     }
    ],
    "familyNames": [
     "Graham"
    ],
    "givenNames": [
     "James",
     "G"
    ],
    "name": "James G Graham",
    "type": "Person"
   },
   {
    "affiliations": [
     {
      "address": {
       "addressCountry": "Canada",
       "type": "PostalAddress"
      },
      "name": "Toronto",
      "type": "Organization"
     }
    ],
    "familyNames": [
     "Stephan"
    ],
    "givenNames": [
     "Ralf"
    ],
    "name": "Ralf Stephan",
    "type": "Person"
   },
   {
    "affiliations": [
     {
      "address": {
       "addressCountry": "United Kingdom",
       "type": "PostalAddress"
      },
      "name": "Glasgow",
      "type": "Organization"
     }
    ],
    "familyNames": [
     "Page"
    ],
    "givenNames": [
     "Roderic"
    ],
    "name": "Roderic Page",
    "type": "Person"
   },
   {
    "affiliations": [
     {
      "address": {
       "addressCountry": "Czech Republic",
       "type": "PostalAddress"
      },
      "name": "Prague",
      "type": "Organization"
     }
    ],
    "familyNames": [
     "Vondrášek"
    ],
    "givenNames": [
     "Jiří"
    ],
    "name": "Jiří Vondrášek",
    "type": "Person"
   },
   {
    "affiliations": [
     {
      "address": {
       "addressCountry": "Germany",
       "type": "PostalAddress"
      },
      "name": "Jena",
      "type": "Organization"
     }
    ],
    "familyNames": [
     "Steinbeck"
    ],
    "givenNames": [
     "Christoph"
    ],
    "name": "Christoph Steinbeck",
    "type": "Person"
   },
   {
    "affiliations": [
     {
      "address": {
       "addressCountry": "United States",
       "type": "PostalAddress"
      },
      "name": "Chicago",
      "type": "Organization"
     },
     {
      "address": {
       "addressCountry": "United States",
       "type": "PostalAddress"
      },
      "name": "Chicago",
      "type": "Organization"
     }
    ],
    "familyNames": [
     "Pauli"
    ],
    "givenNames": [
     "Guido",
     "F"
    ],
    "name": "Guido F Pauli",
    "type": "Person"
   },
   {
    "affiliations": [
     {
      "address": {
       "addressCountry": "Switzerland",
       "type": "PostalAddress"
      },
      "name": "Geneva",
      "type": "Organization"
     },
     {
      "address": {
       "addressCountry": "Switzerland",
       "type": "PostalAddress"
      },
      "name": "Geneva",
      "type": "Organization"
     }
    ],
    "familyNames": [
     "Wolfender"
    ],
    "givenNames": [
     "Jean-Luc"
    ],
    "name": "Jean-Luc Wolfender",
    "type": "Person"
   },
   {
    "affiliations": [
     {
      "address": {
       "addressCountry": "United States",
       "type": "PostalAddress"
      },
      "name": "Chicago",
      "type": "Organization"
     },
     {
      "address": {
       "addressCountry": "United States",
       "type": "PostalAddress"
      },
      "name": "Chicago",
      "type": "Organization"
     }
    ],
    "emails": [
     "bjo@uic.edu"
    ],
    "familyNames": [
     "Bisson"
    ],
    "givenNames": [
     "Jonathan"
    ],
    "name": "Jonathan Bisson",
    "type": "Person"
   },
   {
    "affiliations": [
     {
      "address": {
       "addressCountry": "Switzerland",
       "type": "PostalAddress"
      },
      "name": "Geneva",
      "type": "Organization"
     },
     {
      "address": {
       "addressCountry": "Switzerland",
       "type": "PostalAddress"
      },
      "name": "Geneva",
      "type": "Organization"
     },
     {
      "address": {
       "addressCountry": "Switzerland",
       "type": "PostalAddress"
      },
      "name": "Fribourg",
      "type": "Organization"
     }
    ],
    "emails": [
     "pierre-marie.allard@unifr.ch"
    ],
    "familyNames": [
     "Allard"
    ],
    "givenNames": [
     "Pierre-Marie"
    ],
    "name": "Pierre-Marie Allard",
    "type": "Person"
   }
  ],
  "dateAccepted": {
   "type": "Date",
   "value": "2022-03-22"
  },
  "datePublished": {
   "type": "Date",
   "value": "2022-05-26"
  },
  "dateReceived": {
   "type": "Date",
   "value": "2021-05-28"
  },
  "description": [
   "Contemporary bioinformatic and chemoinformatic capabilities hold promise to reshape knowledge management, analysis and interpretation of data in natural products research. Currently, reliance on a disparate set of non-standardized, insular, and specialized databases presents a series of challenges for data access, both within the discipline and for integration and interoperability between related fields. The fundamental elements of exchange are referenced structure-organism pairs that establish relationships between distinct molecular structures and the living organisms from which they were identified. Consolidating and sharing such information via an open platform has strong transformative potential for natural products research and beyond. This is the ultimate goal of the newly established LOTUS initiative, which has now completed the first steps toward the harmonization, curation, validation and open dissemination of 750,000+ referenced structure-organism pairs. LOTUS data is hosted on Wikidata and regularly mirrored on ",
   {
    "content": [
     "https://lotus.naturalproducts.net"
    ],
    "target": "https://lotus.naturalproducts.net",
    "type": "Link"
   },
   ". Data sharing within the Wikidata framework broadens data access and interoperability, opening new possibilities for community curation and evolving publication models. Furthermore, embedding LOTUS data into the vast Wikidata knowledge graph will facilitate new biological and chemical insights. The LOTUS initiative represents an important advancement in the design and deployment of a comprehensive and collaborative natural products knowledge base."
  ],
  "editors": [
   {
    "affiliations": [
     {
      "name": "Ecuador",
      "type": "Organization"
     }
    ],
    "familyNames": [
     "Donoso"
    ],
    "givenNames": [
     "David",
     "A"
    ],
    "type": "Person"
   }
  ],
  "fundedBy": [
   {
    "funders": [
     {
      "name": "Schweizerischer Nationalfonds zur Förderung der Wissenschaftlichen Forschung",
      "type": "Organization"
     }
    ],
    "identifiers": [
     {
      "type": "PropertyValue",
      "value": "CRSII5_189921"
     }
    ],
    "type": "MonetaryGrant"
   },
   {
    "funders": [
     {
      "name": "Office of Dietary Supplements",
      "type": "Organization"
     }
    ],
    "identifiers": [
     {
      "type": "PropertyValue",
      "value": "P50 AT000155"
     }
    ],
    "type": "MonetaryGrant"
   },
   {
    "funders": [
     {
      "name": "Deutsche Forschungsgemeinschaft",
      "type": "Organization"
     }
    ],
    "identifiers": [
     {
      "type": "PropertyValue",
      "value": 239748522
     }
    ],
    "type": "MonetaryGrant"
   },
   {
    "funders": [
     {
      "name": "Alfred P. Sloan Foundation",
      "type": "Organization"
     }
    ],
    "identifiers": [
     {
      "type": "PropertyValue",
      "value": "G-2019-11458"
     }
    ],
    "type": "MonetaryGrant"
   },
   {
    "funders": [
     {
      "name": "National Center for Complementary and Integrative Health",
      "type": "Organization"
     }
    ],
    "identifiers": [
     {
      "type": "PropertyValue",
      "value": "U41 AT008706"
     }
    ],
    "type": "MonetaryGrant"
   }
  ],
  "genre": [
   "Tools and Resources"
  ],
  "identifiers": [
   {
    "name": "publisher-id",
    "propertyID": "https://registry.identifiers.org/registry/publisher-id",
    "type": "PropertyValue",
    "value": 70780
   },
   {
    "name": "doi",
    "propertyID": "https://registry.identifiers.org/registry/doi",
    "type": "PropertyValue",
    "value": "10.7554/eLife.70780"
   },
   {
    "name": "elocation-id",
    "propertyID": "https://registry.identifiers.org/registry/elocation-id",
    "type": "PropertyValue",
    "value": "e70780"
   }
  ],
  "isPartOf": {
   "isPartOf": {
    "identifiers": [
     {
      "name": "nlm-ta",
      "propertyID": "https://registry.identifiers.org/registry/nlm-ta",
      "type": "PropertyValue",
      "value": "elife"
     },
     {
      "name": "publisher-id",
      "propertyID": "https://registry.identifiers.org/registry/publisher-id",
      "type": "PropertyValue",
      "value": "eLife"
     }
    ],
    "issns": [
     "2050-084X"
    ],
    "publisher": {
     "name": "eLife Sciences Publications, Ltd",
     "type": "Organization"
    },
    "title": "eLife",
    "type": "Periodical"
   },
   "type": "PublicationVolume",
   "volumeNumber": 11
  },
  "kernelspec": {
   "display_name": "Python 3 (ipykernel)",
   "language": "python",
   "name": "python3"
  },
  "keywords": [
   "open science",
   "natural products",
   "Wikidata",
   "knowledge graph",
   "linked data",
   "LOTUS Initiative",
   "Other"
  ],
  "language_info": {
   "codemirror_mode": {
    "name": "ipython",
    "version": 3
   },
   "file_extension": ".py",
   "mimetype": "text/x-python",
   "name": "python",
   "nbconvert_exporter": "python",
   "pygments_lexer": "ipython3",
   "version": "3.9.13"
  },
  "licenses": [
   {
    "content": [
     {
      "content": [
       "This article is distributed under the terms of the ",
       {
        "content": [
         "Creative Commons Attribution License"
        ],
        "target": "http://creativecommons.org/licenses/by/4.0/",
        "type": "Link"
       },
       ", which permits unrestricted use and redistribution provided that the original author and source are credited."
      ],
      "type": "Paragraph"
     }
    ],
    "type": "CreativeWork",
    "url": "http://creativecommons.org/licenses/by/4.0/"
   }
  ],
  "references": [
   {
    "authors": [
     {
      "familyNames": [
       "Afendi"
      ],
      "givenNames": [
       "FM"
      ],
      "type": "Person"
     },
     {
      "familyNames": [
       "Okada"
      ],
      "givenNames": [
       "T"
      ],
      "type": "Person"
     },
     {
      "familyNames": [
       "Yamazaki"
      ],
      "givenNames": [
       "M"
      ],
      "type": "Person"
     },
     {
      "familyNames": [
       "Hirai-Morita"
      ],
      "givenNames": [
       "A"
      ],
      "type": "Person"
     },
     {
      "familyNames": [
       "Nakamura"
      ],
      "givenNames": [
       "Y"
      ],
      "type": "Person"
     },
     {
      "familyNames": [
       "Nakamura"
      ],
      "givenNames": [
       "K"
      ],
      "type": "Person"
     },
     {
      "familyNames": [
       "Ikeda"
      ],
      "givenNames": [
       "S"
      ],
      "type": "Person"
     },
     {
      "familyNames": [
       "Takahashi"
      ],
      "givenNames": [
       "H"
      ],
      "type": "Person"
     },
     {
      "familyNames": [
       "Altaf-Ul-Amin"
      ],
      "givenNames": [
       "M"
      ],
      "type": "Person"
     },
     {
      "familyNames": [
       "Darusman"
      ],
      "givenNames": [
       "LK"
      ],
      "type": "Person"
     },
     {
      "familyNames": [
       "Saito"
      ],
      "givenNames": [
       "K"
      ],
      "type": "Person"
     },
     {
      "familyNames": [
       "Kanaya"
      ],
      "givenNames": [
       "S"
      ],
      "type": "Person"
     }
    ],
    "datePublished": {
     "type": "Date",
     "value": "2012"
    },
    "id": "bib1",
    "identifiers": [
     {
      "name": "doi",
      "propertyID": "https://registry.identifiers.org/registry/doi",
      "type": "PropertyValue",
      "value": "10.1093/pcp/pcr165"
     },
     {
      "name": "pmid",
      "propertyID": "https://registry.identifiers.org/registry/pmid",
      "type": "PropertyValue",
      "value": 22123792
     }
    ],
    "isPartOf": {
     "isPartOf": {
      "name": "Plant & Cell Physiology",
      "type": "Periodical"
     },
     "type": "PublicationVolume",
     "volumeNumber": 53
    },
    "title": "KNApSAcK family databases: integrated metabolite-plant species databases for multifaceted plant research",
    "type": "Article"
   },
   {
    "authors": [
     {
      "familyNames": [
       "Agosti"
      ],
      "givenNames": [
       "D"
      ],
      "type": "Person"
     },
     {
      "familyNames": [
       "Johnson"
      ],
      "givenNames": [
       "NF"
      ],
      "type": "Person"
     }
    ],
    "datePublished": {
     "type": "Date",
     "value": "2002"
    },
    "id": "bib2",
    "identifiers": [
     {
      "name": "doi",
      "propertyID": "https://registry.identifiers.org/registry/doi",
      "type": "PropertyValue",
      "value": "10.1038/417222b"
     },
     {
      "name": "pmid",
      "propertyID": "https://registry.identifiers.org/registry/pmid",
      "type": "PropertyValue",
      "value": 12015570
     }
    ],
    "isPartOf": {
     "isPartOf": {
      "name": "Nature",
      "type": "Periodical"
     },
     "type": "PublicationVolume",
     "volumeNumber": 417
    },
    "title": "Taxonomists need better access to published data",
    "type": "Article"
   },
   {
    "authors": [
     {
      "name": "All natural",
      "type": "Organization"
     }
    ],
    "datePublished": {
     "type": "Date",
     "value": "2007"
    },
    "id": "bib3",
    "identifiers": [
     {
      "name": "doi",
      "propertyID": "https://registry.identifiers.org/registry/doi",
      "type": "PropertyValue",
      "value": "10.1038/nchembio0707-351"
     },
     {
      "name": "pmid",
      "propertyID": "https://registry.identifiers.org/registry/pmid",
      "type": "PropertyValue",
      "value": 17576412
     }
    ],
    "isPartOf": {
     "isPartOf": {
      "name": "Nature Chemical Biology",
      "type": "Periodical"
     },
     "type": "PublicationVolume",
     "volumeNumber": 3
    },
    "title": "All natural",
    "type": "Article"
   },
   {
    "authors": [
     {
      "familyNames": [
       "Allard"
      ],
      "givenNames": [
       "PM"
      ],
      "type": "Person"
     },
     {
      "familyNames": [
       "Bisson"
      ],
      "givenNames": [
       "J"
      ],
      "type": "Person"
     },
     {
      "familyNames": [
       "Azzollini"
      ],
      "givenNames": [
       "A"
      ],
      "type": "Person"
     },
     {
      "familyNames": [
       "Pauli"
      ],
      "givenNames": [
       "GF"
      ],
      "type": "Person"
     },
     {
      "familyNames": [
       "Cordell"
      ],
      "givenNames": [
       "GA"
      ],
      "type": "Person"
     },
     {
      "familyNames": [
       "Wolfender"
      ],
      "givenNames": [
       "JL"
      ],
      "type": "Person"
     }
    ],
    "datePublished": {
     "type": "Date",
     "value": "2018"
    },
    "id": "bib4",
    "identifiers": [
     {
      "name": "doi",
      "propertyID": "https://registry.identifiers.org/registry/doi",
      "type": "PropertyValue",
      "value": "10.1016/j.copbio.2018.02.010"
     },
     {
      "name": "pmid",
      "propertyID": "https://registry.identifiers.org/registry/pmid",
      "type": "PropertyValue",
      "value": 29499476
     }
    ],
    "isPartOf": {
     "isPartOf": {
      "name": "Current Opinion in Biotechnology",
      "type": "Periodical"
     },
     "type": "PublicationVolume",
     "volumeNumber": 54
    },
    "pageEnd": 64,
    "pageStart": 57,
    "title": "Pharmacognosy in the digital era: shifting to contextualized metabolomics",
    "type": "Article"
   },
   {
    "authors": [
     {
      "familyNames": [
       "Allard"
      ],
      "givenNames": [
       "PM"
      ],
      "type": "Person"
     },
     {
      "familyNames": [
       "Bisson"
      ],
      "givenNames": [
       "J"
      ],
      "type": "Person"
     },
     {
      "familyNames": [
       "Rutz"
      ],
      "givenNames": [
       "A"
      ],
      "type": "Person"
     }
    ],
    "datePublished": {
     "type": "Date",
     "value": "2021"
    },
    "id": "bib5",
    "title": "ISDB: In Silico Spectral Databases of Natural Products",
    "type": "Article",
    "url": "https://doi.org/10.5281/zenodo.5607264"
   },
   {
    "authors": [
     {
      "familyNames": [
       "Balietti"
      ],
      "givenNames": [
       "S"
      ],
      "type": "Person"
     },
     {
      "familyNames": [
       "Mäs"
      ],
      "givenNames": [
       "M"
      ],
      "type": "Person"
     },
     {
      "familyNames": [
       "Helbing"
      ],
      "givenNames": [
       "D"
      ],
      "type": "Person"
     }
    ],
    "datePublished": {
     "type": "Date",
     "value": "2015"
    },
    "id": "bib6",
    "identifiers": [
     {
      "name": "doi",
      "propertyID": "https://registry.identifiers.org/registry/doi",
      "type": "PropertyValue",
      "value": "10.1371/journal.pone.0118747"
     },
     {
      "name": "pmid",
      "propertyID": "https://registry.identifiers.org/registry/pmid",
      "type": "PropertyValue",
      "value": 25790025
     }
    ],
    "isPartOf": {
     "isPartOf": {
      "name": "PLOS ONE",
      "type": "Periodical"
     },
     "type": "PublicationVolume",
     "volumeNumber": 10
    },
    "title": "On disciplinary fragmentation and scientific progress",
    "type": "Article"
   },
   {
    "authors": [
     {
      "familyNames": [
       "Bisson"
      ],
      "givenNames": [
       "J"
      ],
      "type": "Person"
     },
     {
      "familyNames": [
       "Simmler"
      ],
      "givenNames": [
       "C"
      ],
      "type": "Person"
     },
     {
      "familyNames": [
       "Chen"
      ],
      "givenNames": [
       "SN"
      ],
      "type": "Person"
     },
     {
      "familyNames": [
       "Friesen"
      ],
      "givenNames": [
       "J"
      ],
      "type": "Person"
     },
     {
      "familyNames": [
       "Lankin"
      ],
      "givenNames": [
       "DC"
      ],
      "type": "Person"
     },
     {
      "familyNames": [
       "McAlpine"
      ],
      "givenNames": [
       "JB"
      ],
      "type": "Person"
     },
     {
      "familyNames": [
       "Pauli"
      ],
      "givenNames": [
       "GF"
      ],
      "type": "Person"
     }
    ],
    "datePublished": {
     "type": "Date",
     "value": "2016"
    },
    "id": "bib7",
    "identifiers": [
     {
      "name": "doi",
      "propertyID": "https://registry.identifiers.org/registry/doi",
      "type": "PropertyValue",
      "value": "10.1039/c6np00022c"
     },
     {
      "name": "pmid",
      "propertyID": "https://registry.identifiers.org/registry/pmid",
      "type": "PropertyValue",
      "value": 27197893
     }
    ],
    "isPartOf": {
     "isPartOf": {
      "name": "Natural Product Reports",
      "type": "Periodical"
     },
     "type": "PublicationVolume",
     "volumeNumber": 33
    },
    "pageEnd": 1033,
    "pageStart": 1028,
    "title": "Dissemination of original NMR data enhances reproducibility and integrity in chemical research",
    "type": "Article"
   },
   {
    "authors": [
     {
      "familyNames": [
       "Bisson"
      ],
      "givenNames": [
       "J"
      ],
      "type": "Person"
     },
     {
      "familyNames": [
       "McAlpine"
      ],
      "givenNames": [
       "JB"
      ],
      "type": "Person"
     },
     {
      "familyNames": [
       "Friesen"
      ],
      "givenNames": [
       "JB"
      ],
      "type": "Person"
     },
     {
      "familyNames": [
       "Chen"
      ],
      "givenNames": [
       "SN"
      ],
      "type": "Person"
     },
     {
      "familyNames": [
       "Graham"
      ],
      "givenNames": [
       "J"
      ],
      "type": "Person"
     },
     {
      "familyNames": [
       "Pauli"
      ],
      "givenNames": [
       "GF"
      ],
      "type": "Person"
     }
    ],
    "datePublished": {
     "type": "Date",
     "value": "2016"
    },
    "id": "bib8",
    "identifiers": [
     {
      "name": "doi",
      "propertyID": "https://registry.identifiers.org/registry/doi",
      "type": "PropertyValue",
      "value": "10.1021/acs.jmedchem.5b01009"
     },
     {
      "name": "pmid",
      "propertyID": "https://registry.identifiers.org/registry/pmid",
      "type": "PropertyValue",
      "value": 26505758
     }
    ],
    "isPartOf": {
     "isPartOf": {
      "name": "Journal of Medicinal Chemistry",
      "type": "Periodical"
     },
     "type": "PublicationVolume",
     "volumeNumber": 59
    },
    "pageEnd": 1690,
    "pageStart": 1671,
    "title": "Can Invalid Bioactives Undermine Natural Product-Based Drug Discovery?",
    "type": "Article"
   },
   {
    "authors": [
     {
      "familyNames": [
       "Bisson"
      ],
      "givenNames": [
       "J"
      ],
      "type": "Person"
     },
     {
      "familyNames": [
       "Rutz"
      ],
      "givenNames": [
       "A"
      ],
      "type": "Person"
     },
     {
      "familyNames": [
       "Allard"
      ],
      "givenNames": [
       "P"
      ],
      "type": "Person"
     }
    ],
    "datePublished": {
     "type": "Date",
     "value": "2021"
    },
    "id": "bib9",
    "title": "lotusnprod/lotus-wikidata-interact",
    "type": "Article",
    "url": "https://doi.org/10.5281/zenodo.5802113"
   },
   {
    "authors": [
     {
      "familyNames": [
       "Blomqvist"
      ],
      "givenNames": [
       "E"
      ],
      "type": "Person"
     },
     {
      "familyNames": [
       "Hose"
      ],
      "givenNames": [
       "K"
      ],
      "type": "Person"
     },
     {
      "familyNames": [
       "Paulheim"
      ],
      "givenNames": [
       "H"
      ],
      "type": "Person"
     },
     {
      "familyNames": [
       "Ławrynowicz"
      ],
      "givenNames": [
       "A"
      ],
      "type": "Person"
     },
     {
      "familyNames": [
       "Ciravegna"
      ],
      "givenNames": [
       "F"
      ],
      "type": "Person"
     },
     {
      "familyNames": [
       "Hartig"
      ],
      "givenNames": [
       "O"
      ],
      "type": "Person"
     }
    ],
    "datePublished": {
     "type": "Date",
     "value": "2017"
    },
    "id": "bib10",
    "publisher": {
     "address": {
      "addressLocality": "Cham",
      "type": "PostalAddress"
     },
     "name": "Springer",
     "type": "Organization"
    },
    "title": "The Semantic Web: ESWC 2017 Satellite Events",
    "type": "Article"
   },
   {
    "authors": [
     {
      "familyNames": [
       "Boonen"
      ],
      "givenNames": [
       "J"
      ],
      "type": "Person"
     },
     {
      "familyNames": [
       "Bronselaer"
      ],
      "givenNames": [
       "A"
      ],
      "type": "Person"
     },
     {
      "familyNames": [
       "Nielandt"
      ],
      "givenNames": [
       "J"
      ],
      "type": "Person"
     },
     {
      "familyNames": [
       "Veryser"
      ],
      "givenNames": [
       "L"
      ],
      "type": "Person"
     },
     {
      "familyNames": [
       "De",
       "Tré"
      ],
      "givenNames": [
       "G"
      ],
      "type": "Person"
     },
     {
      "familyNames": [
       "De",
       "Spiegeleer"
      ],
      "givenNames": [
       "B"
      ],
      "type": "Person"
     }
    ],
    "datePublished": {
     "type": "Date",
     "value": "2012"
    },
    "id": "bib11",
    "identifiers": [
     {
      "name": "doi",
      "propertyID": "https://registry.identifiers.org/registry/doi",
      "type": "PropertyValue",
      "value": "10.1016/j.jep.2012.05.038"
     },
     {
      "name": "pmid",
      "propertyID": "https://registry.identifiers.org/registry/pmid",
      "type": "PropertyValue",
      "value": 22659196
     }
    ],
    "isPartOf": {
     "isPartOf": {
      "name": "Journal of Ethnopharmacology",
      "type": "Periodical"
     },
     "type": "PublicationVolume",
     "volumeNumber": 142
    },
    "pageEnd": 590,
    "pageStart": 563,
    "title": "Alkamid database: Chemistry, occurrence and functionality of plant N-alkylamides",
    "type": "Article"
   },
   {
    "authors": [
     {
      "familyNames": [
       "Brunson"
      ],
      "givenNames": [
       "J"
      ],
      "type": "Person"
     }
    ],
    "datePublished": {
     "type": "Date",
     "value": "2020"
    },
    "id": "bib12",
    "identifiers": [
     {
      "name": "doi",
      "propertyID": "https://registry.identifiers.org/registry/doi",
      "type": "PropertyValue",
      "value": "10.21105/joss.02017"
     }
    ],
    "isPartOf": {
     "isPartOf": {
      "name": "Journal of Open Source Software",
      "type": "Periodical"
     },
     "type": "PublicationVolume",
     "volumeNumber": 5
    },
    "title": "ggalluvial: Layered Grammar for Alluvial Plots",
    "type": "Article"
   },
   {
    "authors": [
     {
      "familyNames": [
       "Campbell"
      ],
      "givenNames": [
       "AK"
      ],
      "type": "Person"
     }
    ],
    "datePublished": {
     "type": "Date",
     "value": "2003"
    },
    "id": "bib13",
    "identifiers": [
     {
      "name": "doi",
      "propertyID": "https://registry.identifiers.org/registry/doi",
      "type": "PropertyValue",
      "value": "10.1046/j.1365-2664.2003.00803.x"
     }
    ],
    "isPartOf": {
     "isPartOf": {
      "name": "Journal of Applied Ecology",
      "type": "Periodical"
     },
     "type": "PublicationVolume",
     "volumeNumber": 40
    },
    "pageEnd": 203,
    "pageStart": 193,
    "title": "Save those molecules! Molecular biodiversity and life*",
    "type": "Article"
   },
   {
    "authors": [
     {
      "familyNames": [
       "Campitelli"
      ],
      "givenNames": [
       "E"
      ],
      "type": "Person"
     }
    ],
    "datePublished": {
     "type": "Date",
     "value": "2021"
    },
    "id": "bib14",
    "title": "ggnewscale: Multiple fill and colour scales in ’ggplot2",
    "type": "Article",
    "url": "https://CRAN.R-project.org/package=ggnewscale"
   },
   {
    "authors": [
     {
      "familyNames": [
       "Candolle"
      ],
      "givenNames": [
       "A",
       "de"
      ],
      "type": "Person"
     }
    ],
    "datePublished": {
     "type": "Date",
     "value": "1816"
    },
    "id": "bib15",
    "identifiers": [
     {
      "name": "doi",
      "propertyID": "https://registry.identifiers.org/registry/doi",
      "type": "PropertyValue",
      "value": "10.5962/bhl.title.112422"
     }
    ],
    "publisher": {
     "address": {
      "addressLocality": "Paris",
      "type": "PostalAddress"
     },
     "name": "Biodiversity Heritage Library",
     "type": "Organization"
    },
    "title": "Essai Sur Les Propriâetâes Mâedicales Des Plantes, Comparâees Avec Leurs Formes Extâerieures et Leur Classification Naturelle /",
    "type": "Article"
   },
   {
    "authors": [
     {
      "familyNames": [
       "Cao"
      ],
      "givenNames": [
       "Y"
      ],
      "type": "Person"
     },
     {
      "familyNames": [
       "Charisi"
      ],
      "givenNames": [
       "A"
      ],
      "type": "Person"
     },
     {
      "familyNames": [
       "Cheng"
      ],
      "givenNames": [
       "LC"
      ],
      "type": "Person"
     },
     {
      "familyNames": [
       "Jiang"
      ],
      "givenNames": [
       "T"
      ],
      "type": "Person"
     },
     {
      "familyNames": [
       "Girke"
      ],
      "givenNames": [
       "T"
      ],
      "type": "Person"
     }
    ],
    "datePublished": {
     "type": "Date",
     "value": "2008"
    },
    "id": "bib16",
    "identifiers": [
     {
      "name": "doi",
      "propertyID": "https://registry.identifiers.org/registry/doi",
      "type": "PropertyValue",
      "value": "10.1093/bioinformatics/btn307"
     },
     {
      "name": "pmid",
      "propertyID": "https://registry.identifiers.org/registry/pmid",
      "type": "PropertyValue",
      "value": 18596077
     }
    ],
    "isPartOf": {
     "isPartOf": {
      "name": "Bioinformatics (Oxford, England)",
      "type": "Periodical"
     },
     "type": "PublicationVolume",
     "volumeNumber": 24
    },
    "pageEnd": 1734,
    "pageStart": 1733,
    "title": "ChemmineR: a compound mining framework for R",
    "type": "Article"
   },
   {
    "authors": [
     {
      "familyNames": [
       "Capecchi"
      ],
      "givenNames": [
       "A"
      ],
      "type": "Person"
     },
     {
      "familyNames": [
       "Probst"
      ],
      "givenNames": [
       "D"
      ],
      "type": "Person"
     },
     {
      "familyNames": [
       "Reymond"
      ],
      "givenNames": [
       "J-L"
      ],
      "type": "Person"
     }
    ],
    "datePublished": {
     "type": "Date",
     "value": "2020"
    },
    "id": "bib17",
    "identifiers": [
     {
      "name": "doi",
      "propertyID": "https://registry.identifiers.org/registry/doi",
      "type": "PropertyValue",
      "value": "10.1186/s13321-020-00445-4"
     },
     {
      "name": "pmid",
      "propertyID": "https://registry.identifiers.org/registry/pmid",
      "type": "PropertyValue",
      "value": 33431010
     }
    ],
    "isPartOf": {
     "isPartOf": {
      "name": "Journal of Cheminformatics",
      "type": "Periodical"
     },
     "type": "PublicationVolume",
     "volumeNumber": 12
    },
    "title": "One molecular fingerprint to rule them all: drugs, biomolecules, and the metabolome",
    "type": "Article"
   },
   {
    "authors": [
     {
      "familyNames": [
       "Chamberlain"
      ],
      "givenNames": [
       "S"
      ],
      "type": "Person"
     },
     {
      "familyNames": [
       "Zhu"
      ],
      "givenNames": [
       "H"
      ],
      "type": "Person"
     },
     {
      "familyNames": [
       "Jahn"
      ],
      "givenNames": [
       "N"
      ],
      "type": "Person"
     },
     {
      "familyNames": [
       "Boettiger"
      ],
      "givenNames": [
       "C"
      ],
      "type": "Person"
     },
     {
      "familyNames": [
       "Ram"
      ],
      "givenNames": [
       "K"
      ],
      "type": "Person"
     }
    ],
    "datePublished": {
     "type": "Date",
     "value": "2020"
    },
    "id": "bib18",
    "title": "rcrossref: Client for Various “CrossRef” “APIs.”",
    "type": "Article",
    "url": "https://CRAN.R-project.org/package=rcrossref"
   },
   {
    "authors": [
     {
      "familyNames": [
       "Choi"
      ],
      "givenNames": [
       "H"
      ],
      "type": "Person"
     },
     {
      "familyNames": [
       "Cho"
      ],
      "givenNames": [
       "SY"
      ],
      "type": "Person"
     },
     {
      "familyNames": [
       "Pak"
      ],
      "givenNames": [
       "HJ"
      ],
      "type": "Person"
     },
     {
      "familyNames": [
       "Kim"
      ],
      "givenNames": [
       "Y"
      ],
      "type": "Person"
     },
     {
      "familyNames": [
       "Choi"
      ],
      "givenNames": [
       "J-Y"
      ],
      "type": "Person"
     },
     {
      "familyNames": [
       "Lee"
      ],
      "givenNames": [
       "YJ"
      ],
      "type": "Person"
     },
     {
      "familyNames": [
       "Gong"
      ],
      "givenNames": [
       "BH"
      ],
      "type": "Person"
     },
     {
      "familyNames": [
       "Kang"
      ],
      "givenNames": [
       "YS"
      ],
      "type": "Person"
     },
     {
      "familyNames": [
       "Han"
      ],
      "givenNames": [
       "T"
      ],
      "type": "Person"
     },
     {
      "familyNames": [
       "Choi"
      ],
      "givenNames": [
       "G"
      ],
      "type": "Person"
     },
     {
      "familyNames": [
       "Cho"
      ],
      "givenNames": [
       "Y"
      ],
      "type": "Person"
     },
     {
      "familyNames": [
       "Lee"
      ],
      "givenNames": [
       "S"
      ],
      "type": "Person"
     },
     {
      "familyNames": [
       "Ryoo"
      ],
      "givenNames": [
       "D"
      ],
      "type": "Person"
     },
     {
      "familyNames": [
       "Park"
      ],
      "givenNames": [
       "H"
      ],
      "type": "Person"
     }
    ],
    "datePublished": {
     "type": "Date",
     "value": "2017"
    },
    "id": "bib19",
    "identifiers": [
     {
      "name": "doi",
      "propertyID": "https://registry.identifiers.org/registry/doi",
      "type": "PropertyValue",
      "value": "10.1186/s13321-016-0188-5"
     },
     {
      "name": "pmid",
      "propertyID": "https://registry.identifiers.org/registry/pmid",
      "type": "PropertyValue",
      "value": 28184254
     }
    ],
    "isPartOf": {
     "isPartOf": {
      "name": "Journal of Cheminformatics",
      "type": "Periodical"
     },
     "type": "PublicationVolume",
     "volumeNumber": 9
    },
    "title": "NPCARE: database of natural products and fractional extracts for cancer regulation",
    "type": "Article"
   },
   {
    "authors": [
     {
      "familyNames": [
       "Cordell"
      ],
      "givenNames": [
       "GA"
      ],
      "type": "Person"
     }
    ],
    "datePublished": {
     "type": "Date",
     "value": "2017"
    },
    "id": "bib20",
    "identifiers": [
     {
      "name": "doi",
      "propertyID": "https://registry.identifiers.org/registry/doi",
      "type": "PropertyValue",
      "value": "10.1016/j.phytol.2016.10.009"
     }
    ],
    "isPartOf": {
     "isPartOf": {
      "name": "Phytochemistry Letters",
      "type": "Periodical"
     },
     "type": "PublicationVolume",
     "volumeNumber": 20
    },
    "pageEnd": 549,
    "pageStart": 540,
    "title": "Cognate and cognitive ecopharmacognosy — in an anthropogenic era",
    "type": "Article"
   },
   {
    "authors": [
     {
      "familyNames": [
       "Cordell"
      ],
      "givenNames": [
       "GA"
      ],
      "type": "Person"
     }
    ],
    "datePublished": {
     "type": "Date",
     "value": "2017"
    },
    "id": "bib21",
    "identifiers": [
     {
      "name": "doi",
      "propertyID": "https://registry.identifiers.org/registry/doi",
      "type": "PropertyValue",
      "value": "10.1177/1934578X1701200849"
     }
    ],
    "isPartOf": {
     "isPartOf": {
      "name": "Natural Product Communications",
      "type": "Periodical"
     },
     "type": "PublicationVolume",
     "volumeNumber": 12
    },
    "title": "Sixty Challenges – A 2030 Perspective on Natural Products and Medicines Security",
    "type": "Article"
   },
   {
    "authors": [
     {
      "familyNames": [
       "Cousijn"
      ],
      "givenNames": [
       "H"
      ],
      "type": "Person"
     },
     {
      "familyNames": [
       "Kenall"
      ],
      "givenNames": [
       "A"
      ],
      "type": "Person"
     },
     {
      "familyNames": [
       "Ganley"
      ],
      "givenNames": [
       "E"
      ],
      "type": "Person"
     },
     {
      "familyNames": [
       "Harrison"
      ],
      "givenNames": [
       "M"
      ],
      "type": "Person"
     },
     {
      "familyNames": [
       "Kernohan"
      ],
      "givenNames": [
       "D"
      ],
      "type": "Person"
     },
     {
      "familyNames": [
       "Lemberger"
      ],
      "givenNames": [
       "T"
      ],
      "type": "Person"
     },
     {
      "familyNames": [
       "Murphy"
      ],
      "givenNames": [
       "F"
      ],
      "type": "Person"
     },
     {
      "familyNames": [
       "Polischuk"
      ],
      "givenNames": [
       "P"
      ],
      "type": "Person"
     },
     {
      "familyNames": [
       "Taylor"
      ],
      "givenNames": [
       "S"
      ],
      "type": "Person"
     },
     {
      "familyNames": [
       "Martone"
      ],
      "givenNames": [
       "M"
      ],
      "type": "Person"
     },
     {
      "familyNames": [
       "Clark"
      ],
      "givenNames": [
       "T"
      ],
      "type": "Person"
     }
    ],
    "datePublished": {
     "type": "Date",
     "value": "2018"
    },
    "id": "bib22",
    "identifiers": [
     {
      "name": "doi",
      "propertyID": "https://registry.identifiers.org/registry/doi",
      "type": "PropertyValue",
      "value": "10.1038/sdata.2018.259"
     },
     {
      "name": "pmid",
      "propertyID": "https://registry.identifiers.org/registry/pmid",
      "type": "PropertyValue",
      "value": 30457573
     }
    ],
    "isPartOf": {
     "isPartOf": {
      "name": "Scientific Data",
      "type": "Periodical"
     },
     "type": "PublicationVolume",
     "volumeNumber": 5
    },
    "title": "A data citation roadmap for scientific publishers",
    "type": "Article"
   },
   {
    "authors": [
     {
      "familyNames": [
       "Cousijn"
      ],
      "givenNames": [
       "H"
      ],
      "type": "Person"
     },
     {
      "familyNames": [
       "Feeney"
      ],
      "givenNames": [
       "P"
      ],
      "type": "Person"
     },
     {
      "familyNames": [
       "Lowenberg"
      ],
      "givenNames": [
       "D"
      ],
      "type": "Person"
     },
     {
      "familyNames": [
       "Presani"
      ],
      "givenNames": [
       "E"
      ],
      "type": "Person"
     },
     {
      "familyNames": [
       "Simons"
      ],
      "givenNames": [
       "N"
      ],
      "type": "Person"
     }
    ],
    "datePublished": {
     "type": "Date",
     "value": "2019"
    },
    "id": "bib23",
    "identifiers": [
     {
      "name": "doi",
      "propertyID": "https://registry.identifiers.org/registry/doi",
      "type": "PropertyValue",
      "value": "10.5334/dsj-2019-009"
     }
    ],
    "isPartOf": {
     "isPartOf": {
      "name": "Data Science Journal",
      "type": "Periodical"
     },
     "type": "PublicationVolume",
     "volumeNumber": 18
    },
    "title": "Bringing Citations and Usage Metrics Together to Make Data Count",
    "type": "Article"
   },
   {
    "authors": [
     {
      "familyNames": [
       "Crameri"
      ],
      "givenNames": [
       "F"
      ],
      "type": "Person"
     },
     {
      "familyNames": [
       "Shephard"
      ],
      "givenNames": [
       "GE"
      ],
      "type": "Person"
     },
     {
      "familyNames": [
       "Heron"
      ],
      "givenNames": [
       "PJ"
      ],
      "type": "Person"
     }
    ],
    "datePublished": {
     "type": "Date",
     "value": "2020"
    },
    "id": "bib24",
    "identifiers": [
     {
      "name": "doi",
      "propertyID": "https://registry.identifiers.org/registry/doi",
      "type": "PropertyValue",
      "value": "10.1038/s41467-020-19160-7"
     },
     {
      "name": "pmid",
      "propertyID": "https://registry.identifiers.org/registry/pmid",
      "type": "PropertyValue",
      "value": 33116149
     }
    ],
    "isPartOf": {
     "isPartOf": {
      "name": "Nature Communications",
      "type": "Periodical"
     },
     "type": "PublicationVolume",
     "volumeNumber": 11
    },
    "title": "The misuse of colour in science communication",
    "type": "Article"
   },
   {
    "authors": [
     {
      "familyNames": [
       "Crameri"
      ],
      "givenNames": [
       "F"
      ],
      "type": "Person"
     }
    ],
    "datePublished": {
     "type": "Date",
     "value": "2021"
    },
    "id": "bib25",
    "title": "Scientific colour map",
    "type": "Article",
    "url": "https://doi.org/10.5281/zenodo.1243862"
   },
   {
    "authors": [
     {
      "familyNames": [
       "Davis"
      ],
      "givenNames": [
       "GJ"
      ],
      "type": "Person"
     },
     {
      "familyNames": [
       "Vasanthi"
      ],
      "givenNames": [
       "AR"
      ],
      "type": "Person"
     }
    ],
    "datePublished": {
     "type": "Date",
     "value": "2011"
    },
    "id": "bib26",
    "identifiers": [
     {
      "name": "doi",
      "propertyID": "https://registry.identifiers.org/registry/doi",
      "type": "PropertyValue",
      "value": "10.6026/97320630005361"
     },
     {
      "name": "pmid",
      "propertyID": "https://registry.identifiers.org/registry/pmid",
      "type": "PropertyValue",
      "value": 21423723
     }
    ],
    "isPartOf": {
     "isPartOf": {
      "name": "Bioinformation",
      "type": "Periodical"
     },
     "type": "PublicationVolume",
     "volumeNumber": 5
    },
    "pageEnd": 364,
    "pageStart": 361,
    "title": "Seaweed metabolite database (SWMD): A database of natural compounds from marine algae",
    "type": "Article"
   },
   {
    "authors": [
     {
      "familyNames": [
       "Defossez"
      ],
      "givenNames": [
       "E"
      ],
      "type": "Person"
     },
     {
      "familyNames": [
       "Pitteloud"
      ],
      "givenNames": [
       "C"
      ],
      "type": "Person"
     },
     {
      "familyNames": [
       "Descombes"
      ],
      "givenNames": [
       "P"
      ],
      "type": "Person"
     },
     {
      "familyNames": [
       "Glauser"
      ],
      "givenNames": [
       "G"
      ],
      "type": "Person"
     },
     {
      "familyNames": [
       "Allard"
      ],
      "givenNames": [
       "PM"
      ],
      "type": "Person"
     },
     {
      "familyNames": [
       "Walker"
      ],
      "givenNames": [
       "TWN"
      ],
      "type": "Person"
     },
     {
      "familyNames": [
       "Fernandez-Conradi"
      ],
      "givenNames": [
       "P"
      ],
      "type": "Person"
     },
     {
      "familyNames": [
       "Wolfender"
      ],
      "givenNames": [
       "JL"
      ],
      "type": "Person"
     },
     {
      "familyNames": [
       "Pellissier"
      ],
      "givenNames": [
       "L"
      ],
      "type": "Person"
     },
     {
      "familyNames": [
       "Rasmann"
      ],
      "givenNames": [
       "S"
      ],
      "type": "Person"
     }
    ],
    "datePublished": {
     "type": "Date",
     "value": "2021"
    },
    "id": "bib27",
    "identifiers": [
     {
      "name": "doi",
      "propertyID": "https://registry.identifiers.org/registry/doi",
      "type": "PropertyValue",
      "value": "10.1073/pnas.2013344118"
     },
     {
      "name": "pmid",
      "propertyID": "https://registry.identifiers.org/registry/pmid",
      "type": "PropertyValue",
      "value": 33431671
     }
    ],
    "isPartOf": {
     "isPartOf": {
      "name": "PNAS",
      "type": "Periodical"
     },
     "type": "PublicationVolume",
     "volumeNumber": 118
    },
    "title": "Spatial and evolutionary predictability of phytochemical diversity",
    "type": "Article"
   },
   {
    "authors": [
     {
      "familyNames": [
       "Derese"
      ],
      "givenNames": [
       "S"
      ],
      "type": "Person"
     },
     {
      "familyNames": [
       "Ndakala"
      ],
      "givenNames": [
       "A"
      ],
      "type": "Person"
     },
     {
      "familyNames": [
       "Rogo"
      ],
      "givenNames": [
       "M"
      ],
      "type": "Person"
     },
     {
      "familyNames": [
       "Maynim"
      ],
      "givenNames": [
       "C"
      ],
      "type": "Person"
     },
     {
      "familyNames": [
       "Oyim"
      ],
      "givenNames": [
       "J"
      ],
      "type": "Person"
     }
    ],
    "datePublished": {
     "type": "Date",
     "value": "2019"
    },
    "id": "bib28",
    "publisher": {
     "name": "University of Nairobi",
     "type": "Organization"
    },
    "title": "Mitishamba database: a web based in silico database of natural products from Kenya plants",
    "type": "Article",
    "url": "http://erepository.uonbi.ac.ke/handle/11295/92273"
   },
   {
    "authors": [
     {
      "familyNames": [
       "Djoumbou",
       "Feunang"
      ],
      "givenNames": [
       "Y"
      ],
      "type": "Person"
     },
     {
      "familyNames": [
       "Eisner"
      ],
      "givenNames": [
       "R"
      ],
      "type": "Person"
     },
     {
      "familyNames": [
       "Knox"
      ],
      "givenNames": [
       "C"
      ],
      "type": "Person"
     },
     {
      "familyNames": [
       "Chepelev"
      ],
      "givenNames": [
       "L"
      ],
      "type": "Person"
     },
     {
      "familyNames": [
       "Hastings"
      ],
      "givenNames": [
       "J"
      ],
      "type": "Person"
     },
     {
      "familyNames": [
       "Owen"
      ],
      "givenNames": [
       "G"
      ],
      "type": "Person"
     },
     {
      "familyNames": [
       "Fahy"
      ],
      "givenNames": [
       "E"
      ],
      "type": "Person"
     },
     {
      "familyNames": [
       "Steinbeck"
      ],
      "givenNames": [
       "C"
      ],
      "type": "Person"
     },
     {
      "familyNames": [
       "Subramanian"
      ],
      "givenNames": [
       "S"
      ],
      "type": "Person"
     },
     {
      "familyNames": [
       "Bolton"
      ],
      "givenNames": [
       "E"
      ],
      "type": "Person"
     },
     {
      "familyNames": [
       "Greiner"
      ],
      "givenNames": [
       "R"
      ],
      "type": "Person"
     },
     {
      "familyNames": [
       "Wishart"
      ],
      "givenNames": [
       "DS"
      ],
      "type": "Person"
     }
    ],
    "datePublished": {
     "type": "Date",
     "value": "2016"
    },
    "id": "bib29",
    "identifiers": [
     {
      "name": "doi",
      "propertyID": "https://registry.identifiers.org/registry/doi",
      "type": "PropertyValue",
      "value": "10.1186/s13321-016-0174-y"
     },
     {
      "name": "pmid",
      "propertyID": "https://registry.identifiers.org/registry/pmid",
      "type": "PropertyValue",
      "value": 27867422
     }
    ],
    "isPartOf": {
     "isPartOf": {
      "name": "Journal of Cheminformatics",
      "type": "Periodical"
     },
     "type": "PublicationVolume",
     "volumeNumber": 8
    },
    "title": "ClassyFire: automated chemical classification with a comprehensive, computable taxonomy",
    "type": "Article"
   },
   {
    "authors": [
     {
      "familyNames": [
       "Dowle"
      ],
      "givenNames": [
       "M"
      ],
      "type": "Person"
     },
     {
      "familyNames": [
       "Srinivasan"
      ],
      "givenNames": [
       "A"
      ],
      "type": "Person"
     }
    ],
    "datePublished": {
     "type": "Date",
     "value": "2020"
    },
    "id": "bib30",
    "title": "data.table: Extension of “data.frame.”",
    "type": "Article",
    "url": "https://CRAN.R-project.org/package=data.table"
   },
   {
    "authors": [
     {
      "familyNames": [
       "Ducarme"
      ],
      "givenNames": [
       "F"
      ],
      "type": "Person"
     },
     {
      "familyNames": [
       "Couvet"
      ],
      "givenNames": [
       "D"
      ],
      "type": "Person"
     }
    ],
    "datePublished": {
     "type": "Date",
     "value": "2020"
    },
    "id": "bib31",
    "identifiers": [
     {
      "name": "doi",
      "propertyID": "https://registry.identifiers.org/registry/doi",
      "type": "PropertyValue",
      "value": "10.1057/s41599-020-0390-y"
     }
    ],
    "isPartOf": {
     "isPartOf": {
      "name": "Palgrave Communications",
      "type": "Periodical"
     },
     "type": "PublicationVolume",
     "volumeNumber": 6
    },
    "title": "What does ‘nature’ mean?",
    "type": "Article"
   },
   {
    "authors": [
     {
      "familyNames": [
       "Dührkop"
      ],
      "givenNames": [
       "K"
      ],
      "type": "Person"
     },
     {
      "familyNames": [
       "Nothias"
      ],
      "givenNames": [
       "L-F"
      ],
      "type": "Person"
     },
     {
      "familyNames": [
       "Fleischauer"
      ],
      "givenNames": [
       "M"
      ],
      "type": "Person"
     },
     {
      "familyNames": [
       "Reher"
      ],
      "givenNames": [
       "R"
      ],
      "type": "Person"
     },
     {
      "familyNames": [
       "Ludwig"
      ],
      "givenNames": [
       "M"
      ],
      "type": "Person"
     },
     {
      "familyNames": [
       "Hoffmann"
      ],
      "givenNames": [
       "MA"
      ],
      "type": "Person"
     },
     {
      "familyNames": [
       "Petras"
      ],
      "givenNames": [
       "D"
      ],
      "type": "Person"
     },
     {
      "familyNames": [
       "Gerwick"
      ],
      "givenNames": [
       "WH"
      ],
      "type": "Person"
     },
     {
      "familyNames": [
       "Rousu"
      ],
      "givenNames": [
       "J"
      ],
      "type": "Person"
     },
     {
      "familyNames": [
       "Dorrestein"
      ],
      "givenNames": [
       "PC"
      ],
      "type": "Person"
     },
     {
      "familyNames": [
       "Böcker"
      ],
      "givenNames": [
       "S"
      ],
      "type": "Person"
     }
    ],
    "datePublished": {
     "type": "Date",
     "value": "2021"
    },
    "id": "bib32",
    "identifiers": [
     {
      "name": "doi",
      "propertyID": "https://registry.identifiers.org/registry/doi",
      "type": "PropertyValue",
      "value": "10.1038/s41587-020-0740-8"
     },
     {
      "name": "pmid",
      "propertyID": "https://registry.identifiers.org/registry/pmid",
      "type": "PropertyValue",
      "value": 33230292
     }
    ],
    "isPartOf": {
     "isPartOf": {
      "name": "Nature Biotechnology",
      "type": "Periodical"
     },
     "type": "PublicationVolume",
     "volumeNumber": 39
    },
    "pageEnd": 471,
    "pageStart": 462,
    "title": "Systematic classification of unknown metabolites using high-resolution fragmentation mass spectra",
    "type": "Article"
   },
   {
    "authors": [
     {
      "familyNames": [
       "Finn"
      ],
      "givenNames": [
       "RD"
      ],
      "type": "Person"
     },
     {
      "familyNames": [
       "Gardner"
      ],
      "givenNames": [
       "PP"
      ],
      "type": "Person"
     },
     {
      "familyNames": [
       "Bateman"
      ],
      "givenNames": [
       "A"
      ],
      "type": "Person"
     }
    ],
    "datePublished": {
     "type": "Date",
     "value": "2012"
    },
    "id": "bib33",
    "identifiers": [
     {
      "name": "doi",
      "propertyID": "https://registry.identifiers.org/registry/doi",
      "type": "PropertyValue",
      "value": "10.1093/nar/gkr1195"
     },
     {
      "name": "pmid",
      "propertyID": "https://registry.identifiers.org/registry/pmid",
      "type": "PropertyValue",
      "value": 22144683
     }
    ],
    "isPartOf": {
     "isPartOf": {
      "name": "Nucleic Acids Research",
      "type": "Periodical"
     },
     "type": "PublicationVolume",
     "volumeNumber": 40
    },
    "title": "Making your database available through Wikipedia: the pros and cons",
    "type": "Article"
   },
   {
    "authors": [
     {
      "familyNames": [
       "Flor"
      ],
      "givenNames": [
       "M"
      ],
      "type": "Person"
     }
    ],
    "datePublished": {
     "type": "Date",
     "value": "2020"
    },
    "id": "bib34",
    "title": "chorddiag: Interactive Chord Diagrams",
    "type": "Article",
    "url": "http://github.com/mattflor/chorddiag/"
   },
   {
    "authors": [
     {
      "familyNames": [
       "Gagolewski"
      ],
      "givenNames": [
       "M"
      ],
      "type": "Person"
     }
    ],
    "datePublished": {
     "type": "Date",
     "value": "2020"
    },
    "id": "bib35",
    "title": "stringi: Character String Processing Facilities",
    "type": "Article",
    "url": "https://cran.r-project.org/web/packages/stringi/index.html"
   },
   {
    "authors": [
     {
      "name": "GBIF",
      "type": "Organization"
     }
    ],
    "datePublished": {
     "type": "Date",
     "value": "2020"
    },
    "id": "bib36",
    "title": "GBIF",
    "type": "Article",
    "url": "https://www.gbif.org"
   },
   {
    "authors": [
     {
      "familyNames": [
       "Gehlenborg"
      ],
      "givenNames": [
       "N"
      ],
      "type": "Person"
     }
    ],
    "datePublished": {
     "type": "Date",
     "value": "2019"
    },
    "id": "bib37",
    "title": "UpSetR: A More Scalable Alternative to Venn and Euler Diagrams for Visualizing Intersecting Sets",
    "type": "Article",
    "url": "https://CRAN.R-project.org/package=UpSetR"
   },
   {
    "authors": [
     {
      "familyNames": [
       "Giacomoni"
      ],
      "givenNames": [
       "F"
      ],
      "type": "Person"
     },
     {
      "familyNames": [
       "Silva"
      ],
      "givenNames": [
       "A"
      ],
      "type": "Person"
     },
     {
      "familyNames": [
       "Bronze"
      ],
      "givenNames": [
       "M"
      ],
      "type": "Person"
     },
     {
      "familyNames": [
       "Gladine"
      ],
      "givenNames": [
       "C"
      ],
      "type": "Person"
     },
     {
      "familyNames": [
       "Peter",
       "Hollman"
      ],
      "givenNames": [
       "RK"
      ],
      "type": "Person"
     },
     {
      "familyNames": [
       "Yanwen"
      ],
      "givenNames": [
       "DL"
      ],
      "type": "Person"
     },
     {
      "familyNames": [
       "Micheau"
      ],
      "givenNames": [
       "P"
      ],
      "type": "Person"
     },
     {
      "familyNames": [
       "Nunes",
       "dos",
       "Santos"
      ],
      "givenNames": [
       "MC"
      ],
      "type": "Person"
     },
     {
      "familyNames": [
       "Pavot"
      ],
      "givenNames": [
       "B"
      ],
      "type": "Person"
     },
     {
      "familyNames": [
       "Schmidt"
      ],
      "givenNames": [
       "G"
      ],
      "type": "Person"
     },
     {
      "familyNames": [
       "Morand"
      ],
      "givenNames": [
       "C"
      ],
      "type": "Person"
     },
     {
      "familyNames": [
       "Sarda"
      ],
      "givenNames": [
       "MU"
      ],
      "type": "Person"
     },
     {
      "familyNames": [
       "Vazquez",
       "Manjarrez"
      ],
      "givenNames": [
       "N"
      ],
      "type": "Person"
     },
     {
      "familyNames": [
       "Verny"
      ],
      "givenNames": [
       "MA"
      ],
      "type": "Person"
     },
     {
      "familyNames": [
       "Wiczkowski"
      ],
      "givenNames": [
       "W"
      ],
      "type": "Person"
     },
     {
      "familyNames": [
       "Knox"
      ],
      "givenNames": [
       "C"
      ],
      "type": "Person"
     },
     {
      "familyNames": [
       "Manach"
      ],
      "givenNames": [
       "C"
      ],
      "type": "Person"
     }
    ],
    "datePublished": {
     "type": "Date",
     "value": "2017"
    },
    "id": "bib38",
    "title": "PhytoHub, an online platform to gather expert knowledge on polyphenols and other dietary phytochemicals",
    "type": "Article",
    "url": "https://hal.archives-ouvertes.fr/hal-01697081"
   },
   {
    "authors": [
     {
      "familyNames": [
       "Gottlieb"
      ],
      "givenNames": [
       "OR"
      ],
      "type": "Person"
     }
    ],
    "datePublished": {
     "type": "Date",
     "value": "1982"
    },
    "id": "bib39",
    "identifiers": [
     {
      "name": "doi",
      "propertyID": "https://registry.identifiers.org/registry/doi",
      "type": "PropertyValue",
      "value": "10.1007/978-3-642-68641-2"
     }
    ],
    "publisher": {
     "address": {
      "addressLocality": "Berlin, Heidelberg",
      "type": "PostalAddress"
     },
     "name": "Springer",
     "type": "Organization"
    },
    "title": "Micromolecular Evolution, Systematics and Ecology",
    "type": "Article"
   },
   {
    "authors": [
     {
      "familyNames": [
       "Graham"
      ],
      "givenNames": [
       "JG"
      ],
      "type": "Person"
     },
     {
      "familyNames": [
       "Farnsworth"
      ],
      "givenNames": [
       "NR"
      ],
      "type": "Person"
     }
    ],
    "datePublished": {
     "type": "Date",
     "value": "2010"
    },
    "id": "bib40",
    "identifiers": [
     {
      "name": "doi",
      "propertyID": "https://registry.identifiers.org/registry/doi",
      "type": "PropertyValue",
      "value": "10.1016/b978-008045382-8.00060-5"
     }
    ],
    "isPartOf": {
     "isPartOf": {
      "name": "Comprehensive Natural Products",
      "type": "Periodical"
     },
     "type": "PublicationVolume",
     "volumeNumber": 3
    },
    "pageEnd": 94,
    "pageStart": 81,
    "title": "3.04 - The NAPRALERT Database as an Aid for Discovery of Novel Bioactive Compounds",
    "type": "Article"
   },
   {
    "authors": [
     {
      "familyNames": [
       "Gu"
      ],
      "givenNames": [
       "J"
      ],
      "type": "Person"
     },
     {
      "familyNames": [
       "Gui"
      ],
      "givenNames": [
       "Y"
      ],
      "type": "Person"
     },
     {
      "familyNames": [
       "Chen"
      ],
      "givenNames": [
       "L"
      ],
      "type": "Person"
     },
     {
      "familyNames": [
       "Yuan"
      ],
      "givenNames": [
       "G"
      ],
      "type": "Person"
     },
     {
      "familyNames": [
       "Lu"
      ],
      "givenNames": [
       "H-Z"
      ],
      "type": "Person"
     },
     {
      "familyNames": [
       "Xu"
      ],
      "givenNames": [
       "X"
      ],
      "type": "Person"
     }
    ],
    "datePublished": {
     "type": "Date",
     "value": "2013"
    },
    "id": "bib41",
    "identifiers": [
     {
      "name": "doi",
      "propertyID": "https://registry.identifiers.org/registry/doi",
      "type": "PropertyValue",
      "value": "10.1371/journal.pone.0062839"
     },
     {
      "name": "pmid",
      "propertyID": "https://registry.identifiers.org/registry/pmid",
      "type": "PropertyValue",
      "value": 23638153
     }
    ],
    "isPartOf": {
     "isPartOf": {
      "name": "PLOS ONE",
      "type": "Periodical"
     },
     "type": "PublicationVolume",
     "volumeNumber": 8
    },
    "title": "Use of natural products as chemical library for drug discovery and network pharmacology",
    "type": "Article"
   },
   {
    "authors": [
     {
      "familyNames": [
       "Günthardt"
      ],
      "givenNames": [
       "BF"
      ],
      "type": "Person"
     },
     {
      "familyNames": [
       "Hollender"
      ],
      "givenNames": [
       "J"
      ],
      "type": "Person"
     },
     {
      "familyNames": [
       "Hungerbühler"
      ],
      "givenNames": [
       "K"
      ],
      "type": "Person"
     },
     {
      "familyNames": [
       "Scheringer"
      ],
      "givenNames": [
       "M"
      ],
      "type": "Person"
     },
     {
      "familyNames": [
       "Bucheli"
      ],
      "givenNames": [
       "TD"
      ],
      "type": "Person"
     }
    ],
    "datePublished": {
     "type": "Date",
     "value": "2018"
    },
    "id": "bib42",
    "identifiers": [
     {
      "name": "doi",
      "propertyID": "https://registry.identifiers.org/registry/doi",
      "type": "PropertyValue",
      "value": "10.1021/acs.jafc.8b01639"
     },
     {
      "name": "pmid",
      "propertyID": "https://registry.identifiers.org/registry/pmid",
      "type": "PropertyValue",
      "value": 29944838
     }
    ],
    "isPartOf": {
     "isPartOf": {
      "name": "Journal of Agricultural and Food Chemistry",
      "type": "Periodical"
     },
     "type": "PublicationVolume",
     "volumeNumber": 66
    },
    "pageEnd": 7588,
    "pageStart": 7577,
    "title": "Comprehensive Toxic Plants-Phytotoxins Database and Its Application in Assessing Aquatic Micropollution Potential",
    "type": "Article"
   },
   {
    "authors": [
     {
      "familyNames": [
       "Hatherley"
      ],
      "givenNames": [
       "R"
      ],
      "type": "Person"
     },
     {
      "familyNames": [
       "Brown"
      ],
      "givenNames": [
       "DK"
      ],
      "type": "Person"
     },
     {
      "familyNames": [
       "Musyoka"
      ],
      "givenNames": [
       "TM"
      ],
      "type": "Person"
     },
     {
      "familyNames": [
       "Penkler"
      ],
      "givenNames": [
       "DL"
      ],
      "type": "Person"
     },
     {
      "familyNames": [
       "Faya"
      ],
      "givenNames": [
       "N"
      ],
      "type": "Person"
     },
     {
      "familyNames": [
       "Lobb"
      ],
      "givenNames": [
       "KA"
      ],
      "type": "Person"
     },
     {
      "familyNames": [
       "Tastan",
       "Bishop"
      ],
      "givenNames": [
       "Ö"
      ],
      "type": "Person"
     }
    ],
    "datePublished": {
     "type": "Date",
     "value": "2015"
    },
    "id": "bib43",
    "identifiers": [
     {
      "name": "doi",
      "propertyID": "https://registry.identifiers.org/registry/doi",
      "type": "PropertyValue",
      "value": "10.1186/s13321-015-0080-8"
     },
     {
      "name": "pmid",
      "propertyID": "https://registry.identifiers.org/registry/pmid",
      "type": "PropertyValue",
      "value": 26097510
     }
    ],
    "isPartOf": {
     "isPartOf": {
      "name": "Journal of Cheminformatics",
      "type": "Periodical"
     },
     "type": "PublicationVolume",
     "volumeNumber": 7
    },
    "title": "SANCDB: a South African natural compound database",
    "type": "Article"
   },
   {
    "authors": [
     {
      "familyNames": [
       "Haug"
      ],
      "givenNames": [
       "K"
      ],
      "type": "Person"
     },
     {
      "familyNames": [
       "Cochrane"
      ],
      "givenNames": [
       "K"
      ],
      "type": "Person"
     },
     {
      "familyNames": [
       "Nainala"
      ],
      "givenNames": [
       "VC"
      ],
      "type": "Person"
     },
     {
      "familyNames": [
       "Williams"
      ],
      "givenNames": [
       "M"
      ],
      "type": "Person"
     },
     {
      "familyNames": [
       "Chang"
      ],
      "givenNames": [
       "J"
      ],
      "type": "Person"
     },
     {
      "familyNames": [
       "Jayaseelan"
      ],
      "givenNames": [
       "KV"
      ],
      "type": "Person"
     },
     {
      "familyNames": [
       "O’Donovan"
      ],
      "givenNames": [
       "C"
      ],
      "type": "Person"
     }
    ],
    "datePublished": {
     "type": "Date",
     "value": "2020"
    },
    "id": "bib44",
    "identifiers": [
     {
      "name": "doi",
      "propertyID": "https://registry.identifiers.org/registry/doi",
      "type": "PropertyValue",
      "value": "10.1093/nar/gkz1019"
     },
     {
      "name": "pmid",
      "propertyID": "https://registry.identifiers.org/registry/pmid",
      "type": "PropertyValue",
      "value": 31691833
     }
    ],
    "isPartOf": {
     "isPartOf": {
      "name": "Nucleic Acids Research",
      "type": "Periodical"
     },
     "type": "PublicationVolume",
     "volumeNumber": 48
    },
    "title": "MetaboLights: a resource evolving in response to the needs of its scientific community",
    "type": "Article"
   },
   {
    "authors": [
     {
      "familyNames": [
       "Hegnauer"
      ],
      "givenNames": [
       "R"
      ],
      "type": "Person"
     }
    ],
    "datePublished": {
     "type": "Date",
     "value": "1986"
    },
    "id": "bib45",
    "identifiers": [
     {
      "name": "doi",
      "propertyID": "https://registry.identifiers.org/registry/doi",
      "type": "PropertyValue",
      "value": "10.1016/S0031-9422(00)81204-2"
     }
    ],
    "isPartOf": {
     "isPartOf": {
      "name": "Phytochemistry",
      "type": "Periodical"
     },
     "type": "PublicationVolume",
     "volumeNumber": 25
    },
    "pageEnd": 1535,
    "pageStart": 1519,
    "title": "Phytochemistry and plant taxonomy — an essay on the chemotaxonomy of higher plants",
    "type": "Article"
   },
   {
    "authors": [
     {
      "familyNames": [
       "Hegnauer"
      ],
      "givenNames": [
       "R"
      ],
      "type": "Person"
     }
    ],
    "datePublished": {
     "type": "Date",
     "value": "1986"
    },
    "id": "bib46",
    "identifiers": [
     {
      "name": "doi",
      "propertyID": "https://registry.identifiers.org/registry/doi",
      "type": "PropertyValue",
      "value": "10.1007/978-3-0348-9314-5"
     }
    ],
    "publisher": {
     "address": {
      "addressLocality": "Basel",
      "type": "PostalAddress"
     },
     "name": "springer",
     "type": "Organization"
    },
    "title": "Chemotaxonomie Der Pflanzen",
    "type": "Article"
   },
   {
    "authors": [
     {
      "familyNames": [
       "Heller"
      ],
      "givenNames": [
       "S"
      ],
      "type": "Person"
     },
     {
      "familyNames": [
       "McNaught"
      ],
      "givenNames": [
       "A"
      ],
      "type": "Person"
     },
     {
      "familyNames": [
       "Stein"
      ],
      "givenNames": [
       "S"
      ],
      "type": "Person"
     },
     {
      "familyNames": [
       "Tchekhovskoi"
      ],
      "givenNames": [
       "D"
      ],
      "type": "Person"
     },
     {
      "familyNames": [
       "Pletnev"
      ],
      "givenNames": [
       "I"
      ],
      "type": "Person"
     }
    ],
    "datePublished": {
     "type": "Date",
     "value": "2013"
    },
    "id": "bib47",
    "identifiers": [
     {
      "name": "doi",
      "propertyID": "https://registry.identifiers.org/registry/doi",
      "type": "PropertyValue",
      "value": "10.1186/1758-2946-5-7"
     },
     {
      "name": "pmid",
      "propertyID": "https://registry.identifiers.org/registry/pmid",
      "type": "PropertyValue",
      "value": 23343401
     }
    ],
    "isPartOf": {
     "isPartOf": {
      "name": "Journal of Cheminformatics",
      "type": "Periodical"
     },
     "type": "PublicationVolume",
     "volumeNumber": 5
    },
    "title": "InChI - the worldwide chemical structure identifier standard",
    "type": "Article"
   },
   {
    "authors": [
     {
      "familyNames": [
       "Helmy"
      ],
      "givenNames": [
       "M"
      ],
      "type": "Person"
     },
     {
      "familyNames": [
       "Crits-Christoph"
      ],
      "givenNames": [
       "A"
      ],
      "type": "Person"
     },
     {
      "familyNames": [
       "Bader"
      ],
      "givenNames": [
       "GD"
      ],
      "type": "Person"
     }
    ],
    "datePublished": {
     "type": "Date",
     "value": "2016"
    },
    "id": "bib48",
    "identifiers": [
     {
      "name": "doi",
      "propertyID": "https://registry.identifiers.org/registry/doi",
      "type": "PropertyValue",
      "value": "10.1371/journal.pcbi.1005128"
     },
     {
      "name": "pmid",
      "propertyID": "https://registry.identifiers.org/registry/pmid",
      "type": "PropertyValue",
      "value": 27832061
     }
    ],
    "isPartOf": {
     "isPartOf": {
      "name": "PLOS Computational Biology",
      "type": "Periodical"
     },
     "type": "PublicationVolume",
     "volumeNumber": 12
    },
    "title": "Ten Simple Rules for Developing Public Biological Databases",
    "type": "Article"
   },
   {
    "authors": [
     {
      "familyNames": [
       "Himmelstein"
      ],
      "givenNames": [
       "DS"
      ],
      "type": "Person"
     },
     {
      "familyNames": [
       "Rubinetti"
      ],
      "givenNames": [
       "V"
      ],
      "type": "Person"
     },
     {
      "familyNames": [
       "Slochower"
      ],
      "givenNames": [
       "DR"
      ],
      "type": "Person"
     },
     {
      "familyNames": [
       "Hu"
      ],
      "givenNames": [
       "D"
      ],
      "type": "Person"
     },
     {
      "familyNames": [
       "Malladi"
      ],
      "givenNames": [
       "VS"
      ],
      "type": "Person"
     },
     {
      "familyNames": [
       "Greene"
      ],
      "givenNames": [
       "CS"
      ],
      "type": "Person"
     },
     {
      "familyNames": [
       "Gitter"
      ],
      "givenNames": [
       "A"
      ],
      "type": "Person"
     }
    ],
    "datePublished": {
     "type": "Date",
     "value": "2019"
    },
    "id": "bib49",
    "identifiers": [
     {
      "name": "doi",
      "propertyID": "https://registry.identifiers.org/registry/doi",
      "type": "PropertyValue",
      "value": "10.1371/journal.pcbi.1007128"
     },
     {
      "name": "pmid",
      "propertyID": "https://registry.identifiers.org/registry/pmid",
      "type": "PropertyValue",
      "value": 31233491
     }
    ],
    "isPartOf": {
     "isPartOf": {
      "name": "PLOS Computational Biology",
      "type": "Periodical"
     },
     "type": "PublicationVolume",
     "volumeNumber": 15
    },
    "title": "Open collaborative writing with Manubot",
    "type": "Article"
   },
   {
    "authors": [
     {
      "familyNames": [
       "Hoffmann"
      ],
      "givenNames": [
       "MA"
      ],
      "type": "Person"
     },
     {
      "familyNames": [
       "Nothias"
      ],
      "givenNames": [
       "LF"
      ],
      "type": "Person"
     },
     {
      "familyNames": [
       "Ludwig"
      ],
      "givenNames": [
       "M"
      ],
      "type": "Person"
     },
     {
      "familyNames": [
       "Fleischauer"
      ],
      "givenNames": [
       "M"
      ],
      "type": "Person"
     },
     {
      "familyNames": [
       "Gentry"
      ],
      "givenNames": [
       "EC"
      ],
      "type": "Person"
     },
     {
      "familyNames": [
       "Witting"
      ],
      "givenNames": [
       "M"
      ],
      "type": "Person"
     },
     {
      "familyNames": [
       "Dorrestein"
      ],
      "givenNames": [
       "PC"
      ],
      "type": "Person"
     },
     {
      "familyNames": [
       "Dührkop"
      ],
      "givenNames": [
       "K"
      ],
      "type": "Person"
     },
     {
      "familyNames": [
       "Böcker"
      ],
      "givenNames": [
       "S"
      ],
      "type": "Person"
     }
    ],
    "datePublished": {
     "type": "Date",
     "value": "2021"
    },
    "id": "bib50",
    "identifiers": [
     {
      "name": "doi",
      "propertyID": "https://registry.identifiers.org/registry/doi",
      "type": "PropertyValue",
      "value": "10.1101/2021.03.18.435634"
     }
    ],
    "isPartOf": {
     "name": "bioRxiv",
     "type": "Periodical"
    },
    "title": "Assigning Confidence to Structural Annotations from Mass Spectra with COSMIC",
    "type": "Article"
   },
   {
    "authors": [
     {
      "familyNames": [
       "Horai"
      ],
      "givenNames": [
       "H"
      ],
      "type": "Person"
     },
     {
      "familyNames": [
       "Arita"
      ],
      "givenNames": [
       "M"
      ],
      "type": "Person"
     },
     {
      "familyNames": [
       "Kanaya"
      ],
      "givenNames": [
       "S"
      ],
      "type": "Person"
     },
     {
      "familyNames": [
       "Nihei"
      ],
      "givenNames": [
       "Y"
      ],
      "type": "Person"
     },
     {
      "familyNames": [
       "Ikeda"
      ],
      "givenNames": [
       "T"
      ],
      "type": "Person"
     },
     {
      "familyNames": [
       "Suwa"
      ],
      "givenNames": [
       "K"
      ],
      "type": "Person"
     },
     {
      "familyNames": [
       "Ojima"
      ],
      "givenNames": [
       "Y"
      ],
      "type": "Person"
     },
     {
      "familyNames": [
       "Tanaka"
      ],
      "givenNames": [
       "K"
      ],
      "type": "Person"
     },
     {
      "familyNames": [
       "Tanaka"
      ],
      "givenNames": [
       "S"
      ],
      "type": "Person"
     },
     {
      "familyNames": [
       "Aoshima"
      ],
      "givenNames": [
       "K"
      ],
      "type": "Person"
     },
     {
      "familyNames": [
       "Oda"
      ],
      "givenNames": [
       "Y"
      ],
      "type": "Person"
     },
     {
      "familyNames": [
       "Kakazu"
      ],
      "givenNames": [
       "Y"
      ],
      "type": "Person"
     },
     {
      "familyNames": [
       "Kusano"
      ],
      "givenNames": [
       "M"
      ],
      "type": "Person"
     },
     {
      "familyNames": [
       "Tohge"
      ],
      "givenNames": [
       "T"
      ],
      "type": "Person"
     },
     {
      "familyNames": [
       "Matsuda"
      ],
      "givenNames": [
       "F"
      ],
      "type": "Person"
     },
     {
      "familyNames": [
       "Sawada"
      ],
      "givenNames": [
       "Y"
      ],
      "type": "Person"
     },
     {
      "familyNames": [
       "Hirai"
      ],
      "givenNames": [
       "MY"
      ],
      "type": "Person"
     },
     {
      "familyNames": [
       "Nakanishi"
      ],
      "givenNames": [
       "H"
      ],
      "type": "Person"
     },
     {
      "familyNames": [
       "Ikeda"
      ],
      "givenNames": [
       "K"
      ],
      "type": "Person"
     },
     {
      "familyNames": [
       "Akimoto"
      ],
      "givenNames": [
       "N"
      ],
      "type": "Person"
     },
     {
      "familyNames": [
       "Maoka"
      ],
      "givenNames": [
       "T"
      ],
      "type": "Person"
     },
     {
      "familyNames": [
       "Takahashi"
      ],
      "givenNames": [
       "H"
      ],
      "type": "Person"
     },
     {
      "familyNames": [
       "Ara"
      ],
      "givenNames": [
       "T"
      ],
      "type": "Person"
     },
     {
      "familyNames": [
       "Sakurai"
      ],
      "givenNames": [
       "N"
      ],
      "type": "Person"
     },
     {
      "familyNames": [
       "Suzuki"
      ],
      "givenNames": [
       "H"
      ],
      "type": "Person"
     },
     {
      "familyNames": [
       "Shibata"
      ],
      "givenNames": [
       "D"
      ],
      "type": "Person"
     },
     {
      "familyNames": [
       "Neumann"
      ],
      "givenNames": [
       "S"
      ],
      "type": "Person"
     },
     {
      "familyNames": [
       "Iida"
      ],
      "givenNames": [
       "T"
      ],
      "type": "Person"
     },
     {
      "familyNames": [
       "Tanaka"
      ],
      "givenNames": [
       "K"
      ],
      "type": "Person"
     },
     {
      "familyNames": [
       "Funatsu"
      ],
      "givenNames": [
       "K"
      ],
      "type": "Person"
     },
     {
      "familyNames": [
       "Matsuura"
      ],
      "givenNames": [
       "F"
      ],
      "type": "Person"
     },
     {
      "familyNames": [
       "Soga"
      ],
      "givenNames": [
       "T"
      ],
      "type": "Person"
     },
     {
      "familyNames": [
       "Taguchi"
      ],
      "givenNames": [
       "R"
      ],
      "type": "Person"
     },
     {
      "familyNames": [
       "Saito"
      ],
      "givenNames": [
       "K"
      ],
      "type": "Person"
     },
     {
      "familyNames": [
       "Nishioka"
      ],
      "givenNames": [
       "T"
      ],
      "type": "Person"
     }
    ],
    "datePublished": {
     "type": "Date",
     "value": "2010"
    },
    "id": "bib51",
    "identifiers": [
     {
      "name": "doi",
      "propertyID": "https://registry.identifiers.org/registry/doi",
      "type": "PropertyValue",
      "value": "10.1002/jms.1777"
     },
     {
      "name": "pmid",
      "propertyID": "https://registry.identifiers.org/registry/pmid",
      "type": "PropertyValue",
      "value": 20623627
     }
    ],
    "isPartOf": {
     "isPartOf": {
      "name": "Journal of Mass Spectrometry",
      "type": "Periodical"
     },
     "type": "PublicationVolume",
     "volumeNumber": 45
    },
    "pageEnd": 714,
    "pageStart": 703,
    "title": "MassBank: a public repository for sharing mass spectral data for life sciences",
    "type": "Article"
   },
   {
    "authors": [
     {
      "familyNames": [
       "Huang"
      ],
      "givenNames": [
       "W"
      ],
      "type": "Person"
     },
     {
      "familyNames": [
       "Brewer"
      ],
      "givenNames": [
       "LK"
      ],
      "type": "Person"
     },
     {
      "familyNames": [
       "Jones"
      ],
      "givenNames": [
       "JW"
      ],
      "type": "Person"
     },
     {
      "familyNames": [
       "Nguyen"
      ],
      "givenNames": [
       "AT"
      ],
      "type": "Person"
     },
     {
      "familyNames": [
       "Marcu"
      ],
      "givenNames": [
       "A"
      ],
      "type": "Person"
     },
     {
      "familyNames": [
       "Wishart"
      ],
      "givenNames": [
       "DS"
      ],
      "type": "Person"
     },
     {
      "familyNames": [
       "Oglesby-Sherrouse"
      ],
      "givenNames": [
       "AG"
      ],
      "type": "Person"
     },
     {
      "familyNames": [
       "Kane"
      ],
      "givenNames": [
       "MA"
      ],
      "type": "Person"
     },
     {
      "familyNames": [
       "Wilks"
      ],
      "givenNames": [
       "A"
      ],
      "type": "Person"
     }
    ],
    "datePublished": {
     "type": "Date",
     "value": "2018"
    },
    "id": "bib52",
    "identifiers": [
     {
      "name": "doi",
      "propertyID": "https://registry.identifiers.org/registry/doi",
      "type": "PropertyValue",
      "value": "10.1093/nar/gkx1061"
     },
     {
      "name": "pmid",
      "propertyID": "https://registry.identifiers.org/registry/pmid",
      "type": "PropertyValue",
      "value": 29106626
     }
    ],
    "isPartOf": {
     "isPartOf": {
      "name": "Nucleic Acids Research",
      "type": "Periodical"
     },
     "type": "PublicationVolume",
     "volumeNumber": 46
    },
    "title": "PAMDB: a comprehensive Pseudomonas aeruginosa metabolome database",
    "type": "Article"
   },
   {
    "authors": [
     {
      "familyNames": [
       "Hunter"
      ],
      "givenNames": [
       "JD"
      ],
      "type": "Person"
     }
    ],
    "datePublished": {
     "type": "Date",
     "value": "2007"
    },
    "id": "bib53",
    "identifiers": [
     {
      "name": "doi",
      "propertyID": "https://registry.identifiers.org/registry/doi",
      "type": "PropertyValue",
      "value": "10.1109/MCSE.2007.55"
     }
    ],
    "isPartOf": {
     "isPartOf": {
      "name": "Computing in Science & Engineering",
      "type": "Periodical"
     },
     "type": "PublicationVolume",
     "volumeNumber": 9
    },
    "pageEnd": 95,
    "pageStart": 90,
    "title": "Matplotlib: A 2D Graphics Environment",
    "type": "Article"
   },
   {
    "authors": [
     {
      "familyNames": [
       "Ibezim"
      ],
      "givenNames": [
       "A"
      ],
      "type": "Person"
     },
     {
      "familyNames": [
       "Debnath"
      ],
      "givenNames": [
       "B"
      ],
      "type": "Person"
     },
     {
      "familyNames": [
       "Ntie-Kang"
      ],
      "givenNames": [
       "F"
      ],
      "type": "Person"
     },
     {
      "familyNames": [
       "Mbah"
      ],
      "givenNames": [
       "CJ"
      ],
      "type": "Person"
     },
     {
      "familyNames": [
       "Nwodo"
      ],
      "givenNames": [
       "NJ"
      ],
      "type": "Person"
     }
    ],
    "datePublished": {
     "type": "Date",
     "value": "2017"
    },
    "id": "bib54",
    "identifiers": [
     {
      "name": "doi",
      "propertyID": "https://registry.identifiers.org/registry/doi",
      "type": "PropertyValue",
      "value": "10.1007/s00044-016-1764-y"
     }
    ],
    "isPartOf": {
     "isPartOf": {
      "name": "Medicinal Chemistry Research",
      "type": "Periodical"
     },
     "type": "PublicationVolume",
     "volumeNumber": 26
    },
    "pageEnd": 579,
    "pageStart": 562,
    "title": "Binding of anti-Trypanosoma natural products from African flora against selected drug targets: a docking study",
    "type": "Article"
   },
   {
    "authors": [
     {
      "familyNames": [
       "Jarmusch"
      ],
      "givenNames": [
       "AK"
      ],
      "type": "Person"
     },
     {
      "familyNames": [
       "Wang"
      ],
      "givenNames": [
       "M"
      ],
      "type": "Person"
     },
     {
      "familyNames": [
       "Aceves"
      ],
      "givenNames": [
       "CM"
      ],
      "type": "Person"
     },
     {
      "familyNames": [
       "Advani"
      ],
      "givenNames": [
       "RS"
      ],
      "type": "Person"
     },
     {
      "familyNames": [
       "Aguirre"
      ],
      "givenNames": [
       "S"
      ],
      "type": "Person"
     },
     {
      "familyNames": [
       "Aksenov"
      ],
      "givenNames": [
       "AA"
      ],
      "type": "Person"
     },
     {
      "familyNames": [
       "Aleti"
      ],
      "givenNames": [
       "G"
      ],
      "type": "Person"
     },
     {
      "familyNames": [
       "Aron"
      ],
      "givenNames": [
       "AT"
      ],
      "type": "Person"
     },
     {
      "familyNames": [
       "Bauermeister"
      ],
      "givenNames": [
       "A"
      ],
      "type": "Person"
     },
     {
      "familyNames": [
       "Bolleddu"
      ],
      "givenNames": [
       "S"
      ],
      "type": "Person"
     },
     {
      "familyNames": [
       "Bouslimani"
      ],
      "givenNames": [
       "A"
      ],
      "type": "Person"
     },
     {
      "familyNames": [
       "Caraballo",
       "Rodriguez"
      ],
      "givenNames": [
       "AM"
      ],
      "type": "Person"
     },
     {
      "familyNames": [
       "Chaar"
      ],
      "givenNames": [
       "R"
      ],
      "type": "Person"
     },
     {
      "familyNames": [
       "Coras"
      ],
      "givenNames": [
       "R"
      ],
      "type": "Person"
     },
     {
      "familyNames": [
       "Elijah"
      ],
      "givenNames": [
       "EO"
      ],
      "type": "Person"
     },
     {
      "familyNames": [
       "Ernst"
      ],
      "givenNames": [
       "M"
      ],
      "type": "Person"
     },
     {
      "familyNames": [
       "Gauglitz"
      ],
      "givenNames": [
       "JM"
      ],
      "type": "Person"
     },
     {
      "familyNames": [
       "Gentry"
      ],
      "givenNames": [
       "EC"
      ],
      "type": "Person"
     },
     {
      "familyNames": [
       "Husband"
      ],
      "givenNames": [
       "M"
      ],
      "type": "Person"
     },
     {
      "familyNames": [
       "Jarmusch"
      ],
      "givenNames": [
       "SA"
      ],
      "type": "Person"
     },
     {
      "familyNames": [
       "Jones"
      ],
      "givenNames": [
       "KL"
      ],
      "type": "Person"
     },
     {
      "familyNames": [
       "Kamenik"
      ],
      "givenNames": [
       "Z"
      ],
      "type": "Person"
     },
     {
      "familyNames": [
       "Le",
       "Gouellec"
      ],
      "givenNames": [
       "A"
      ],
      "type": "Person"
     },
     {
      "familyNames": [
       "Lu"
      ],
      "givenNames": [
       "A"
      ],
      "type": "Person"
     },
     {
      "familyNames": [
       "McCall"
      ],
      "givenNames": [
       "LI"
      ],
      "type": "Person"
     },
     {
      "familyNames": [
       "McPhail"
      ],
      "givenNames": [
       "KL"
      ],
      "type": "Person"
     },
     {
      "familyNames": [
       "Meehan"
      ],
      "givenNames": [
       "MJ"
      ],
      "type": "Person"
     },
     {
      "familyNames": [
       "Melnik"
      ],
      "givenNames": [
       "AV"
      ],
      "type": "Person"
     },
     {
      "familyNames": [
       "Menezes"
      ],
      "givenNames": [
       "RC"
      ],
      "type": "Person"
     },
     {
      "familyNames": [
       "Montoya",
       "Giraldo"
      ],
      "givenNames": [
       "YA"
      ],
      "type": "Person"
     },
     {
      "familyNames": [
       "Nguyen"
      ],
      "givenNames": [
       "NH"
      ],
      "type": "Person"
     },
     {
      "familyNames": [
       "Nothias"
      ],
      "givenNames": [
       "LF"
      ],
      "type": "Person"
     },
     {
      "familyNames": [
       "Nothias-Esposito"
      ],
      "givenNames": [
       "M"
      ],
      "type": "Person"
     },
     {
      "familyNames": [
       "Panitchpakdi"
      ],
      "givenNames": [
       "M"
      ],
      "type": "Person"
     },
     {
      "familyNames": [
       "Petras"
      ],
      "givenNames": [
       "D"
      ],
      "type": "Person"
     },
     {
      "familyNames": [
       "Quinn"
      ],
      "givenNames": [
       "RA"
      ],
      "type": "Person"
     },
     {
      "familyNames": [
       "Sikora"
      ],
      "givenNames": [
       "N"
      ],
      "type": "Person"
     },
     {
      "familyNames": [
       "van",
       "der",
       "Hooft"
      ],
      "givenNames": [
       "JJJ"
      ],
      "type": "Person"
     },
     {
      "familyNames": [
       "Vargas"
      ],
      "givenNames": [
       "F"
      ],
      "type": "Person"
     },
     {
      "familyNames": [
       "Vrbanac"
      ],
      "givenNames": [
       "A"
      ],
      "type": "Person"
     },
     {
      "familyNames": [
       "Weldon"
      ],
      "givenNames": [
       "KC"
      ],
      "type": "Person"
     },
     {
      "familyNames": [
       "Knight"
      ],
      "givenNames": [
       "R"
      ],
      "type": "Person"
     },
     {
      "familyNames": [
       "Bandeira"
      ],
      "givenNames": [
       "N"
      ],
      "type": "Person"
     },
     {
      "familyNames": [
       "Dorrestein"
      ],
      "givenNames": [
       "PC"
      ],
      "type": "Person"
     }
    ],
    "datePublished": {
     "type": "Date",
     "value": "2020"
    },
    "id": "bib55",
    "identifiers": [
     {
      "name": "doi",
      "propertyID": "https://registry.identifiers.org/registry/doi",
      "type": "PropertyValue",
      "value": "10.1038/s41592-020-0916-7"
     },
     {
      "name": "pmid",
      "propertyID": "https://registry.identifiers.org/registry/pmid",
      "type": "PropertyValue",
      "value": 32807955
     }
    ],
    "isPartOf": {
     "isPartOf": {
      "name": "Nature Methods",
      "type": "Periodical"
     },
     "type": "PublicationVolume",
     "volumeNumber": 17
    },
    "pageEnd": 904,
    "pageStart": 901,
    "title": "ReDU: a framework to find and reanalyze public mass spectrometry data",
    "type": "Article"
   },
   {
    "authors": [
     {
      "familyNames": [
       "Jones"
      ],
      "givenNames": [
       "MR"
      ],
      "type": "Person"
     },
     {
      "familyNames": [
       "Pinto"
      ],
      "givenNames": [
       "E"
      ],
      "type": "Person"
     },
     {
      "familyNames": [
       "Torres"
      ],
      "givenNames": [
       "MA"
      ],
      "type": "Person"
     },
     {
      "familyNames": [
       "Dörr"
      ],
      "givenNames": [
       "F"
      ],
      "type": "Person"
     },
     {
      "familyNames": [
       "Mazur-Marzec"
      ],
      "givenNames": [
       "H"
      ],
      "type": "Person"
     },
     {
      "familyNames": [
       "Szubert"
      ],
      "givenNames": [
       "K"
      ],
      "type": "Person"
     },
     {
      "familyNames": [
       "Tartaglione"
      ],
      "givenNames": [
       "L"
      ],
      "type": "Person"
     },
     {
      "familyNames": [
       "Dell’Aversano"
      ],
      "givenNames": [
       "C"
      ],
      "type": "Person"
     },
     {
      "familyNames": [
       "Miles"
      ],
      "givenNames": [
       "CO"
      ],
      "type": "Person"
     },
     {
      "familyNames": [
       "Beach"
      ],
      "givenNames": [
       "DG"
      ],
      "type": "Person"
     },
     {
      "familyNames": [
       "McCarron"
      ],
      "givenNames": [
       "P"
      ],
      "type": "Person"
     },
     {
      "familyNames": [
       "Sivonen"
      ],
      "givenNames": [
       "K"
      ],
      "type": "Person"
     },
     {
      "familyNames": [
       "Fewer"
      ],
      "givenNames": [
       "DP"
      ],
      "type": "Person"
     },
     {
      "familyNames": [
       "Jokela"
      ],
      "givenNames": [
       "J"
      ],
      "type": "Person"
     },
     {
      "familyNames": [
       "Janssen"
      ],
      "givenNames": [
       "EM-L"
      ],
      "type": "Person"
     }
    ],
    "datePublished": {
     "type": "Date",
     "value": "2021"
    },
    "id": "bib56",
    "identifiers": [
     {
      "name": "doi",
      "propertyID": "https://registry.identifiers.org/registry/doi",
      "type": "PropertyValue",
      "value": "10.1016/j.watres.2021.117017"
     },
     {
      "name": "pmid",
      "propertyID": "https://registry.identifiers.org/registry/pmid",
      "type": "PropertyValue",
      "value": 33765498
     }
    ],
    "isPartOf": {
     "isPartOf": {
      "name": "Water Research",
      "type": "Periodical"
     },
     "type": "PublicationVolume",
     "volumeNumber": 196
    },
    "title": "CyanoMetDB, a comprehensive public database of secondary metabolites from cyanobacteria",
    "type": "Article"
   },
   {
    "authors": [
     {
      "familyNames": [
       "Jose"
      ],
      "givenNames": [
       "PA"
      ],
      "type": "Person"
     },
     {
      "familyNames": [
       "Maharshi"
      ],
      "givenNames": [
       "A"
      ],
      "type": "Person"
     },
     {
      "familyNames": [
       "Jha"
      ],
      "givenNames": [
       "B"
      ],
      "type": "Person"
     }
    ],
    "datePublished": {
     "type": "Date",
     "value": "2021"
    },
    "id": "bib57",
    "identifiers": [
     {
      "name": "doi",
      "propertyID": "https://registry.identifiers.org/registry/doi",
      "type": "PropertyValue",
      "value": "10.1016/j.micres.2021.126708"
     },
     {
      "name": "pmid",
      "propertyID": "https://registry.identifiers.org/registry/pmid",
      "type": "PropertyValue",
      "value": 33529791
     }
    ],
    "isPartOf": {
     "isPartOf": {
      "name": "Microbiological Research",
      "type": "Periodical"
     },
     "type": "PublicationVolume",
     "volumeNumber": 246
    },
    "title": "Actinobacteria in natural products research: Progress and prospects",
    "type": "Article"
   },
   {
    "authors": [
     {
      "familyNames": [
       "Kautsar"
      ],
      "givenNames": [
       "SA"
      ],
      "type": "Person"
     },
     {
      "familyNames": [
       "Blin"
      ],
      "givenNames": [
       "K"
      ],
      "type": "Person"
     },
     {
      "familyNames": [
       "Shaw"
      ],
      "givenNames": [
       "S"
      ],
      "type": "Person"
     },
     {
      "familyNames": [
       "Navarro-Muñoz"
      ],
      "givenNames": [
       "JC"
      ],
      "type": "Person"
     },
     {
      "familyNames": [
       "Terlouw"
      ],
      "givenNames": [
       "BR"
      ],
      "type": "Person"
     },
     {
      "familyNames": [
       "van",
       "der",
       "Hooft"
      ],
      "givenNames": [
       "JJJ"
      ],
      "type": "Person"
     },
     {
      "familyNames": [
       "van",
       "Santen"
      ],
      "givenNames": [
       "JA"
      ],
      "type": "Person"
     },
     {
      "familyNames": [
       "Tracanna"
      ],
      "givenNames": [
       "V"
      ],
      "type": "Person"
     },
     {
      "familyNames": [
       "Suarez",
       "Duran"
      ],
      "givenNames": [
       "HG"
      ],
      "type": "Person"
     },
     {
      "familyNames": [
       "Pascal",
       "Andreu"
      ],
      "givenNames": [
       "V"
      ],
      "type": "Person"
     },
     {
      "familyNames": [
       "Selem-Mojica"
      ],
      "givenNames": [
       "N"
      ],
      "type": "Person"
     },
     {
      "familyNames": [
       "Alanjary"
      ],
      "givenNames": [
       "M"
      ],
      "type": "Person"
     },
     {
      "familyNames": [
       "Robinson"
      ],
      "givenNames": [
       "SL"
      ],
      "type": "Person"
     },
     {
      "familyNames": [
       "Lund"
      ],
      "givenNames": [
       "G"
      ],
      "type": "Person"
     },
     {
      "familyNames": [
       "Epstein"
      ],
      "givenNames": [
       "SC"
      ],
      "type": "Person"
     },
     {
      "familyNames": [
       "Sisto"
      ],
      "givenNames": [
       "AC"
      ],
      "type": "Person"
     },
     {
      "familyNames": [
       "Charkoudian"
      ],
      "givenNames": [
       "LK"
      ],
      "type": "Person"
     },
     {
      "familyNames": [
       "Collemare"
      ],
      "givenNames": [
       "J"
      ],
      "type": "Person"
     },
     {
      "familyNames": [
       "Linington"
      ],
      "givenNames": [
       "RG"
      ],
      "type": "Person"
     },
     {
      "familyNames": [
       "Weber"
      ],
      "givenNames": [
       "T"
      ],
      "type": "Person"
     },
     {
      "familyNames": [
       "Medema"
      ],
      "givenNames": [
       "MH"
      ],
      "type": "Person"
     }
    ],
    "datePublished": {
     "type": "Date",
     "value": "2020"
    },
    "id": "bib58",
    "identifiers": [
     {
      "name": "doi",
      "propertyID": "https://registry.identifiers.org/registry/doi",
      "type": "PropertyValue",
      "value": "10.1093/nar/gkz882"
     },
     {
      "name": "pmid",
      "propertyID": "https://registry.identifiers.org/registry/pmid",
      "type": "PropertyValue",
      "value": 31612915
     }
    ],
    "isPartOf": {
     "isPartOf": {
      "name": "Nucleic Acids Research",
      "type": "Periodical"
     },
     "type": "PublicationVolume",
     "volumeNumber": 48
    },
    "title": "MIBiG 2.0: a repository for biosynthetic gene clusters of known function",
    "type": "Article"
   },
   {
    "authors": [
     {
      "familyNames": [
       "Kessler"
      ],
      "givenNames": [
       "A"
      ],
      "type": "Person"
     },
     {
      "familyNames": [
       "Kalske"
      ],
      "givenNames": [
       "A"
      ],
      "type": "Person"
     }
    ],
    "datePublished": {
     "type": "Date",
     "value": "2018"
    },
    "id": "bib59",
    "identifiers": [
     {
      "name": "doi",
      "propertyID": "https://registry.identifiers.org/registry/doi",
      "type": "PropertyValue",
      "value": "10.1146/annurev-ecolsys-110617-062406"
     }
    ],
    "isPartOf": {
     "isPartOf": {
      "name": "Annual Review of Ecology, Evolution, and Systematics",
      "type": "Periodical"
     },
     "type": "PublicationVolume",
     "volumeNumber": 49
    },
    "pageEnd": 138,
    "pageStart": 115,
    "title": "Plant Secondary Metabolite Diversity and Species Interactions",
    "type": "Article"
   },
   {
    "authors": [
     {
      "familyNames": [
       "Kim"
      ],
      "givenNames": [
       "SK"
      ],
      "type": "Person"
     },
     {
      "familyNames": [
       "Nam"
      ],
      "givenNames": [
       "S"
      ],
      "type": "Person"
     },
     {
      "familyNames": [
       "Jang"
      ],
      "givenNames": [
       "H"
      ],
      "type": "Person"
     },
     {
      "familyNames": [
       "Kim"
      ],
      "givenNames": [
       "A"
      ],
      "type": "Person"
     },
     {
      "familyNames": [
       "Lee"
      ],
      "givenNames": [
       "JJ"
      ],
      "type": "Person"
     }
    ],
    "datePublished": {
     "type": "Date",
     "value": "2015"
    },
    "id": "bib60",
    "identifiers": [
     {
      "name": "doi",
      "propertyID": "https://registry.identifiers.org/registry/doi",
      "type": "PropertyValue",
      "value": "10.1186/s12906-015-0758-5"
     },
     {
      "name": "pmid",
      "propertyID": "https://registry.identifiers.org/registry/pmid",
      "type": "PropertyValue",
      "value": 26156871
     }
    ],
    "isPartOf": {
     "isPartOf": {
      "name": "BMC Complementary and Alternative Medicine",
      "type": "Periodical"
     },
     "type": "PublicationVolume",
     "volumeNumber": 15
    },
    "title": "TM-MC: a database of medicinal materials and chemical compounds in Northeast Asian traditional medicine",
    "type": "Article"
   },
   {
    "authors": [
     {
      "familyNames": [
       "Kim"
      ],
      "givenNames": [
       "S"
      ],
      "type": "Person"
     },
     {
      "familyNames": [
       "Thiessen"
      ],
      "givenNames": [
       "PA"
      ],
      "type": "Person"
     },
     {
      "familyNames": [
       "Bolton"
      ],
      "givenNames": [
       "EE"
      ],
      "type": "Person"
     },
     {
      "familyNames": [
       "Bryant"
      ],
      "givenNames": [
       "SH"
      ],
      "type": "Person"
     }
    ],
    "datePublished": {
     "type": "Date",
     "value": "2015"
    },
    "id": "bib61",
    "identifiers": [
     {
      "name": "doi",
      "propertyID": "https://registry.identifiers.org/registry/doi",
      "type": "PropertyValue",
      "value": "10.1093/nar/gkv396"
     },
     {
      "name": "pmid",
      "propertyID": "https://registry.identifiers.org/registry/pmid",
      "type": "PropertyValue",
      "value": 25934803
     }
    ],
    "isPartOf": {
     "isPartOf": {
      "name": "Nucleic Acids Research",
      "type": "Periodical"
     },
     "type": "PublicationVolume",
     "volumeNumber": 43
    },
    "title": "PUG-SOAP and PUG-REST: web services for programmatic access to chemical information in PubChem",
    "type": "Article"
   },
   {
    "authors": [
     {
      "familyNames": [
       "Kim"
      ],
      "givenNames": [
       "S"
      ],
      "type": "Person"
     },
     {
      "familyNames": [
       "Thiessen"
      ],
      "givenNames": [
       "PA"
      ],
      "type": "Person"
     },
     {
      "familyNames": [
       "Cheng"
      ],
      "givenNames": [
       "T"
      ],
      "type": "Person"
     },
     {
      "familyNames": [
       "Yu"
      ],
      "givenNames": [
       "B"
      ],
      "type": "Person"
     },
     {
      "familyNames": [
       "Bolton"
      ],
      "givenNames": [
       "EE"
      ],
      "type": "Person"
     }
    ],
    "datePublished": {
     "type": "Date",
     "value": "2018"
    },
    "id": "bib62",
    "identifiers": [
     {
      "name": "doi",
      "propertyID": "https://registry.identifiers.org/registry/doi",
      "type": "PropertyValue",
      "value": "10.1093/nar/gky294"
     },
     {
      "name": "pmid",
      "propertyID": "https://registry.identifiers.org/registry/pmid",
      "type": "PropertyValue",
      "value": 29718389
     }
    ],
    "isPartOf": {
     "isPartOf": {
      "name": "Nucleic Acids Research",
      "type": "Periodical"
     },
     "type": "PublicationVolume",
     "volumeNumber": 46
    },
    "title": "An update on PUG-REST: RESTful interface for programmatic access to PubChem",
    "type": "Article"
   },
   {
    "authors": [
     {
      "familyNames": [
       "Kim"
      ],
      "givenNames": [
       "S"
      ],
      "type": "Person"
     },
     {
      "familyNames": [
       "Chen"
      ],
      "givenNames": [
       "J"
      ],
      "type": "Person"
     },
     {
      "familyNames": [
       "Cheng"
      ],
      "givenNames": [
       "T"
      ],
      "type": "Person"
     },
     {
      "familyNames": [
       "Gindulyte"
      ],
      "givenNames": [
       "A"
      ],
      "type": "Person"
     },
     {
      "familyNames": [
       "He"
      ],
      "givenNames": [
       "J"
      ],
      "type": "Person"
     },
     {
      "familyNames": [
       "He"
      ],
      "givenNames": [
       "S"
      ],
      "type": "Person"
     },
     {
      "familyNames": [
       "Li"
      ],
      "givenNames": [
       "Q"
      ],
      "type": "Person"
     },
     {
      "familyNames": [
       "Shoemaker"
      ],
      "givenNames": [
       "BA"
      ],
      "type": "Person"
     },
     {
      "familyNames": [
       "Thiessen"
      ],
      "givenNames": [
       "PA"
      ],
      "type": "Person"
     },
     {
      "familyNames": [
       "Yu"
      ],
      "givenNames": [
       "B"
      ],
      "type": "Person"
     },
     {
      "familyNames": [
       "Zaslavsky"
      ],
      "givenNames": [
       "L"
      ],
      "type": "Person"
     },
     {
      "familyNames": [
       "Zhang"
      ],
      "givenNames": [
       "J"
      ],
      "type": "Person"
     },
     {
      "familyNames": [
       "Bolton"
      ],
      "givenNames": [
       "EE"
      ],
      "type": "Person"
     }
    ],
    "datePublished": {
     "type": "Date",
     "value": "2019"
    },
    "id": "bib63",
    "identifiers": [
     {
      "name": "doi",
      "propertyID": "https://registry.identifiers.org/registry/doi",
      "type": "PropertyValue",
      "value": "10.1093/nar/gky1033"
     },
     {
      "name": "pmid",
      "propertyID": "https://registry.identifiers.org/registry/pmid",
      "type": "PropertyValue",
      "value": 30371825
     }
    ],
    "isPartOf": {
     "isPartOf": {
      "name": "Nucleic Acids Research",
      "type": "Periodical"
     },
     "type": "PublicationVolume",
     "volumeNumber": 47
    },
    "title": "PubChem 2019 update: improved access to chemical data",
    "type": "Article"
   },
   {
    "authors": [
     {
      "familyNames": [
       "Kim"
      ],
      "givenNames": [
       "HW"
      ],
      "type": "Person"
     },
     {
      "familyNames": [
       "Wang"
      ],
      "givenNames": [
       "M"
      ],
      "type": "Person"
     },
     {
      "familyNames": [
       "Leber"
      ],
      "givenNames": [
       "CA"
      ],
      "type": "Person"
     },
     {
      "familyNames": [
       "Nothias"
      ],
      "givenNames": [
       "L-F"
      ],
      "type": "Person"
     },
     {
      "familyNames": [
       "Reher"
      ],
      "givenNames": [
       "R"
      ],
      "type": "Person"
     },
     {
      "familyNames": [
       "Kang"
      ],
      "givenNames": [
       "KB"
      ],
      "type": "Person"
     },
     {
      "familyNames": [
       "van",
       "der",
       "Hooft"
      ],
      "givenNames": [
       "JJJ"
      ],
      "type": "Person"
     },
     {
      "familyNames": [
       "Dorrestein"
      ],
      "givenNames": [
       "PC"
      ],
      "type": "Person"
     },
     {
      "familyNames": [
       "Gerwick"
      ],
      "givenNames": [
       "WH"
      ],
      "type": "Person"
     },
     {
      "familyNames": [
       "Cottrell"
      ],
      "givenNames": [
       "GW"
      ],
      "type": "Person"
     }
    ],
    "datePublished": {
     "type": "Date",
     "value": "2021"
    },
    "id": "bib64",
    "identifiers": [
     {
      "name": "doi",
      "propertyID": "https://registry.identifiers.org/registry/doi",
      "type": "PropertyValue",
      "value": "10.1021/acs.jnatprod.1c00399"
     },
     {
      "name": "pmid",
      "propertyID": "https://registry.identifiers.org/registry/pmid",
      "type": "PropertyValue",
      "value": 34662515
     }
    ],
    "isPartOf": {
     "isPartOf": {
      "name": "Journal of Natural Products",
      "type": "Periodical"
     },
     "type": "PublicationVolume",
     "volumeNumber": 84
    },
    "pageEnd": 2807,
    "pageStart": 2795,
    "title": "NPClassifier: A Deep Neural Network-Based Structural Classification Tool for Natural Products",
    "type": "Article"
   },
   {
    "authors": [
     {
      "familyNames": [
       "Klementz"
      ],
      "givenNames": [
       "D"
      ],
      "type": "Person"
     },
     {
      "familyNames": [
       "Döring"
      ],
      "givenNames": [
       "K"
      ],
      "type": "Person"
     },
     {
      "familyNames": [
       "Lucas"
      ],
      "givenNames": [
       "X"
      ],
      "type": "Person"
     },
     {
      "familyNames": [
       "Telukunta"
      ],
      "givenNames": [
       "KK"
      ],
      "type": "Person"
     },
     {
      "familyNames": [
       "Erxleben"
      ],
      "givenNames": [
       "A"
      ],
      "type": "Person"
     },
     {
      "familyNames": [
       "Deubel"
      ],
      "givenNames": [
       "D"
      ],
      "type": "Person"
     },
     {
      "familyNames": [
       "Erber"
      ],
      "givenNames": [
       "A"
      ],
      "type": "Person"
     },
     {
      "familyNames": [
       "Santillana"
      ],
      "givenNames": [
       "I"
      ],
      "type": "Person"
     },
     {
      "familyNames": [
       "Thomas"
      ],
      "givenNames": [
       "OS"
      ],
      "type": "Person"
     },
     {
      "familyNames": [
       "Bechthold"
      ],
      "givenNames": [
       "A"
      ],
      "type": "Person"
     },
     {
      "familyNames": [
       "Günther"
      ],
      "givenNames": [
       "S"
      ],
      "type": "Person"
     }
    ],
    "datePublished": {
     "type": "Date",
     "value": "2016"
    },
    "id": "bib65",
    "identifiers": [
     {
      "name": "doi",
      "propertyID": "https://registry.identifiers.org/registry/doi",
      "type": "PropertyValue",
      "value": "10.1093/nar/gkv1319"
     },
     {
      "name": "pmid",
      "propertyID": "https://registry.identifiers.org/registry/pmid",
      "type": "PropertyValue",
      "value": 26615197
     }
    ],
    "isPartOf": {
     "isPartOf": {
      "name": "Nucleic Acids Research",
      "type": "Periodical"
     },
     "type": "PublicationVolume",
     "volumeNumber": 44
    },
    "title": "StreptomeDB 2.0--an extended resource of natural products produced by streptomycetes",
    "type": "Article"
   },
   {
    "authors": [
     {
      "familyNames": [
       "Kratochvíl"
      ],
      "givenNames": [
       "M"
      ],
      "type": "Person"
     },
     {
      "familyNames": [
       "Vondrášek"
      ],
      "givenNames": [
       "J"
      ],
      "type": "Person"
     },
     {
      "familyNames": [
       "Galgonek"
      ],
      "givenNames": [
       "J"
      ],
      "type": "Person"
     }
    ],
    "datePublished": {
     "type": "Date",
     "value": "2018"
    },
    "id": "bib66",
    "identifiers": [
     {
      "name": "doi",
      "propertyID": "https://registry.identifiers.org/registry/doi",
      "type": "PropertyValue",
      "value": "10.1186/s13321-018-0282-y"
     },
     {
      "name": "pmid",
      "propertyID": "https://registry.identifiers.org/registry/pmid",
      "type": "PropertyValue",
      "value": 29797000
     }
    ],
    "isPartOf": {
     "isPartOf": {
      "name": "Journal of Cheminformatics",
      "type": "Periodical"
     },
     "type": "PublicationVolume",
     "volumeNumber": 10
    },
    "title": "Sachem: a chemical cartridge for high-performance substructure search",
    "type": "Article"
   },
   {
    "authors": [
     {
      "familyNames": [
       "Kratochvíl"
      ],
      "givenNames": [
       "M"
      ],
      "type": "Person"
     },
     {
      "familyNames": [
       "Vondrášek"
      ],
      "givenNames": [
       "J"
      ],
      "type": "Person"
     },
     {
      "familyNames": [
       "Galgonek"
      ],
      "givenNames": [
       "J"
      ],
      "type": "Person"
     }
    ],
    "datePublished": {
     "type": "Date",
     "value": "2019"
    },
    "id": "bib67",
    "identifiers": [
     {
      "name": "doi",
      "propertyID": "https://registry.identifiers.org/registry/doi",
      "type": "PropertyValue",
      "value": "10.1186/s13321-019-0367-2"
     },
     {
      "name": "pmid",
      "propertyID": "https://registry.identifiers.org/registry/pmid",
      "type": "PropertyValue",
      "value": 31254167
     }
    ],
    "isPartOf": {
     "isPartOf": {
      "name": "Journal of Cheminformatics",
      "type": "Periodical"
     },
     "type": "PublicationVolume",
     "volumeNumber": 11
    },
    "title": "Interoperable chemical structure search service",
    "type": "Article"
   },
   {
    "authors": [
     {
      "familyNames": [
       "Kuang"
      ],
      "givenNames": [
       "K"
      ],
      "type": "Person"
     },
     {
      "familyNames": [
       "Kong"
      ],
      "givenNames": [
       "Q"
      ],
      "type": "Person"
     },
     {
      "familyNames": [
       "Napolitano"
      ],
      "givenNames": [
       "F"
      ],
      "type": "Person"
     }
    ],
    "datePublished": {
     "type": "Date",
     "value": "2019"
    },
    "id": "bib68",
    "title": "pbmcapply: Tracking the Progress of Mc*pply with Progress Bar",
    "type": "Article",
    "url": "https://CRAN.R-project.org/package=pbmcapply"
   },
   {
    "authors": [
     {
      "familyNames": [
       "Lang"
      ],
      "givenNames": [
       "DT"
      ],
      "type": "Person"
     }
    ],
    "datePublished": {
     "type": "Date",
     "value": "2020"
    },
    "id": "bib69",
    "title": "XML: Tools for Parsing and Generating XML Within R and S-Plus",
    "type": "Article",
    "url": "https://CRAN.R-project.org/package=XML"
   },
   {
    "authors": [
     {
      "familyNames": [
       "Lee"
      ],
      "givenNames": [
       "CJ"
      ],
      "type": "Person"
     },
     {
      "familyNames": [
       "Sugimoto"
      ],
      "givenNames": [
       "CR"
      ],
      "type": "Person"
     },
     {
      "familyNames": [
       "Zhang"
      ],
      "givenNames": [
       "G"
      ],
      "type": "Person"
     },
     {
      "familyNames": [
       "Cronin"
      ],
      "givenNames": [
       "B"
      ],
      "type": "Person"
     }
    ],
    "datePublished": {
     "type": "Date",
     "value": "2013"
    },
    "id": "bib70",
    "identifiers": [
     {
      "name": "doi",
      "propertyID": "https://registry.identifiers.org/registry/doi",
      "type": "PropertyValue",
      "value": "10.1002/asi.22784"
     }
    ],
    "isPartOf": {
     "isPartOf": {
      "name": "Journal of the American Society for Information Science and Technology",
      "type": "Periodical"
     },
     "type": "PublicationVolume",
     "volumeNumber": 64
    },
    "pageEnd": 17,
    "pageStart": 2,
    "title": "Bias in peer review",
    "type": "Article"
   },
   {
    "authors": [
     {
      "familyNames": [
       "Lin"
      ],
      "givenNames": [
       "D"
      ],
      "type": "Person"
     },
     {
      "familyNames": [
       "Crabtree"
      ],
      "givenNames": [
       "J"
      ],
      "type": "Person"
     },
     {
      "familyNames": [
       "Dillo"
      ],
      "givenNames": [
       "I"
      ],
      "type": "Person"
     },
     {
      "familyNames": [
       "Downs"
      ],
      "givenNames": [
       "RR"
      ],
      "type": "Person"
     },
     {
      "familyNames": [
       "Edmunds"
      ],
      "givenNames": [
       "R"
      ],
      "type": "Person"
     },
     {
      "familyNames": [
       "Giaretta"
      ],
      "givenNames": [
       "D"
      ],
      "type": "Person"
     },
     {
      "familyNames": [
       "De",
       "Giusti"
      ],
      "givenNames": [
       "M"
      ],
      "type": "Person"
     },
     {
      "familyNames": [
       "L’Hours"
      ],
      "givenNames": [
       "H"
      ],
      "type": "Person"
     },
     {
      "familyNames": [
       "Hugo"
      ],
      "givenNames": [
       "W"
      ],
      "type": "Person"
     },
     {
      "familyNames": [
       "Jenkyns"
      ],
      "givenNames": [
       "R"
      ],
      "type": "Person"
     },
     {
      "familyNames": [
       "Khodiyar"
      ],
      "givenNames": [
       "V"
      ],
      "type": "Person"
     },
     {
      "familyNames": [
       "Martone"
      ],
      "givenNames": [
       "ME"
      ],
      "type": "Person"
     },
     {
      "familyNames": [
       "Mokrane"
      ],
      "givenNames": [
       "M"
      ],
      "type": "Person"
     },
     {
      "familyNames": [
       "Navale"
      ],
      "givenNames": [
       "V"
      ],
      "type": "Person"
     },
     {
      "familyNames": [
       "Petters"
      ],
      "givenNames": [
       "J"
      ],
      "type": "Person"
     },
     {
      "familyNames": [
       "Sierman"
      ],
      "givenNames": [
       "B"
      ],
      "type": "Person"
     },
     {
      "familyNames": [
       "Sokolova"
      ],
      "givenNames": [
       "DV"
      ],
      "type": "Person"
     },
     {
      "familyNames": [
       "Stockhause"
      ],
      "givenNames": [
       "M"
      ],
      "type": "Person"
     },
     {
      "familyNames": [
       "Westbrook"
      ],
      "givenNames": [
       "J"
      ],
      "type": "Person"
     }
    ],
    "datePublished": {
     "type": "Date",
     "value": "2020"
    },
    "id": "bib71",
    "identifiers": [
     {
      "name": "doi",
      "propertyID": "https://registry.identifiers.org/registry/doi",
      "type": "PropertyValue",
      "value": "10.1038/s41597-020-0486-7"
     },
     {
      "name": "pmid",
      "propertyID": "https://registry.identifiers.org/registry/pmid",
      "type": "PropertyValue",
      "value": 32409645
     }
    ],
    "isPartOf": {
     "isPartOf": {
      "name": "Scientific Data",
      "type": "Periodical"
     },
     "type": "PublicationVolume",
     "volumeNumber": 7
    },
    "title": "The TRUST Principles for digital repositories",
    "type": "Article"
   },
   {
    "authors": [
     {
      "familyNames": [
       "Loo"
      ],
      "givenNames": [
       "M"
      ],
      "type": "Person"
     }
    ],
    "datePublished": {
     "type": "Date",
     "value": "2014"
    },
    "id": "bib72",
    "identifiers": [
     {
      "name": "doi",
      "propertyID": "https://registry.identifiers.org/registry/doi",
      "type": "PropertyValue",
      "value": "10.32614/RJ-2014-011"
     }
    ],
    "isPartOf": {
     "isPartOf": {
      "name": "The R Journal",
      "type": "Periodical"
     },
     "type": "PublicationVolume",
     "volumeNumber": 6
    },
    "title": "The stringdist Package for Approximate String Matching",
    "type": "Article"
   },
   {
    "authors": [
     {
      "familyNames": [
       "Lowe"
      ],
      "givenNames": [
       "DM"
      ],
      "type": "Person"
     },
     {
      "familyNames": [
       "Corbett"
      ],
      "givenNames": [
       "PT"
      ],
      "type": "Person"
     },
     {
      "familyNames": [
       "Murray-Rust"
      ],
      "givenNames": [
       "P"
      ],
      "type": "Person"
     },
     {
      "familyNames": [
       "Glen"
      ],
      "givenNames": [
       "RC"
      ],
      "type": "Person"
     }
    ],
    "datePublished": {
     "type": "Date",
     "value": "2011"
    },
    "id": "bib73",
    "identifiers": [
     {
      "name": "doi",
      "propertyID": "https://registry.identifiers.org/registry/doi",
      "type": "PropertyValue",
      "value": "10.1021/ci100384d"
     },
     {
      "name": "pmid",
      "propertyID": "https://registry.identifiers.org/registry/pmid",
      "type": "PropertyValue",
      "value": 21384929
     }
    ],
    "isPartOf": {
     "isPartOf": {
      "name": "Journal of Chemical Information and Modeling",
      "type": "Periodical"
     },
     "type": "PublicationVolume",
     "volumeNumber": 51
    },
    "pageEnd": 753,
    "pageStart": 739,
    "title": "Chemical name to structure: OPSIN, an open source solution",
    "type": "Article"
   },
   {
    "authors": [
     {
      "familyNames": [
       "Madariaga-Mazón"
      ],
      "givenNames": [
       "A"
      ],
      "type": "Person"
     },
     {
      "familyNames": [
       "Naveja"
      ],
      "givenNames": [
       "JJ"
      ],
      "type": "Person"
     },
     {
      "familyNames": [
       "Medina-Franco"
      ],
      "givenNames": [
       "JL"
      ],
      "type": "Person"
     },
     {
      "familyNames": [
       "Noriega-Colima"
      ],
      "givenNames": [
       "KO"
      ],
      "type": "Person"
     },
     {
      "familyNames": [
       "Martinez-Mayorga"
      ],
      "givenNames": [
       "K"
      ],
      "type": "Person"
     }
    ],
    "datePublished": {
     "type": "Date",
     "value": "2021"
    },
    "id": "bib74",
    "identifiers": [
     {
      "name": "doi",
      "propertyID": "https://registry.identifiers.org/registry/doi",
      "type": "PropertyValue",
      "value": "10.1039/D0RA10453A"
     }
    ],
    "isPartOf": {
     "isPartOf": {
      "name": "RSC Advances",
      "type": "Periodical"
     },
     "type": "PublicationVolume",
     "volumeNumber": 11
    },
    "pageEnd": 5178,
    "pageStart": 5172,
    "title": "DiaNat-DB: a molecular database of antidiabetic compounds from medicinal plants",
    "type": "Article"
   },
   {
    "authors": [
     {
      "familyNames": [
       "Mahto"
      ],
      "givenNames": [
       "A"
      ],
      "type": "Person"
     }
    ],
    "datePublished": {
     "type": "Date",
     "value": "2019"
    },
    "id": "bib75",
    "title": "splitstackshape: Stack and Reshape Datasets After Splitting Concatenated Values",
    "type": "Article",
    "url": "https://CRAN.R-project.org/package=splitstackshape"
   },
   {
    "authors": [
     {
      "familyNames": [
       "Martens"
      ],
      "givenNames": [
       "M"
      ],
      "type": "Person"
     },
     {
      "familyNames": [
       "Ammar"
      ],
      "givenNames": [
       "A"
      ],
      "type": "Person"
     },
     {
      "familyNames": [
       "Riutta"
      ],
      "givenNames": [
       "A"
      ],
      "type": "Person"
     },
     {
      "familyNames": [
       "Waagmeester"
      ],
      "givenNames": [
       "A"
      ],
      "type": "Person"
     },
     {
      "familyNames": [
       "Slenter"
      ],
      "givenNames": [
       "DN"
      ],
      "type": "Person"
     },
     {
      "familyNames": [
       "Hanspers"
      ],
      "givenNames": [
       "K"
      ],
      "type": "Person"
     },
     {
      "familyNames": [
       "A",
       "Miller"
      ],
      "givenNames": [
       "R"
      ],
      "type": "Person"
     },
     {
      "familyNames": [
       "Digles"
      ],
      "givenNames": [
       "D"
      ],
      "type": "Person"
     },
     {
      "familyNames": [
       "Lopes"
      ],
      "givenNames": [
       "EN"
      ],
      "type": "Person"
     },
     {
      "familyNames": [
       "Ehrhart"
      ],
      "givenNames": [
       "F"
      ],
      "type": "Person"
     },
     {
      "familyNames": [
       "Dupuis"
      ],
      "givenNames": [
       "LJ"
      ],
      "type": "Person"
     },
     {
      "familyNames": [
       "Winckers"
      ],
      "givenNames": [
       "LA"
      ],
      "type": "Person"
     },
     {
      "familyNames": [
       "Coort"
      ],
      "givenNames": [
       "SL"
      ],
      "type": "Person"
     },
     {
      "familyNames": [
       "Willighagen"
      ],
      "givenNames": [
       "EL"
      ],
      "type": "Person"
     },
     {
      "familyNames": [
       "Evelo"
      ],
      "givenNames": [
       "CT"
      ],
      "type": "Person"
     },
     {
      "familyNames": [
       "Pico"
      ],
      "givenNames": [
       "AR"
      ],
      "type": "Person"
     },
     {
      "familyNames": [
       "Kutmon"
      ],
      "givenNames": [
       "M"
      ],
      "type": "Person"
     }
    ],
    "datePublished": {
     "type": "Date",
     "value": "2021"
    },
    "id": "bib76",
    "identifiers": [
     {
      "name": "doi",
      "propertyID": "https://registry.identifiers.org/registry/doi",
      "type": "PropertyValue",
      "value": "10.1093/nar/gkaa1024"
     },
     {
      "name": "pmid",
      "propertyID": "https://registry.identifiers.org/registry/pmid",
      "type": "PropertyValue",
      "value": 33211851
     }
    ],
    "isPartOf": {
     "isPartOf": {
      "name": "Nucleic Acids Research",
      "type": "Periodical"
     },
     "type": "PublicationVolume",
     "volumeNumber": 49
    },
    "title": "WikiPathways: connecting communities",
    "type": "Article"
   },
   {
    "authors": [
     {
      "familyNames": [
       "McAlpine"
      ],
      "givenNames": [
       "JB"
      ],
      "type": "Person"
     },
     {
      "familyNames": [
       "Chen"
      ],
      "givenNames": [
       "S-N"
      ],
      "type": "Person"
     },
     {
      "familyNames": [
       "Kutateladze"
      ],
      "givenNames": [
       "A"
      ],
      "type": "Person"
     },
     {
      "familyNames": [
       "MacMillan"
      ],
      "givenNames": [
       "JB"
      ],
      "type": "Person"
     },
     {
      "familyNames": [
       "Appendino"
      ],
      "givenNames": [
       "G"
      ],
      "type": "Person"
     },
     {
      "familyNames": [
       "Barison"
      ],
      "givenNames": [
       "A"
      ],
      "type": "Person"
     },
     {
      "familyNames": [
       "Beniddir"
      ],
      "givenNames": [
       "MA"
      ],
      "type": "Person"
     },
     {
      "familyNames": [
       "Biavatti"
      ],
      "givenNames": [
       "MW"
      ],
      "type": "Person"
     },
     {
      "familyNames": [
       "Bluml"
      ],
      "givenNames": [
       "S"
      ],
      "type": "Person"
     },
     {
      "familyNames": [
       "Boufridi"
      ],
      "givenNames": [
       "A"
      ],
      "type": "Person"
     },
     {
      "familyNames": [
       "Butler"
      ],
      "givenNames": [
       "MS"
      ],
      "type": "Person"
     },
     {
      "familyNames": [
       "Capon"
      ],
      "givenNames": [
       "RJ"
      ],
      "type": "Person"
     },
     {
      "familyNames": [
       "Choi"
      ],
      "givenNames": [
       "YH"
      ],
      "type": "Person"
     },
     {
      "familyNames": [
       "Coppage"
      ],
      "givenNames": [
       "D"
      ],
      "type": "Person"
     },
     {
      "familyNames": [
       "Crews"
      ],
      "givenNames": [
       "P"
      ],
      "type": "Person"
     },
     {
      "familyNames": [
       "Crimmins"
      ],
      "givenNames": [
       "MT"
      ],
      "type": "Person"
     },
     {
      "familyNames": [
       "Csete"
      ],
      "givenNames": [
       "M"
      ],
      "type": "Person"
     },
     {
      "familyNames": [
       "Dewapriya"
      ],
      "givenNames": [
       "P"
      ],
      "type": "Person"
     },
     {
      "familyNames": [
       "Egan"
      ],
      "givenNames": [
       "JM"
      ],
      "type": "Person"
     },
     {
      "familyNames": [
       "Garson"
      ],
      "givenNames": [
       "MJ"
      ],
      "type": "Person"
     },
     {
      "familyNames": [
       "Genta-Jouve"
      ],
      "givenNames": [
       "G"
      ],
      "type": "Person"
     },
     {
      "familyNames": [
       "Gerwick"
      ],
      "givenNames": [
       "WH"
      ],
      "type": "Person"
     },
     {
      "familyNames": [
       "Gross"
      ],
      "givenNames": [
       "H"
      ],
      "type": "Person"
     },
     {
      "familyNames": [
       "Harper"
      ],
      "givenNames": [
       "MK"
      ],
      "type": "Person"
     },
     {
      "familyNames": [
       "Hermanto"
      ],
      "givenNames": [
       "P"
      ],
      "type": "Person"
     },
     {
      "familyNames": [
       "Hook"
      ],
      "givenNames": [
       "JM"
      ],
      "type": "Person"
     },
     {
      "familyNames": [
       "Hunter"
      ],
      "givenNames": [
       "L"
      ],
      "type": "Person"
     },
     {
      "familyNames": [
       "Jeannerat"
      ],
      "givenNames": [
       "D"
      ],
      "type": "Person"
     },
     {
      "familyNames": [
       "Ji"
      ],
      "givenNames": [
       "N-Y"
      ],
      "type": "Person"
     },
     {
      "familyNames": [
       "Johnson"
      ],
      "givenNames": [
       "TA"
      ],
      "type": "Person"
     },
     {
      "familyNames": [
       "Kingston"
      ],
      "givenNames": [
       "DGI"
      ],
      "type": "Person"
     },
     {
      "familyNames": [
       "Koshino"
      ],
      "givenNames": [
       "H"
      ],
      "type": "Person"
     },
     {
      "familyNames": [
       "Lee"
      ],
      "givenNames": [
       "H-W"
      ],
      "type": "Person"
     },
     {
      "familyNames": [
       "Lewin"
      ],
      "givenNames": [
       "G"
      ],
      "type": "Person"
     },
     {
      "familyNames": [
       "Li"
      ],
      "givenNames": [
       "J"
      ],
      "type": "Person"
     },
     {
      "familyNames": [
       "Linington"
      ],
      "givenNames": [
       "RG"
      ],
      "type": "Person"
     },
     {
      "familyNames": [
       "Liu"
      ],
      "givenNames": [
       "M"
      ],
      "type": "Person"
     },
     {
      "familyNames": [
       "McPhail"
      ],
      "givenNames": [
       "KL"
      ],
      "type": "Person"
     },
     {
      "familyNames": [
       "Molinski"
      ],
      "givenNames": [
       "TF"
      ],
      "type": "Person"
     },
     {
      "familyNames": [
       "Moore"
      ],
      "givenNames": [
       "BS"
      ],
      "type": "Person"
     },
     {
      "familyNames": [
       "Nam"
      ],
      "givenNames": [
       "J-W"
      ],
      "type": "Person"
     },
     {
      "familyNames": [
       "Neupane"
      ],
      "givenNames": [
       "RP"
      ],
      "type": "Person"
     },
     {
      "familyNames": [
       "Niemitz"
      ],
      "givenNames": [
       "M"
      ],
      "type": "Person"
     },
     {
      "familyNames": [
       "Nuzillard"
      ],
      "givenNames": [
       "J-M"
      ],
      "type": "Person"
     },
     {
      "familyNames": [
       "Oberlies"
      ],
      "givenNames": [
       "NH"
      ],
      "type": "Person"
     },
     {
      "familyNames": [
       "Ocampos"
      ],
      "givenNames": [
       "FMM"
      ],
      "type": "Person"
     },
     {
      "familyNames": [
       "Pan"
      ],
      "givenNames": [
       "G"
      ],
      "type": "Person"
     },
     {
      "familyNames": [
       "Quinn"
      ],
      "givenNames": [
       "RJ"
      ],
      "type": "Person"
     },
     {
      "familyNames": [
       "Reddy"
      ],
      "givenNames": [
       "DS"
      ],
      "type": "Person"
     },
     {
      "familyNames": [
       "Renault"
      ],
      "givenNames": [
       "J-H"
      ],
      "type": "Person"
     },
     {
      "familyNames": [
       "Rivera-Chávez"
      ],
      "givenNames": [
       "J"
      ],
      "type": "Person"
     },
     {
      "familyNames": [
       "Robien"
      ],
      "givenNames": [
       "W"
      ],
      "type": "Person"
     },
     {
      "familyNames": [
       "Saunders"
      ],
      "givenNames": [
       "CM"
      ],
      "type": "Person"
     },
     {
      "familyNames": [
       "Schmidt"
      ],
      "givenNames": [
       "TJ"
      ],
      "type": "Person"
     },
     {
      "familyNames": [
       "Seger"
      ],
      "givenNames": [
       "C"
      ],
      "type": "Person"
     },
     {
      "familyNames": [
       "Shen"
      ],
      "givenNames": [
       "B"
      ],
      "type": "Person"
     },
     {
      "familyNames": [
       "Steinbeck"
      ],
      "givenNames": [
       "C"
      ],
      "type": "Person"
     },
     {
      "familyNames": [
       "Stuppner"
      ],
      "givenNames": [
       "H"
      ],
      "type": "Person"
     },
     {
      "familyNames": [
       "Sturm"
      ],
      "givenNames": [
       "S"
      ],
      "type": "Person"
     },
     {
      "familyNames": [
       "Taglialatela-Scafati"
      ],
      "givenNames": [
       "O"
      ],
      "type": "Person"
     },
     {
      "familyNames": [
       "Tantillo"
      ],
      "givenNames": [
       "DJ"
      ],
      "type": "Person"
     },
     {
      "familyNames": [
       "Verpoorte"
      ],
      "givenNames": [
       "R"
      ],
      "type": "Person"
     },
     {
      "familyNames": [
       "Wang"
      ],
      "givenNames": [
       "B-G"
      ],
      "type": "Person"
     },
     {
      "familyNames": [
       "Williams"
      ],
      "givenNames": [
       "CM"
      ],
      "type": "Person"
     },
     {
      "familyNames": [
       "Williams"
      ],
      "givenNames": [
       "PG"
      ],
      "type": "Person"
     },
     {
      "familyNames": [
       "Wist"
      ],
      "givenNames": [
       "J"
      ],
      "type": "Person"
     },
     {
      "familyNames": [
       "Yue"
      ],
      "givenNames": [
       "J-M"
      ],
      "type": "Person"
     },
     {
      "familyNames": [
       "Zhang"
      ],
      "givenNames": [
       "C"
      ],
      "type": "Person"
     },
     {
      "familyNames": [
       "Xu"
      ],
      "givenNames": [
       "Z"
      ],
      "type": "Person"
     },
     {
      "familyNames": [
       "Simmler"
      ],
      "givenNames": [
       "C"
      ],
      "type": "Person"
     },
     {
      "familyNames": [
       "Lankin"
      ],
      "givenNames": [
       "DC"
      ],
      "type": "Person"
     },
     {
      "familyNames": [
       "Bisson"
      ],
      "givenNames": [
       "J"
      ],
      "type": "Person"
     },
     {
      "familyNames": [
       "Pauli"
      ],
      "givenNames": [
       "GF"
      ],
      "type": "Person"
     }
    ],
    "datePublished": {
     "type": "Date",
     "value": "2019"
    },
    "id": "bib77",
    "identifiers": [
     {
      "name": "doi",
      "propertyID": "https://registry.identifiers.org/registry/doi",
      "type": "PropertyValue",
      "value": "10.1039/c7np00064b"
     },
     {
      "name": "pmid",
      "propertyID": "https://registry.identifiers.org/registry/pmid",
      "type": "PropertyValue",
      "value": 30003207
     }
    ],
    "isPartOf": {
     "isPartOf": {
      "name": "Natural Product Reports",
      "type": "Periodical"
     },
     "type": "PublicationVolume",
     "volumeNumber": 36
    },
    "pageEnd": 107,
    "pageStart": 35,
    "title": "The value of universally available raw NMR data for transparency, reproducibility, and integrity in natural product research",
    "type": "Article"
   },
   {
    "authors": [
     {
      "familyNames": [
       "Michonneau"
      ],
      "givenNames": [
       "F"
      ],
      "type": "Person"
     },
     {
      "familyNames": [
       "Brown"
      ],
      "givenNames": [
       "JW"
      ],
      "type": "Person"
     },
     {
      "familyNames": [
       "Winter"
      ],
      "givenNames": [
       "DJ"
      ],
      "type": "Person"
     },
     {
      "familyNames": [
       "Fitzjohn"
      ],
      "givenNames": [
       "R"
      ],
      "type": "Person"
     }
    ],
    "datePublished": {
     "type": "Date",
     "value": "2016"
    },
    "id": "bib78",
    "identifiers": [
     {
      "name": "doi",
      "propertyID": "https://registry.identifiers.org/registry/doi",
      "type": "PropertyValue",
      "value": "10.1111/2041-210X.12593"
     }
    ],
    "isPartOf": {
     "isPartOf": {
      "name": "Methods in Ecology and Evolution",
      "type": "Periodical"
     },
     "type": "PublicationVolume",
     "volumeNumber": 7
    },
    "pageEnd": 1481,
    "pageStart": 1476,
    "title": "rotl: an R package to interact with the Open Tree of Life data",
    "type": "Article"
   },
   {
    "authors": [
     {
      "familyNames": [
       "Mohamed"
      ],
      "givenNames": [
       "A"
      ],
      "type": "Person"
     },
     {
      "familyNames": [
       "Abuoda"
      ],
      "givenNames": [
       "G"
      ],
      "type": "Person"
     },
     {
      "familyNames": [
       "Ghanem"
      ],
      "givenNames": [
       "A"
      ],
      "type": "Person"
     },
     {
      "familyNames": [
       "Kaoudi"
      ],
      "givenNames": [
       "Z"
      ],
      "type": "Person"
     },
     {
      "familyNames": [
       "Aboulnaga"
      ],
      "givenNames": [
       "A"
      ],
      "type": "Person"
     }
    ],
    "datePublished": {
     "type": "Date",
     "value": "2020"
    },
    "id": "bib79",
    "title": "RDFFrames: Knowledge Graph Access for Machine Learning Tools",
    "type": "Article",
    "url": "https://www.wikidata.org/wiki/Q106204599"
   },
   {
    "authors": [
     {
      "familyNames": [
       "Mongia"
      ],
      "givenNames": [
       "M"
      ],
      "type": "Person"
     },
     {
      "familyNames": [
       "Mohimani"
      ],
      "givenNames": [
       "H"
      ],
      "type": "Person"
     }
    ],
    "datePublished": {
     "type": "Date",
     "value": "2021"
    },
    "id": "bib80",
    "identifiers": [
     {
      "name": "doi",
      "propertyID": "https://registry.identifiers.org/registry/doi",
      "type": "PropertyValue",
      "value": "10.1038/s41598-021-87796-6"
     },
     {
      "name": "pmid",
      "propertyID": "https://registry.identifiers.org/registry/pmid",
      "type": "PropertyValue",
      "value": 33859284
     }
    ],
    "isPartOf": {
     "isPartOf": {
      "name": "Scientific Reports",
      "type": "Periodical"
     },
     "type": "PublicationVolume",
     "volumeNumber": 11
    },
    "title": "Repository scale classification and decomposition of tandem mass spectral data",
    "type": "Article"
   },
   {
    "authors": [
     {
      "familyNames": [
       "Müller"
      ],
      "givenNames": [
       "K"
      ],
      "type": "Person"
     },
     {
      "familyNames": [
       "Wickham"
      ],
      "givenNames": [
       "H"
      ],
      "type": "Person"
     },
     {
      "familyNames": [
       "James"
      ],
      "givenNames": [
       "DA"
      ],
      "type": "Person"
     },
     {
      "familyNames": [
       "Falcon"
      ],
      "givenNames": [
       "S"
      ],
      "type": "Person"
     }
    ],
    "datePublished": {
     "type": "Date",
     "value": "2021"
    },
    "id": "bib81",
    "title": "RSQLite: “SQLite” interface for r",
    "type": "Article",
    "url": "https://CRAN.R-project.org/package=RSQLite"
   },
   {
    "authors": [
     {
      "familyNames": [
       "Murray-Rust"
      ],
      "givenNames": [
       "P"
      ],
      "type": "Person"
     }
    ],
    "datePublished": {
     "type": "Date",
     "value": "2008"
    },
    "id": "bib82",
    "identifiers": [
     {
      "name": "doi",
      "propertyID": "https://registry.identifiers.org/registry/doi",
      "type": "PropertyValue",
      "value": "10.1038/npre.2008.1526.1"
     }
    ],
    "isPartOf": {
     "isPartOf": {
      "name": "Nature Precedings",
      "type": "Periodical"
     },
     "type": "PublicationVolume",
     "volumeNumber": 4
    },
    "title": "Open Data in Science",
    "type": "Article"
   },
   {
    "authors": [
     {
      "familyNames": [
       "Noteborn"
      ],
      "givenNames": [
       "HP"
      ],
      "type": "Person"
     },
     {
      "familyNames": [
       "Lommen"
      ],
      "givenNames": [
       "A"
      ],
      "type": "Person"
     },
     {
      "familyNames": [
       "van",
       "der",
       "Jagt"
      ],
      "givenNames": [
       "RC"
      ],
      "type": "Person"
     },
     {
      "familyNames": [
       "Weseman"
      ],
      "givenNames": [
       "JM"
      ],
      "type": "Person"
     }
    ],
    "datePublished": {
     "type": "Date",
     "value": "2000"
    },
    "id": "bib83",
    "identifiers": [
     {
      "name": "doi",
      "propertyID": "https://registry.identifiers.org/registry/doi",
      "type": "PropertyValue",
      "value": "10.1016/s0168-1656(99)00210-2"
     },
     {
      "name": "pmid",
      "propertyID": "https://registry.identifiers.org/registry/pmid",
      "type": "PropertyValue",
      "value": 10674217
     }
    ],
    "isPartOf": {
     "isPartOf": {
      "name": "Journal of Biotechnology",
      "type": "Periodical"
     },
     "type": "PublicationVolume",
     "volumeNumber": 77
    },
    "pageEnd": 114,
    "pageStart": 103,
    "title": "Chemical fingerprinting for the evaluation of unintended secondary metabolic changes in transgenic food crops",
    "type": "Article"
   },
   {
    "authors": [
     {
      "familyNames": [
       "Ntie-Kang"
      ],
      "givenNames": [
       "F"
      ],
      "type": "Person"
     },
     {
      "familyNames": [
       "Telukunta"
      ],
      "givenNames": [
       "KK"
      ],
      "type": "Person"
     },
     {
      "familyNames": [
       "Döring"
      ],
      "givenNames": [
       "K"
      ],
      "type": "Person"
     },
     {
      "familyNames": [
       "Simoben"
      ],
      "givenNames": [
       "CV"
      ],
      "type": "Person"
     },
     {
      "familyNames": [
       "A",
       "Moumbock"
      ],
      "givenNames": [
       "AF"
      ],
      "type": "Person"
     },
     {
      "familyNames": [
       "Malange"
      ],
      "givenNames": [
       "YI"
      ],
      "type": "Person"
     },
     {
      "familyNames": [
       "Njume"
      ],
      "givenNames": [
       "LE"
      ],
      "type": "Person"
     },
     {
      "familyNames": [
       "Yong"
      ],
      "givenNames": [
       "JN"
      ],
      "type": "Person"
     },
     {
      "familyNames": [
       "Sippl"
      ],
      "givenNames": [
       "W"
      ],
      "type": "Person"
     },
     {
      "familyNames": [
       "Günther"
      ],
      "givenNames": [
       "S"
      ],
      "type": "Person"
     }
    ],
    "datePublished": {
     "type": "Date",
     "value": "2017"
    },
    "id": "bib84",
    "identifiers": [
     {
      "name": "doi",
      "propertyID": "https://registry.identifiers.org/registry/doi",
      "type": "PropertyValue",
      "value": "10.1021/acs.jnatprod.7b00283"
     },
     {
      "name": "pmid",
      "propertyID": "https://registry.identifiers.org/registry/pmid",
      "type": "PropertyValue",
      "value": 28641017
     }
    ],
    "isPartOf": {
     "isPartOf": {
      "name": "Journal of Natural Products",
      "type": "Periodical"
     },
     "type": "PublicationVolume",
     "volumeNumber": 80
    },
    "pageEnd": 2076,
    "pageStart": 2067,
    "title": "NANPDB: A Resource for Natural Products from Northern African Sources",
    "type": "Article"
   },
   {
    "authors": [
     {
      "familyNames": [
       "Nupur"
      ],
      "givenNames": [
       "LNU"
      ],
      "type": "Person"
     },
     {
      "familyNames": [
       "Vats"
      ],
      "givenNames": [
       "A"
      ],
      "type": "Person"
     },
     {
      "familyNames": [
       "Dhanda"
      ],
      "givenNames": [
       "SK"
      ],
      "type": "Person"
     },
     {
      "familyNames": [
       "Raghava"
      ],
      "givenNames": [
       "GPS"
      ],
      "type": "Person"
     },
     {
      "familyNames": [
       "Pinnaka"
      ],
      "givenNames": [
       "AK"
      ],
      "type": "Person"
     },
     {
      "familyNames": [
       "Kumar"
      ],
      "givenNames": [
       "A"
      ],
      "type": "Person"
     }
    ],
    "datePublished": {
     "type": "Date",
     "value": "2016"
    },
    "id": "bib85",
    "identifiers": [
     {
      "name": "doi",
      "propertyID": "https://registry.identifiers.org/registry/doi",
      "type": "PropertyValue",
      "value": "10.1186/s12866-016-0715-6"
     },
     {
      "name": "pmid",
      "propertyID": "https://registry.identifiers.org/registry/pmid",
      "type": "PropertyValue",
      "value": 27230105
     }
    ],
    "isPartOf": {
     "isPartOf": {
      "name": "BMC Microbiology",
      "type": "Periodical"
     },
     "type": "PublicationVolume",
     "volumeNumber": 16
    },
    "title": "ProCarDB: a database of bacterial carotenoids",
    "type": "Article"
   },
   {
    "authors": [
     {
      "familyNames": [
       "Ooms"
      ],
      "givenNames": [
       "J"
      ],
      "type": "Person"
     }
    ],
    "datePublished": {
     "type": "Date",
     "value": "2014"
    },
    "id": "bib86",
    "title": "The jsonlite Package: A Practical and Consistent Mapping Between JSON Data and R Objects",
    "type": "Article",
    "url": "https://www.wikidata.org/wiki/Q106204620"
   },
   {
    "authors": [
     {
      "familyNames": [
       "Pedersen"
      ],
      "givenNames": [
       "TL"
      ],
      "type": "Person"
     }
    ],
    "datePublished": {
     "type": "Date",
     "value": "2020"
    },
    "id": "bib87",
    "title": "ggraph: An Implementation of Grammar of Graphics for Graphs and Networks",
    "type": "Article",
    "url": "https://CRAN.R-project.org/package=ggraph"
   },
   {
    "authors": [
     {
      "familyNames": [
       "Pierce"
      ],
      "givenNames": [
       "HH"
      ],
      "type": "Person"
     },
     {
      "familyNames": [
       "Dev"
      ],
      "givenNames": [
       "A"
      ],
      "type": "Person"
     },
     {
      "familyNames": [
       "Statham"
      ],
      "givenNames": [
       "E"
      ],
      "type": "Person"
     },
     {
      "familyNames": [
       "Bierer"
      ],
      "givenNames": [
       "BE"
      ],
      "type": "Person"
     }
    ],
    "datePublished": {
     "type": "Date",
     "value": "2019"
    },
    "id": "bib88",
    "identifiers": [
     {
      "name": "doi",
      "propertyID": "https://registry.identifiers.org/registry/doi",
      "type": "PropertyValue",
      "value": "10.1038/d41586-019-01715-4"
     },
     {
      "name": "pmid",
      "propertyID": "https://registry.identifiers.org/registry/pmid",
      "type": "PropertyValue",
      "value": 31164773
     }
    ],
    "isPartOf": {
     "isPartOf": {
      "name": "Nature",
      "type": "Periodical"
     },
     "type": "PublicationVolume",
     "volumeNumber": 570
    },
    "pageEnd": 32,
    "pageStart": 30,
    "title": "Credit data generators for data reuse",
    "type": "Article"
   },
   {
    "authors": [
     {
      "familyNames": [
       "Pilon"
      ],
      "givenNames": [
       "AC"
      ],
      "type": "Person"
     },
     {
      "familyNames": [
       "Valli"
      ],
      "givenNames": [
       "M"
      ],
      "type": "Person"
     },
     {
      "familyNames": [
       "Dametto"
      ],
      "givenNames": [
       "AC"
      ],
      "type": "Person"
     },
     {
      "familyNames": [
       "Pinto"
      ],
      "givenNames": [
       "MEF"
      ],
      "type": "Person"
     },
     {
      "familyNames": [
       "Freire"
      ],
      "givenNames": [
       "RT"
      ],
      "type": "Person"
     },
     {
      "familyNames": [
       "Castro-Gamboa"
      ],
      "givenNames": [
       "I"
      ],
      "type": "Person"
     },
     {
      "familyNames": [
       "Andricopulo"
      ],
      "givenNames": [
       "AD"
      ],
      "type": "Person"
     },
     {
      "familyNames": [
       "Bolzani"
      ],
      "givenNames": [
       "VS"
      ],
      "type": "Person"
     }
    ],
    "datePublished": {
     "type": "Date",
     "value": "2017"
    },
    "id": "bib89",
    "identifiers": [
     {
      "name": "doi",
      "propertyID": "https://registry.identifiers.org/registry/doi",
      "type": "PropertyValue",
      "value": "10.1038/s41598-017-07451-x"
     },
     {
      "name": "pmid",
      "propertyID": "https://registry.identifiers.org/registry/pmid",
      "type": "PropertyValue",
      "value": 28775335
     }
    ],
    "isPartOf": {
     "isPartOf": {
      "name": "Scientific Reports",
      "type": "Periodical"
     },
     "type": "PublicationVolume",
     "volumeNumber": 7
    },
    "title": "NuBBEDB: an updated database to uncover chemical and biological information from Brazilian biodiversity",
    "type": "Article"
   },
   {
    "authors": [
     {
      "familyNames": [
       "Pilón-Jiménez"
      ],
      "givenNames": [
       "BA"
      ],
      "type": "Person"
     },
     {
      "familyNames": [
       "Saldívar-González"
      ],
      "givenNames": [
       "FI"
      ],
      "type": "Person"
     },
     {
      "familyNames": [
       "Díaz-Eufracio"
      ],
      "givenNames": [
       "BI"
      ],
      "type": "Person"
     },
     {
      "familyNames": [
       "Medina-Franco"
      ],
      "givenNames": [
       "JL"
      ],
      "type": "Person"
     }
    ],
    "datePublished": {
     "type": "Date",
     "value": "2019"
    },
    "id": "bib90",
    "identifiers": [
     {
      "name": "doi",
      "propertyID": "https://registry.identifiers.org/registry/doi",
      "type": "PropertyValue",
      "value": "10.3390/biom9010031"
     },
     {
      "name": "pmid",
      "propertyID": "https://registry.identifiers.org/registry/pmid",
      "type": "PropertyValue",
      "value": 30658522
     }
    ],
    "isPartOf": {
     "isPartOf": {
      "name": "Biomolecules",
      "type": "Periodical"
     },
     "type": "PublicationVolume",
     "volumeNumber": 9
    },
    "title": "BIOFACQUIM: A Mexican Compound Database of Natural Products",
    "type": "Article"
   },
   {
    "authors": [
     {
      "familyNames": [
       "Probst"
      ],
      "givenNames": [
       "D"
      ],
      "type": "Person"
     },
     {
      "familyNames": [
       "Reymond"
      ],
      "givenNames": [
       "JL"
      ],
      "type": "Person"
     }
    ],
    "datePublished": {
     "type": "Date",
     "value": "2018"
    },
    "id": "bib91",
    "identifiers": [
     {
      "name": "doi",
      "propertyID": "https://registry.identifiers.org/registry/doi",
      "type": "PropertyValue",
      "value": "10.1093/bioinformatics/btx760"
     },
     {
      "name": "pmid",
      "propertyID": "https://registry.identifiers.org/registry/pmid",
      "type": "PropertyValue",
      "value": 29186333
     }
    ],
    "isPartOf": {
     "isPartOf": {
      "name": "Bioinformatics (Oxford, England)",
      "type": "Periodical"
     },
     "type": "PublicationVolume",
     "volumeNumber": 34
    },
    "pageEnd": 1435,
    "pageStart": 1433,
    "title": "FUn: a framework for interactive visualizations of large, high-dimensional datasets on the web",
    "type": "Article"
   },
   {
    "authors": [
     {
      "familyNames": [
       "Probst"
      ],
      "givenNames": [
       "D"
      ],
      "type": "Person"
     },
     {
      "familyNames": [
       "Reymond"
      ],
      "givenNames": [
       "JL"
      ],
      "type": "Person"
     }
    ],
    "datePublished": {
     "type": "Date",
     "value": "2018"
    },
    "id": "bib92",
    "identifiers": [
     {
      "name": "doi",
      "propertyID": "https://registry.identifiers.org/registry/doi",
      "type": "PropertyValue",
      "value": "10.1021/acs.jcim.7b00425"
     },
     {
      "name": "pmid",
      "propertyID": "https://registry.identifiers.org/registry/pmid",
      "type": "PropertyValue",
      "value": 29257869
     }
    ],
    "isPartOf": {
     "isPartOf": {
      "name": "Journal of Chemical Information and Modeling",
      "type": "Periodical"
     },
     "type": "PublicationVolume",
     "volumeNumber": 58
    },
    "pageEnd": 7,
    "pageStart": 1,
    "title": "SmilesDrawer: Parsing and Drawing SMILES-Encoded Molecular Structures Using Client-Side JavaScript",
    "type": "Article"
   },
   {
    "authors": [
     {
      "familyNames": [
       "Probst"
      ],
      "givenNames": [
       "D"
      ],
      "type": "Person"
     },
     {
      "familyNames": [
       "Reymond"
      ],
      "givenNames": [
       "J-L"
      ],
      "type": "Person"
     }
    ],
    "datePublished": {
     "type": "Date",
     "value": "2020"
    },
    "id": "bib93",
    "identifiers": [
     {
      "name": "doi",
      "propertyID": "https://registry.identifiers.org/registry/doi",
      "type": "PropertyValue",
      "value": "10.1186/s13321-020-0416-x"
     },
     {
      "name": "pmid",
      "propertyID": "https://registry.identifiers.org/registry/pmid",
      "type": "PropertyValue",
      "value": 33431043
     }
    ],
    "isPartOf": {
     "isPartOf": {
      "name": "Journal of Cheminformatics",
      "type": "Periodical"
     },
     "type": "PublicationVolume",
     "volumeNumber": 12
    },
    "title": "Visualization of very large high-dimensional data sets as minimum spanning trees",
    "type": "Article"
   },
   {
    "authors": [
     {
      "familyNames": [
       "Rasberry"
      ],
      "givenNames": [
       "L"
      ],
      "type": "Person"
     },
     {
      "familyNames": [
       "Willighagen"
      ],
      "givenNames": [
       "E"
      ],
      "type": "Person"
     },
     {
      "familyNames": [
       "Nielsen"
      ],
      "givenNames": [
       "F"
      ],
      "type": "Person"
     },
     {
      "familyNames": [
       "Mietchen"
      ],
      "givenNames": [
       "D"
      ],
      "type": "Person"
     }
    ],
    "datePublished": {
     "type": "Date",
     "value": "2019"
    },
    "id": "bib94",
    "identifiers": [
     {
      "name": "doi",
      "propertyID": "https://registry.identifiers.org/registry/doi",
      "type": "PropertyValue",
      "value": "10.3897/rio.5.e35820"
     }
    ],
    "isPartOf": {
     "isPartOf": {
      "name": "Research Ideas and Outcomes",
      "type": "Periodical"
     },
     "type": "PublicationVolume",
     "volumeNumber": 5
    },
    "title": "Robustifying Scholia: paving the way for knowledge discovery and research assessment through Wikidata",
    "type": "Article"
   },
   {
    "authors": [
     {
      "name": "RDKit",
      "type": "Organization"
     }
    ],
    "datePublished": {
     "type": "Date",
     "value": "2021"
    },
    "id": "bib95",
    "title": "RDKit: Open-source cheminformatics",
    "type": "Article",
    "url": "http://www.rdkit.org"
   },
   {
    "authors": [
     {
      "familyNames": [
       "Reback"
      ],
      "givenNames": [
       "J"
      ],
      "type": "Person"
     },
     {
      "familyNames": [
       "McKinney"
      ],
      "givenNames": [
       "W"
      ],
      "type": "Person"
     },
     {
      "familyNames": [
       "Jbrockmendel"
      ],
      "givenNames": [
       "J"
      ],
      "type": "Person"
     },
     {
      "familyNames": [
       "Augspurger"
      ],
      "givenNames": [
       "T"
      ],
      "type": "Person"
     },
     {
      "familyNames": [
       "Cloud"
      ],
      "givenNames": [
       "P"
      ],
      "type": "Person"
     },
     {
      "familyNames": [
       "Gfyoung"
      ],
      "givenNames": [
       "S"
      ],
      "type": "Person"
     },
     {
      "familyNames": [
       "Hawkins"
      ],
      "givenNames": [
       "S"
      ],
      "type": "Person"
     },
     {
      "familyNames": [
       "Roeschke"
      ],
      "givenNames": [
       "M"
      ],
      "type": "Person"
     }
    ],
    "datePublished": {
     "type": "Date",
     "value": "2020"
    },
    "id": "bib96",
    "title": "pandas-dev/pandas: Pandas",
    "type": "Article",
    "url": "https://doi.org/10.5281/zenodo.4161697"
   },
   {
    "authors": [
     {
      "familyNames": [
       "Rees"
      ],
      "givenNames": [
       "JA"
      ],
      "type": "Person"
     },
     {
      "familyNames": [
       "Cranston"
      ],
      "givenNames": [
       "K"
      ],
      "type": "Person"
     }
    ],
    "datePublished": {
     "type": "Date",
     "value": "2017"
    },
    "id": "bib97",
    "identifiers": [
     {
      "name": "doi",
      "propertyID": "https://registry.identifiers.org/registry/doi",
      "type": "PropertyValue",
      "value": "10.3897/BDJ.5.e12581"
     },
     {
      "name": "pmid",
      "propertyID": "https://registry.identifiers.org/registry/pmid",
      "type": "PropertyValue",
      "value": 28765728
     }
    ],
    "isPartOf": {
     "isPartOf": {
      "name": "Biodiversity Data Journal",
      "type": "Periodical"
     },
     "type": "PublicationVolume",
     "volumeNumber": 10
    },
    "title": "Automated assembly of a reference taxonomy for phylogenetic data synthesis",
    "type": "Article"
   },
   {
    "authors": [
     {
      "familyNames": [
       "Rothwell"
      ],
      "givenNames": [
       "JA"
      ],
      "type": "Person"
     },
     {
      "familyNames": [
       "Perez-Jimenez"
      ],
      "givenNames": [
       "J"
      ],
      "type": "Person"
     },
     {
      "familyNames": [
       "Neveu"
      ],
      "givenNames": [
       "V"
      ],
      "type": "Person"
     },
     {
      "familyNames": [
       "Medina-Remón"
      ],
      "givenNames": [
       "A"
      ],
      "type": "Person"
     },
     {
      "familyNames": [
       "M’hiri"
      ],
      "givenNames": [
       "N"
      ],
      "type": "Person"
     },
     {
      "familyNames": [
       "García-Lobato"
      ],
      "givenNames": [
       "P"
      ],
      "type": "Person"
     },
     {
      "familyNames": [
       "Manach"
      ],
      "givenNames": [
       "C"
      ],
      "type": "Person"
     },
     {
      "familyNames": [
       "Knox"
      ],
      "givenNames": [
       "C"
      ],
      "type": "Person"
     },
     {
      "familyNames": [
       "Eisner"
      ],
      "givenNames": [
       "R"
      ],
      "type": "Person"
     },
     {
      "familyNames": [
       "Wishart"
      ],
      "givenNames": [
       "DS"
      ],
      "type": "Person"
     },
     {
      "familyNames": [
       "Scalbert"
      ],
      "givenNames": [
       "A"
      ],
      "type": "Person"
     }
    ],
    "datePublished": {
     "type": "Date",
     "value": "2013"
    },
    "id": "bib98",
    "identifiers": [
     {
      "name": "doi",
      "propertyID": "https://registry.identifiers.org/registry/doi",
      "type": "PropertyValue",
      "value": "10.1093/database/bat070"
     },
     {
      "name": "pmid",
      "propertyID": "https://registry.identifiers.org/registry/pmid",
      "type": "PropertyValue",
      "value": 24103452
     }
    ],
    "isPartOf": {
     "isPartOf": {
      "name": "Database",
      "type": "Periodical"
     },
     "type": "PublicationVolume",
     "volumeNumber": 2013
    },
    "title": "Phenol-Explorer 3.0: a major update of the Phenol-Explorer database to incorporate data on the effects of food processing on polyphenol content",
    "type": "Article"
   },
   {
    "authors": [
     {
      "familyNames": [
       "Rutz"
      ],
      "givenNames": [
       "A"
      ],
      "type": "Person"
     },
     {
      "familyNames": [
       "Dounoue-Kubo"
      ],
      "givenNames": [
       "M"
      ],
      "type": "Person"
     },
     {
      "familyNames": [
       "Ollivier"
      ],
      "givenNames": [
       "S"
      ],
      "type": "Person"
     },
     {
      "familyNames": [
       "Bisson"
      ],
      "givenNames": [
       "J"
      ],
      "type": "Person"
     },
     {
      "familyNames": [
       "Bagheri"
      ],
      "givenNames": [
       "M"
      ],
      "type": "Person"
     },
     {
      "familyNames": [
       "Saesong"
      ],
      "givenNames": [
       "T"
      ],
      "type": "Person"
     },
     {
      "familyNames": [
       "Ebrahimi"
      ],
      "givenNames": [
       "SN"
      ],
      "type": "Person"
     },
     {
      "familyNames": [
       "Ingkaninan"
      ],
      "givenNames": [
       "K"
      ],
      "type": "Person"
     },
     {
      "familyNames": [
       "Wolfender"
      ],
      "givenNames": [
       "J-L"
      ],
      "type": "Person"
     },
     {
      "familyNames": [
       "Allard"
      ],
      "givenNames": [
       "P-M"
      ],
      "type": "Person"
     }
    ],
    "datePublished": {
     "type": "Date",
     "value": "2019"
    },
    "id": "bib99",
    "identifiers": [
     {
      "name": "doi",
      "propertyID": "https://registry.identifiers.org/registry/doi",
      "type": "PropertyValue",
      "value": "10.3389/fpls.2019.01329"
     },
     {
      "name": "pmid",
      "propertyID": "https://registry.identifiers.org/registry/pmid",
      "type": "PropertyValue",
      "value": 31708947
     }
    ],
    "isPartOf": {
     "isPartOf": {
      "name": "Frontiers in Plant Science",
      "type": "Periodical"
     },
     "type": "PublicationVolume",
     "volumeNumber": 10
    },
    "title": "Taxonomically Informed Scoring Enhances Confidence in Natural Products Annotation",
    "type": "Article"
   },
   {
    "authors": [
     {
      "familyNames": [
       "Rutz"
      ],
      "givenNames": [
       "A"
      ],
      "type": "Person"
     }
    ],
    "datePublished": {
     "type": "Date",
     "value": "2021"
    },
    "id": "bib100",
    "title": "The LOTUS Initiative for Open Natural Products Research: custom dictionaries",
    "type": "Article",
    "url": "https://doi.org/10.5281/zenodo.5801816"
   },
   {
    "authors": [
     {
      "familyNames": [
       "Rutz"
      ],
      "givenNames": [
       "A"
      ],
      "type": "Person"
     },
     {
      "familyNames": [
       "Gaudry"
      ],
      "givenNames": [
       "A"
      ],
      "type": "Person"
     }
    ],
    "datePublished": {
     "type": "Date",
     "value": "2021"
    },
    "id": "bib101",
    "title": "The LOTUS Initiative for Open Natural Products Research: TMAP",
    "type": "Article",
    "url": "https://doi.org/10.5281/zenodo.5801807"
   },
   {
    "authors": [
     {
      "familyNames": [
       "Rutz"
      ],
      "givenNames": [
       "A"
      ],
      "type": "Person"
     },
     {
      "familyNames": [
       "Bisson"
      ],
      "givenNames": [
       "J"
      ],
      "type": "Person"
     },
     {
      "familyNames": [
       "Allard"
      ],
      "givenNames": [
       "PM"
      ],
      "type": "Person"
     }
    ],
    "datePublished": {
     "type": "Date",
     "value": "2021"
    },
    "id": "bib102",
    "title": "The LOTUS Initiative for Open Natural Products Research: biological and chemical trees",
    "type": "Article",
    "url": "https://doi.org/10.5281/zenodo.5794106"
   },
   {
    "authors": [
     {
      "familyNames": [
       "Rutz"
      ],
      "givenNames": [
       "A"
      ],
      "type": "Person"
     },
     {
      "familyNames": [
       "Bisson"
      ],
      "givenNames": [
       "J"
      ],
      "type": "Person"
     },
     {
      "familyNames": [
       "Allard"
      ],
      "givenNames": [
       "PM"
      ],
      "type": "Person"
     }
    ],
    "datePublished": {
     "type": "Date",
     "value": "2021"
    },
    "id": "bib103",
    "title": "The LOTUS Initiative for Open Natural Products Research: waste to recycle",
    "type": "Article",
    "url": "https://doi.org/10.5281/zenodo.5794597"
   },
   {
    "authors": [
     {
      "familyNames": [
       "Rutz"
      ],
      "givenNames": [
       "A"
      ],
      "type": "Person"
     },
     {
      "familyNames": [
       "Bisson"
      ],
      "givenNames": [
       "J"
      ],
      "type": "Person"
     },
     {
      "familyNames": [
       "Allard"
      ],
      "givenNames": [
       "PM"
      ],
      "type": "Person"
     }
    ],
    "datePublished": {
     "type": "Date",
     "value": "2021"
    },
    "id": "bib104",
    "title": "The LOTUS Initiative for Open Natural Products Research: frozen dataset union wikidata",
    "type": "Article",
    "url": "https://doi.org/10.5281/zenodo.5794107"
   },
   {
    "authors": [
     {
      "familyNames": [
       "Rutz"
      ],
      "givenNames": [
       "A"
      ],
      "type": "Person"
     },
     {
      "familyNames": [
       "Bisson"
      ],
      "givenNames": [
       "J"
      ],
      "type": "Person"
     },
     {
      "familyNames": [
       "Allard"
      ],
      "givenNames": [
       "PM"
      ],
      "type": "Person"
     },
     {
      "familyNames": [
       "Community"
      ],
      "givenNames": [
       "W"
      ],
      "type": "Person"
     }
    ],
    "datePublished": {
     "type": "Date",
     "value": "2021"
    },
    "id": "bib105",
    "title": "The LOTUS Initiative for Open Natural Products Research: wikidata query results",
    "type": "Article",
    "url": "https://doi.org/10.5281/zenodo.5668854"
   },
   {
    "authors": [
     {
      "familyNames": [
       "Rutz"
      ],
      "givenNames": [
       "A"
      ],
      "type": "Person"
     },
     {
      "familyNames": [
       "Bisson"
      ],
      "givenNames": [
       "J"
      ],
      "type": "Person"
     },
     {
      "familyNames": [
       "Allard"
      ],
      "givenNames": [
       "PM"
      ],
      "type": "Person"
     },
     {
      "familyNames": [
       "Community"
      ],
      "givenNames": [
       "W"
      ],
      "type": "Person"
     }
    ],
    "datePublished": {
     "type": "Date",
     "value": "2021"
    },
    "id": "bib106",
    "title": "The LOTUS Initiative for Open Natural Products Research: wikidata query results",
    "type": "Article",
    "url": "https://doi.org/10.5281/zenodo.5793224"
   },
   {
    "authors": [
     {
      "familyNames": [
       "Rutz"
      ],
      "givenNames": [
       "A"
      ],
      "type": "Person"
     },
     {
      "familyNames": [
       "Bisson"
      ],
      "givenNames": [
       "J"
      ],
      "type": "Person"
     },
     {
      "familyNames": [
       "Allard"
      ],
      "givenNames": [
       "PM"
      ],
      "type": "Person"
     },
     {
      "familyNames": [
       "Gaudry"
      ],
      "givenNames": [
       "W"
      ],
      "type": "Person"
     }
    ],
    "datePublished": {
     "type": "Date",
     "value": "2021"
    },
    "id": "bib107",
    "title": "lotusnprod/lotus-processor",
    "type": "Article",
    "url": "https://doi.org/10.5281/zenodo.5802107"
   },
   {
    "authors": [
     {
      "familyNames": [
       "Rutz"
      ],
      "givenNames": [
       "A"
      ],
      "type": "Person"
     }
    ],
    "datePublished": {
     "type": "Date",
     "value": "2022"
    },
    "id": "bib108",
    "title": "The LOTUS Initiative",
    "type": "Article",
    "url": "https://archive.softwareheritage.org/swh:1:dir:06f92b6efba0c694b9ff259ee9406c8269a9bc3f;origin=https://github.com/lotusnprod/lotus-processor;visit=swh:1:snp:816d6826154073ce81ea66e18893029abb53a8e9;anchor=swh:1:rev:78e6065d8eb9d0b0d11c2ea8de6ac66b445bca0e"
   },
   {
    "authors": [
     {
      "familyNames": [
       "Rutz"
      ],
      "givenNames": [
       "A"
      ],
      "type": "Person"
     }
    ],
    "datePublished": {
     "type": "Date",
     "value": "2022"
    },
    "id": "bib109",
    "title": "LOTUS web",
    "type": "Article",
    "url": "https://archive.softwareheritage.org/swh:1:dir:b00de761fdb113deab6cad0143190006edd0181f;origin=https://github.com/lotusnprod/lotus-web;visit=swh:1:snp:aa23783a4ecd32578845345e497259a5fdd78a0c;anchor=swh:1:rev:278a5ab82389ebd5df720b1876a1724d15937644"
   },
   {
    "authors": [
     {
      "familyNames": [
       "Rutz"
      ],
      "givenNames": [
       "A"
      ],
      "type": "Person"
     }
    ],
    "datePublished": {
     "type": "Date",
     "value": "2022"
    },
    "id": "bib110",
    "title": "Wikidata interactions for the LOTUS Initiative",
    "type": "Article",
    "url": "https://archive.softwareheritage.org/swh:1:dir:3c6e7a6d7c939a4ae63ef03a039bd843839ac34f;origin=https://github.com/lotusnprod/lotus-wikidata-interact;visit=swh:1:snp:86ac8009d72baef9426fe2d7cc55fe980e4d3b78;anchor=swh:1:rev:92d19b8995a69f5bba39f438172ba425fdcc0f28"
   },
   {
    "authors": [
     {
      "familyNames": [
       "Saikkonen"
      ],
      "givenNames": [
       "K"
      ],
      "type": "Person"
     },
     {
      "familyNames": [
       "Wäli"
      ],
      "givenNames": [
       "P"
      ],
      "type": "Person"
     },
     {
      "familyNames": [
       "Helander"
      ],
      "givenNames": [
       "M"
      ],
      "type": "Person"
     },
     {
      "familyNames": [
       "Faeth"
      ],
      "givenNames": [
       "SH"
      ],
      "type": "Person"
     }
    ],
    "datePublished": {
     "type": "Date",
     "value": "2004"
    },
    "id": "bib111",
    "identifiers": [
     {
      "name": "doi",
      "propertyID": "https://registry.identifiers.org/registry/doi",
      "type": "PropertyValue",
      "value": "10.1016/j.tplants.2004.04.005"
     },
     {
      "name": "pmid",
      "propertyID": "https://registry.identifiers.org/registry/pmid",
      "type": "PropertyValue",
      "value": 15165558
     }
    ],
    "isPartOf": {
     "isPartOf": {
      "name": "Trends in Plant Science",
      "type": "Periodical"
     },
     "type": "PublicationVolume",
     "volumeNumber": 9
    },
    "pageEnd": 280,
    "pageStart": 275,
    "title": "Evolution of endophyte-plant symbioses",
    "type": "Article"
   },
   {
    "authors": [
     {
      "familyNames": [
       "Sander"
      ],
      "givenNames": [
       "T"
      ],
      "type": "Person"
     },
     {
      "familyNames": [
       "Freyss"
      ],
      "givenNames": [
       "J"
      ],
      "type": "Person"
     },
     {
      "familyNames": [
       "von",
       "Korff"
      ],
      "givenNames": [
       "M"
      ],
      "type": "Person"
     },
     {
      "familyNames": [
       "Rufener"
      ],
      "givenNames": [
       "C"
      ],
      "type": "Person"
     }
    ],
    "datePublished": {
     "type": "Date",
     "value": "2015"
    },
    "id": "bib112",
    "identifiers": [
     {
      "name": "doi",
      "propertyID": "https://registry.identifiers.org/registry/doi",
      "type": "PropertyValue",
      "value": "10.1021/ci500588j"
     },
     {
      "name": "pmid",
      "propertyID": "https://registry.identifiers.org/registry/pmid",
      "type": "PropertyValue",
      "value": 25558886
     }
    ],
    "isPartOf": {
     "isPartOf": {
      "name": "Journal of Chemical Information and Modeling",
      "type": "Periodical"
     },
     "type": "PublicationVolume",
     "volumeNumber": 55
    },
    "pageEnd": 473,
    "pageStart": 460,
    "title": "DataWarrior: an open-source program for chemistry aware data visualization and analysis",
    "type": "Article"
   },
   {
    "authors": [
     {
      "familyNames": [
       "Sawada"
      ],
      "givenNames": [
       "Y"
      ],
      "type": "Person"
     },
     {
      "familyNames": [
       "Nakabayashi"
      ],
      "givenNames": [
       "R"
      ],
      "type": "Person"
     },
     {
      "familyNames": [
       "Yamada"
      ],
      "givenNames": [
       "Y"
      ],
      "type": "Person"
     },
     {
      "familyNames": [
       "Suzuki"
      ],
      "givenNames": [
       "M"
      ],
      "type": "Person"
     },
     {
      "familyNames": [
       "Sato"
      ],
      "givenNames": [
       "M"
      ],
      "type": "Person"
     },
     {
      "familyNames": [
       "Sakata"
      ],
      "givenNames": [
       "A"
      ],
      "type": "Person"
     },
     {
      "familyNames": [
       "Akiyama"
      ],
      "givenNames": [
       "K"
      ],
      "type": "Person"
     },
     {
      "familyNames": [
       "Sakurai"
      ],
      "givenNames": [
       "T"
      ],
      "type": "Person"
     },
     {
      "familyNames": [
       "Matsuda"
      ],
      "givenNames": [
       "F"
      ],
      "type": "Person"
     },
     {
      "familyNames": [
       "Aoki"
      ],
      "givenNames": [
       "T"
      ],
      "type": "Person"
     },
     {
      "familyNames": [
       "Hirai"
      ],
      "givenNames": [
       "MY"
      ],
      "type": "Person"
     },
     {
      "familyNames": [
       "Saito"
      ],
      "givenNames": [
       "K"
      ],
      "type": "Person"
     }
    ],
    "datePublished": {
     "type": "Date",
     "value": "2012"
    },
    "id": "bib113",
    "identifiers": [
     {
      "name": "doi",
      "propertyID": "https://registry.identifiers.org/registry/doi",
      "type": "PropertyValue",
      "value": "10.1016/j.phytochem.2012.07.007"
     },
     {
      "name": "pmid",
      "propertyID": "https://registry.identifiers.org/registry/pmid",
      "type": "PropertyValue",
      "value": 22867903
     }
    ],
    "isPartOf": {
     "isPartOf": {
      "name": "Phytochemistry",
      "type": "Periodical"
     },
     "type": "PublicationVolume",
     "volumeNumber": 82
    },
    "pageEnd": 45,
    "pageStart": 38,
    "title": "RIKEN tandem mass spectral database (ReSpect) for phytochemicals: a plant-specific MS/MS-based data resource and database",
    "type": "Article"
   },
   {
    "authors": [
     {
      "familyNames": [
       "Sedio"
      ],
      "givenNames": [
       "BE"
      ],
      "type": "Person"
     }
    ],
    "datePublished": {
     "type": "Date",
     "value": "2017"
    },
    "id": "bib114",
    "identifiers": [
     {
      "name": "doi",
      "propertyID": "https://registry.identifiers.org/registry/doi",
      "type": "PropertyValue",
      "value": "10.1111/nph.14438"
     },
     {
      "name": "pmid",
      "propertyID": "https://registry.identifiers.org/registry/pmid",
      "type": "PropertyValue",
      "value": 28134431
     }
    ],
    "isPartOf": {
     "isPartOf": {
      "name": "The New Phytologist",
      "type": "Periodical"
     },
     "type": "PublicationVolume",
     "volumeNumber": 214
    },
    "pageEnd": 958,
    "pageStart": 952,
    "title": "Recent breakthroughs in metabolomics promise to reveal the cryptic chemical traits that mediate plant community composition, character evolution and lineage diversification",
    "type": "Article"
   },
   {
    "authors": [
     {
      "familyNames": [
       "Sharma"
      ],
      "givenNames": [
       "A"
      ],
      "type": "Person"
     },
     {
      "familyNames": [
       "Dutta"
      ],
      "givenNames": [
       "P"
      ],
      "type": "Person"
     },
     {
      "familyNames": [
       "Sharma"
      ],
      "givenNames": [
       "M"
      ],
      "type": "Person"
     },
     {
      "familyNames": [
       "Rajput"
      ],
      "givenNames": [
       "NK"
      ],
      "type": "Person"
     },
     {
      "familyNames": [
       "Dodiya"
      ],
      "givenNames": [
       "B"
      ],
      "type": "Person"
     },
     {
      "familyNames": [
       "Georrge"
      ],
      "givenNames": [
       "JJ"
      ],
      "type": "Person"
     },
     {
      "familyNames": [
       "Kholia"
      ],
      "givenNames": [
       "T"
      ],
      "type": "Person"
     },
     {
      "familyNames": [
       "Bhardwaj"
      ],
      "givenNames": [
       "A"
      ],
      "type": "Person"
     },
     {
      "name": "OSDD Consortium",
      "type": "Organization"
     }
    ],
    "datePublished": {
     "type": "Date",
     "value": "2014"
    },
    "id": "bib115",
    "identifiers": [
     {
      "name": "doi",
      "propertyID": "https://registry.identifiers.org/registry/doi",
      "type": "PropertyValue",
      "value": "10.1186/s13321-014-0046-2"
     },
     {
      "name": "pmid",
      "propertyID": "https://registry.identifiers.org/registry/pmid",
      "type": "PropertyValue",
      "value": 25360160
     }
    ],
    "isPartOf": {
     "isPartOf": {
      "name": "Journal of Cheminformatics",
      "type": "Periodical"
     },
     "type": "PublicationVolume",
     "volumeNumber": 6
    },
    "title": "BioPhytMol: a drug discovery community resource on anti-mycobacterial phytomolecules and plant extracts",
    "type": "Article"
   },
   {
    "authors": [
     {
      "familyNames": [
       "Shinbo"
      ],
      "givenNames": [
       "Y"
      ],
      "type": "Person"
     },
     {
      "familyNames": [
       "Nakamura"
      ],
      "givenNames": [
       "Y"
      ],
      "type": "Person"
     },
     {
      "familyNames": [
       "Altaf-Ul-Amin"
      ],
      "givenNames": [
       "M"
      ],
      "type": "Person"
     },
     {
      "familyNames": [
       "Asahi"
      ],
      "givenNames": [
       "H"
      ],
      "type": "Person"
     },
     {
      "familyNames": [
       "Kurokawa"
      ],
      "givenNames": [
       "K"
      ],
      "type": "Person"
     },
     {
      "familyNames": [
       "Arita"
      ],
      "givenNames": [
       "M"
      ],
      "type": "Person"
     },
     {
      "familyNames": [
       "Saito"
      ],
      "givenNames": [
       "K"
      ],
      "type": "Person"
     },
     {
      "familyNames": [
       "Ohta"
      ],
      "givenNames": [
       "D"
      ],
      "type": "Person"
     },
     {
      "familyNames": [
       "Shibata"
      ],
      "givenNames": [
       "D"
      ],
      "type": "Person"
     },
     {
      "familyNames": [
       "Kanaya"
      ],
      "givenNames": [
       "S"
      ],
      "type": "Person"
     }
    ],
    "datePublished": {
     "type": "Date",
     "value": "2006"
    },
    "id": "bib116",
    "identifiers": [
     {
      "name": "doi",
      "propertyID": "https://registry.identifiers.org/registry/doi",
      "type": "PropertyValue",
      "value": "10.1007/3-540-29782-0_13"
     }
    ],
    "publisher": {
     "name": "Springer",
     "type": "Organization"
    },
    "title": "Plant Metabolomics",
    "type": "Article"
   },
   {
    "authors": [
     {
      "familyNames": [
       "Sievert"
      ],
      "givenNames": [
       "C"
      ],
      "type": "Person"
     }
    ],
    "datePublished": {
     "type": "Date",
     "value": "2020"
    },
    "id": "bib117",
    "identifiers": [
     {
      "name": "doi",
      "propertyID": "https://registry.identifiers.org/registry/doi",
      "type": "PropertyValue",
      "value": "10.1201/9780429447273"
     }
    ],
    "publisher": {
     "name": "Chapman and Hall/CRC",
     "type": "Organization"
    },
    "title": "Interactive Web-Based Data Visualization with R, Plotly, and Shiny",
    "type": "Article"
   },
   {
    "authors": [
     {
      "familyNames": [
       "Slenter"
      ],
      "givenNames": [
       "DN"
      ],
      "type": "Person"
     },
     {
      "familyNames": [
       "Kutmon"
      ],
      "givenNames": [
       "M"
      ],
      "type": "Person"
     },
     {
      "familyNames": [
       "Hanspers"
      ],
      "givenNames": [
       "K"
      ],
      "type": "Person"
     },
     {
      "familyNames": [
       "Riutta"
      ],
      "givenNames": [
       "A"
      ],
      "type": "Person"
     },
     {
      "familyNames": [
       "Windsor"
      ],
      "givenNames": [
       "J"
      ],
      "type": "Person"
     },
     {
      "familyNames": [
       "Nunes"
      ],
      "givenNames": [
       "N"
      ],
      "type": "Person"
     },
     {
      "familyNames": [
       "Mélius"
      ],
      "givenNames": [
       "J"
      ],
      "type": "Person"
     },
     {
      "familyNames": [
       "Cirillo"
      ],
      "givenNames": [
       "E"
      ],
      "type": "Person"
     },
     {
      "familyNames": [
       "Coort"
      ],
      "givenNames": [
       "SL"
      ],
      "type": "Person"
     },
     {
      "familyNames": [
       "Digles"
      ],
      "givenNames": [
       "D"
      ],
      "type": "Person"
     },
     {
      "familyNames": [
       "Ehrhart"
      ],
      "givenNames": [
       "F"
      ],
      "type": "Person"
     },
     {
      "familyNames": [
       "Giesbertz"
      ],
      "givenNames": [
       "P"
      ],
      "type": "Person"
     },
     {
      "familyNames": [
       "Kalafati"
      ],
      "givenNames": [
       "M"
      ],
      "type": "Person"
     },
     {
      "familyNames": [
       "Martens"
      ],
      "givenNames": [
       "M"
      ],
      "type": "Person"
     },
     {
      "familyNames": [
       "Miller"
      ],
      "givenNames": [
       "R"
      ],
      "type": "Person"
     },
     {
      "familyNames": [
       "Nishida"
      ],
      "givenNames": [
       "K"
      ],
      "type": "Person"
     },
     {
      "familyNames": [
       "Rieswijk"
      ],
      "givenNames": [
       "L"
      ],
      "type": "Person"
     },
     {
      "familyNames": [
       "Waagmeester"
      ],
      "givenNames": [
       "A"
      ],
      "type": "Person"
     },
     {
      "familyNames": [
       "Eijssen"
      ],
      "givenNames": [
       "LMT"
      ],
      "type": "Person"
     },
     {
      "familyNames": [
       "Evelo"
      ],
      "givenNames": [
       "CT"
      ],
      "type": "Person"
     },
     {
      "familyNames": [
       "Pico"
      ],
      "givenNames": [
       "AR"
      ],
      "type": "Person"
     },
     {
      "familyNames": [
       "Willighagen"
      ],
      "givenNames": [
       "EL"
      ],
      "type": "Person"
     }
    ],
    "datePublished": {
     "type": "Date",
     "value": "2018"
    },
    "id": "bib118",
    "identifiers": [
     {
      "name": "doi",
      "propertyID": "https://registry.identifiers.org/registry/doi",
      "type": "PropertyValue",
      "value": "10.1093/nar/gkx1064"
     },
     {
      "name": "pmid",
      "propertyID": "https://registry.identifiers.org/registry/pmid",
      "type": "PropertyValue",
      "value": 29136241
     }
    ],
    "isPartOf": {
     "isPartOf": {
      "name": "Nucleic Acids Research",
      "type": "Periodical"
     },
     "type": "PublicationVolume",
     "volumeNumber": 46
    },
    "title": "WikiPathways: a multifaceted pathway database bridging metabolomics to other omics research",
    "type": "Article"
   },
   {
    "authors": [
     {
      "familyNames": [
       "Sorokina"
      ],
      "givenNames": [
       "M"
      ],
      "type": "Person"
     },
     {
      "familyNames": [
       "Steinbeck"
      ],
      "givenNames": [
       "C"
      ],
      "type": "Person"
     }
    ],
    "datePublished": {
     "type": "Date",
     "value": "2020"
    },
    "id": "bib119",
    "title": "COCONUT: the COlleCtion of Open NatUral producTs",
    "type": "Article",
    "url": "https://doi.org/10.5281/zenodo.3778405"
   },
   {
    "authors": [
     {
      "familyNames": [
       "Sorokina"
      ],
      "givenNames": [
       "M"
      ],
      "type": "Person"
     },
     {
      "familyNames": [
       "Steinbeck"
      ],
      "givenNames": [
       "C"
      ],
      "type": "Person"
     }
    ],
    "datePublished": {
     "type": "Date",
     "value": "2020"
    },
    "id": "bib120",
    "identifiers": [
     {
      "name": "doi",
      "propertyID": "https://registry.identifiers.org/registry/doi",
      "type": "PropertyValue",
      "value": "10.1186/s13321-020-00424-9"
     },
     {
      "name": "pmid",
      "propertyID": "https://registry.identifiers.org/registry/pmid",
      "type": "PropertyValue",
      "value": 33431011
     }
    ],
    "isPartOf": {
     "isPartOf": {
      "name": "Journal of Cheminformatics",
      "type": "Periodical"
     },
     "type": "PublicationVolume",
     "volumeNumber": 12
    },
    "title": "Review on natural products databases: where to find data in 2020",
    "type": "Article"
   },
   {
    "authors": [
     {
      "familyNames": [
       "Sorokina"
      ],
      "givenNames": [
       "M"
      ],
      "type": "Person"
     },
     {
      "familyNames": [
       "Merseburger"
      ],
      "givenNames": [
       "P"
      ],
      "type": "Person"
     },
     {
      "familyNames": [
       "Rajan"
      ],
      "givenNames": [
       "K"
      ],
      "type": "Person"
     },
     {
      "familyNames": [
       "Yirik"
      ],
      "givenNames": [
       "MA"
      ],
      "type": "Person"
     },
     {
      "familyNames": [
       "Steinbeck"
      ],
      "givenNames": [
       "C"
      ],
      "type": "Person"
     }
    ],
    "datePublished": {
     "type": "Date",
     "value": "2021"
    },
    "id": "bib121",
    "identifiers": [
     {
      "name": "doi",
      "propertyID": "https://registry.identifiers.org/registry/doi",
      "type": "PropertyValue",
      "value": "10.1186/s13321-020-00478-9"
     },
     {
      "name": "pmid",
      "propertyID": "https://registry.identifiers.org/registry/pmid",
      "type": "PropertyValue",
      "value": 33423696
     }
    ],
    "isPartOf": {
     "isPartOf": {
      "name": "Journal of Cheminformatics",
      "type": "Periodical"
     },
     "type": "PublicationVolume",
     "volumeNumber": 13
    },
    "title": "COCONUT online: Collection of Open Natural Products database",
    "type": "Article"
   },
   {
    "authors": [
     {
      "familyNames": [
       "Sorokina"
      ],
      "givenNames": [
       "M"
      ],
      "type": "Person"
     },
     {
      "familyNames": [
       "Rutz"
      ],
      "givenNames": [
       "A"
      ],
      "type": "Person"
     },
     {
      "familyNames": [
       "Renovate"
      ],
      "givenNames": [
       "W"
      ],
      "type": "Person"
     },
     {
      "familyNames": [
       "Willighagen"
      ],
      "givenNames": [
       "E"
      ],
      "type": "Person"
     }
    ],
    "datePublished": {
     "type": "Date",
     "value": "2021"
    },
    "id": "bib122",
    "title": "Imgbot. lotusnprod/lotus",
    "type": "Article",
    "url": "https://doi.org/10.5281/zenodo.5802120"
   },
   {
    "authors": [
     {
      "familyNames": [
       "Szöcs"
      ],
      "givenNames": [
       "E"
      ],
      "type": "Person"
     },
     {
      "familyNames": [
       "Stirling"
      ],
      "givenNames": [
       "T"
      ],
      "type": "Person"
     },
     {
      "familyNames": [
       "Scott"
      ],
      "givenNames": [
       "ER"
      ],
      "type": "Person"
     },
     {
      "familyNames": [
       "Scharmüller"
      ],
      "givenNames": [
       "A"
      ],
      "type": "Person"
     },
     {
      "familyNames": [
       "Schäfer"
      ],
      "givenNames": [
       "RB"
      ],
      "type": "Person"
     }
    ],
    "datePublished": {
     "type": "Date",
     "value": "2020"
    },
    "id": "bib123",
    "identifiers": [
     {
      "name": "doi",
      "propertyID": "https://registry.identifiers.org/registry/doi",
      "type": "PropertyValue",
      "value": "10.18637/jss.v093.i13"
     }
    ],
    "isPartOf": {
     "isPartOf": {
      "name": "Journal of Statistical Software",
      "type": "Periodical"
     },
     "type": "PublicationVolume",
     "volumeNumber": 10
    },
    "title": "webchem: An R Package to Retrieve Chemical Information from the Web",
    "type": "Article"
   },
   {
    "authors": [
     {
      "familyNames": [
       "Taylor"
      ],
      "givenNames": [
       "NG"
      ],
      "type": "Person"
     },
     {
      "familyNames": [
       "Dunn"
      ],
      "givenNames": [
       "AM"
      ],
      "type": "Person"
     }
    ],
    "datePublished": {
     "type": "Date",
     "value": "2018"
    },
    "id": "bib124",
    "identifiers": [
     {
      "name": "doi",
      "propertyID": "https://registry.identifiers.org/registry/doi",
      "type": "PropertyValue",
      "value": "10.1007/s10530-018-1735-y"
     }
    ],
    "isPartOf": {
     "isPartOf": {
      "name": "Biological Invasions",
      "type": "Periodical"
     },
     "type": "PublicationVolume",
     "volumeNumber": 20
    },
    "pageEnd": 2837,
    "pageStart": 2821,
    "title": "Predatory impacts of alien decapod Crustacea are predicted by functional responses and explained by differences in metabolic rate",
    "type": "Article"
   },
   {
    "authors": [
     {
      "familyNames": [
       "Tomiki"
      ],
      "givenNames": [
       "T"
      ],
      "type": "Person"
     },
     {
      "familyNames": [
       "Saito"
      ],
      "givenNames": [
       "T"
      ],
      "type": "Person"
     },
     {
      "familyNames": [
       "Ueki"
      ],
      "givenNames": [
       "M"
      ],
      "type": "Person"
     },
     {
      "familyNames": [
       "Konno"
      ],
      "givenNames": [
       "H"
      ],
      "type": "Person"
     },
     {
      "familyNames": [
       "Asaoka"
      ],
      "givenNames": [
       "T"
      ],
      "type": "Person"
     },
     {
      "familyNames": [
       "Suzuki"
      ],
      "givenNames": [
       "R"
      ],
      "type": "Person"
     },
     {
      "familyNames": [
       "Uramoto"
      ],
      "givenNames": [
       "M"
      ],
      "type": "Person"
     },
     {
      "familyNames": [
       "Kakeya"
      ],
      "givenNames": [
       "H"
      ],
      "type": "Person"
     },
     {
      "familyNames": [
       "Osada"
      ],
      "givenNames": [
       "H"
      ],
      "type": "Person"
     }
    ],
    "datePublished": {
     "type": "Date",
     "value": "2006"
    },
    "id": "bib125",
    "identifiers": [
     {
      "name": "doi",
      "propertyID": "https://registry.identifiers.org/registry/doi",
      "type": "PropertyValue",
      "value": "10.11545/ciqs.2006.0.jl6.0"
     }
    ],
    "title": "RIKEN natural products encyclopedia (RIKEN NPEdia) a chemical database of RIKEN natural products depository (RIKEN NPDepo",
    "type": "Article"
   },
   {
    "authors": [
     {
      "familyNames": [
       "Tsugawa"
      ],
      "givenNames": [
       "H"
      ],
      "type": "Person"
     }
    ],
    "datePublished": {
     "type": "Date",
     "value": "2018"
    },
    "id": "bib126",
    "identifiers": [
     {
      "name": "doi",
      "propertyID": "https://registry.identifiers.org/registry/doi",
      "type": "PropertyValue",
      "value": "10.1016/j.copbio.2018.01.008"
     },
     {
      "name": "pmid",
      "propertyID": "https://registry.identifiers.org/registry/pmid",
      "type": "PropertyValue",
      "value": 29413746
     }
    ],
    "isPartOf": {
     "isPartOf": {
      "name": "Current Opinion in Biotechnology",
      "type": "Periodical"
     },
     "type": "PublicationVolume",
     "volumeNumber": 54
    },
    "pageEnd": 17,
    "pageStart": 10,
    "title": "Advances in computational metabolomics and databases deepen the understanding of metabolisms",
    "type": "Article"
   },
   {
    "authors": [
     {
      "name": "U.S. Department of Agriculture",
      "type": "Organization"
     }
    ],
    "datePublished": {
     "type": "Date",
     "value": "1992"
    },
    "id": "bib127",
    "title": "Dr. Duke’s Phytochemical and Ethnobotanical Databases",
    "type": "Article",
    "url": "https://phytochem.nal.usda.gov/"
   },
   {
    "authors": [
     {
      "familyNames": [
       "van",
       "Santen"
      ],
      "givenNames": [
       "JA"
      ],
      "type": "Person"
     },
     {
      "familyNames": [
       "Jacob"
      ],
      "givenNames": [
       "G"
      ],
      "type": "Person"
     },
     {
      "familyNames": [
       "Singh"
      ],
      "givenNames": [
       "AL"
      ],
      "type": "Person"
     },
     {
      "familyNames": [
       "Aniebok"
      ],
      "givenNames": [
       "V"
      ],
      "type": "Person"
     },
     {
      "familyNames": [
       "Balunas"
      ],
      "givenNames": [
       "MJ"
      ],
      "type": "Person"
     },
     {
      "familyNames": [
       "Bunsko"
      ],
      "givenNames": [
       "D"
      ],
      "type": "Person"
     },
     {
      "familyNames": [
       "Neto"
      ],
      "givenNames": [
       "FC"
      ],
      "type": "Person"
     },
     {
      "familyNames": [
       "Castaño-Espriu"
      ],
      "givenNames": [
       "L"
      ],
      "type": "Person"
     },
     {
      "familyNames": [
       "Chang"
      ],
      "givenNames": [
       "C"
      ],
      "type": "Person"
     },
     {
      "familyNames": [
       "Clark"
      ],
      "givenNames": [
       "TN"
      ],
      "type": "Person"
     },
     {
      "familyNames": [
       "Cleary",
       "Little"
      ],
      "givenNames": [
       "JL"
      ],
      "type": "Person"
     },
     {
      "familyNames": [
       "Delgadillo"
      ],
      "givenNames": [
       "DA"
      ],
      "type": "Person"
     },
     {
      "familyNames": [
       "Dorrestein"
      ],
      "givenNames": [
       "PC"
      ],
      "type": "Person"
     },
     {
      "familyNames": [
       "Duncan"
      ],
      "givenNames": [
       "KR"
      ],
      "type": "Person"
     },
     {
      "familyNames": [
       "Egan"
      ],
      "givenNames": [
       "JM"
      ],
      "type": "Person"
     },
     {
      "familyNames": [
       "Galey"
      ],
      "givenNames": [
       "MM"
      ],
      "type": "Person"
     },
     {
      "familyNames": [
       "Haeckl"
      ],
      "givenNames": [
       "FPJ"
      ],
      "type": "Person"
     },
     {
      "familyNames": [
       "Hua"
      ],
      "givenNames": [
       "A"
      ],
      "type": "Person"
     },
     {
      "familyNames": [
       "Hughes"
      ],
      "givenNames": [
       "AH"
      ],
      "type": "Person"
     },
     {
      "familyNames": [
       "Iskakova"
      ],
      "givenNames": [
       "D"
      ],
      "type": "Person"
     },
     {
      "familyNames": [
       "Khadilkar"
      ],
      "givenNames": [
       "A"
      ],
      "type": "Person"
     },
     {
      "familyNames": [
       "Lee"
      ],
      "givenNames": [
       "J-H"
      ],
      "type": "Person"
     },
     {
      "familyNames": [
       "Lee"
      ],
      "givenNames": [
       "S"
      ],
      "type": "Person"
     },
     {
      "familyNames": [
       "LeGrow"
      ],
      "givenNames": [
       "N"
      ],
      "type": "Person"
     },
     {
      "familyNames": [
       "Liu"
      ],
      "givenNames": [
       "DY"
      ],
      "type": "Person"
     },
     {
      "familyNames": [
       "Macho"
      ],
      "givenNames": [
       "JM"
      ],
      "type": "Person"
     },
     {
      "familyNames": [
       "McCaughey"
      ],
      "givenNames": [
       "CS"
      ],
      "type": "Person"
     },
     {
      "familyNames": [
       "Medema"
      ],
      "givenNames": [
       "MH"
      ],
      "type": "Person"
     },
     {
      "familyNames": [
       "Neupane"
      ],
      "givenNames": [
       "RP"
      ],
      "type": "Person"
     },
     {
      "familyNames": [
       "O’Donnell"
      ],
      "givenNames": [
       "TJ"
      ],
      "type": "Person"
     },
     {
      "familyNames": [
       "Paula"
      ],
      "givenNames": [
       "JS"
      ],
      "type": "Person"
     },
     {
      "familyNames": [
       "Sanchez"
      ],
      "givenNames": [
       "LM"
      ],
      "type": "Person"
     },
     {
      "familyNames": [
       "Shaikh"
      ],
      "givenNames": [
       "AF"
      ],
      "type": "Person"
     },
     {
      "familyNames": [
       "Soldatou"
      ],
      "givenNames": [
       "S"
      ],
      "type": "Person"
     },
     {
      "familyNames": [
       "Terlouw"
      ],
      "givenNames": [
       "BR"
      ],
      "type": "Person"
     },
     {
      "familyNames": [
       "Tran"
      ],
      "givenNames": [
       "TA"
      ],
      "type": "Person"
     },
     {
      "familyNames": [
       "Valentine"
      ],
      "givenNames": [
       "M"
      ],
      "type": "Person"
     },
     {
      "familyNames": [
       "van",
       "der",
       "Hooft"
      ],
      "givenNames": [
       "JJJ"
      ],
      "type": "Person"
     },
     {
      "familyNames": [
       "Vo"
      ],
      "givenNames": [
       "DA"
      ],
      "type": "Person"
     },
     {
      "familyNames": [
       "Wang"
      ],
      "givenNames": [
       "M"
      ],
      "type": "Person"
     },
     {
      "familyNames": [
       "Wilson"
      ],
      "givenNames": [
       "D"
      ],
      "type": "Person"
     },
     {
      "familyNames": [
       "Zink"
      ],
      "givenNames": [
       "KE"
      ],
      "type": "Person"
     },
     {
      "familyNames": [
       "Linington"
      ],
      "givenNames": [
       "RG"
      ],
      "type": "Person"
     }
    ],
    "datePublished": {
     "type": "Date",
     "value": "2019"
    },
    "id": "bib128",
    "identifiers": [
     {
      "name": "doi",
      "propertyID": "https://registry.identifiers.org/registry/doi",
      "type": "PropertyValue",
      "value": "10.1021/acscentsci.9b00806"
     },
     {
      "name": "pmid",
      "propertyID": "https://registry.identifiers.org/registry/pmid",
      "type": "PropertyValue",
      "value": 31807684
     }
    ],
    "isPartOf": {
     "isPartOf": {
      "name": "ACS Central Science",
      "type": "Periodical"
     },
     "type": "PublicationVolume",
     "volumeNumber": 5
    },
    "pageEnd": 1833,
    "pageStart": 1824,
    "title": "The Natural Products Atlas: An Open Access Knowledge Base for Microbial Natural Products Discovery",
    "type": "Article"
   },
   {
    "authors": [
     {
      "familyNames": [
       "van",
       "Santen"
      ],
      "givenNames": [
       "JA"
      ],
      "type": "Person"
     },
     {
      "familyNames": [
       "Poynton"
      ],
      "givenNames": [
       "EF"
      ],
      "type": "Person"
     },
     {
      "familyNames": [
       "Iskakova"
      ],
      "givenNames": [
       "D"
      ],
      "type": "Person"
     },
     {
      "familyNames": [
       "McMann"
      ],
      "givenNames": [
       "E"
      ],
      "type": "Person"
     },
     {
      "familyNames": [
       "Alsup"
      ],
      "givenNames": [
       "TA"
      ],
      "type": "Person"
     },
     {
      "familyNames": [
       "Clark"
      ],
      "givenNames": [
       "TN"
      ],
      "type": "Person"
     },
     {
      "familyNames": [
       "Fergusson"
      ],
      "givenNames": [
       "CH"
      ],
      "type": "Person"
     },
     {
      "familyNames": [
       "Fewer"
      ],
      "givenNames": [
       "DP"
      ],
      "type": "Person"
     },
     {
      "familyNames": [
       "Hughes"
      ],
      "givenNames": [
       "AH"
      ],
      "type": "Person"
     },
     {
      "familyNames": [
       "McCadden"
      ],
      "givenNames": [
       "CA"
      ],
      "type": "Person"
     },
     {
      "familyNames": [
       "Parra"
      ],
      "givenNames": [
       "J"
      ],
      "type": "Person"
     },
     {
      "familyNames": [
       "Soldatou"
      ],
      "givenNames": [
       "S"
      ],
      "type": "Person"
     },
     {
      "familyNames": [
       "Rudolf"
      ],
      "givenNames": [
       "JD"
      ],
      "type": "Person"
     },
     {
      "familyNames": [
       "Janssen"
      ],
      "givenNames": [
       "EM-L"
      ],
      "type": "Person"
     },
     {
      "familyNames": [
       "Duncan"
      ],
      "givenNames": [
       "KR"
      ],
      "type": "Person"
     },
     {
      "familyNames": [
       "Linington"
      ],
      "givenNames": [
       "RG"
      ],
      "type": "Person"
     }
    ],
    "datePublished": {
     "type": "Date",
     "value": "2022"
    },
    "id": "bib129",
    "identifiers": [
     {
      "name": "doi",
      "propertyID": "https://registry.identifiers.org/registry/doi",
      "type": "PropertyValue",
      "value": "10.1093/nar/gkab941"
     },
     {
      "name": "pmid",
      "propertyID": "https://registry.identifiers.org/registry/pmid",
      "type": "PropertyValue",
      "value": 34718710
     }
    ],
    "isPartOf": {
     "isPartOf": {
      "name": "Nucleic Acids Research",
      "type": "Periodical"
     },
     "type": "PublicationVolume",
     "volumeNumber": 50
    },
    "title": "The Natural Products Atlas 2.0: a database of microbially-derived natural products",
    "type": "Article"
   },
   {
    "authors": [
     {
      "familyNames": [
       "Virtanen"
      ],
      "givenNames": [
       "P"
      ],
      "type": "Person"
     },
     {
      "familyNames": [
       "Gommers"
      ],
      "givenNames": [
       "R"
      ],
      "type": "Person"
     },
     {
      "familyNames": [
       "Oliphant"
      ],
      "givenNames": [
       "TE"
      ],
      "type": "Person"
     },
     {
      "familyNames": [
       "Haberland"
      ],
      "givenNames": [
       "M"
      ],
      "type": "Person"
     },
     {
      "familyNames": [
       "Reddy"
      ],
      "givenNames": [
       "T"
      ],
      "type": "Person"
     },
     {
      "familyNames": [
       "Cournapeau"
      ],
      "givenNames": [
       "D"
      ],
      "type": "Person"
     },
     {
      "familyNames": [
       "Burovski"
      ],
      "givenNames": [
       "E"
      ],
      "type": "Person"
     },
     {
      "familyNames": [
       "Peterson"
      ],
      "givenNames": [
       "P"
      ],
      "type": "Person"
     },
     {
      "familyNames": [
       "Weckesser"
      ],
      "givenNames": [
       "W"
      ],
      "type": "Person"
     },
     {
      "familyNames": [
       "Bright"
      ],
      "givenNames": [
       "J"
      ],
      "type": "Person"
     },
     {
      "familyNames": [
       "van",
       "der",
       "Walt"
      ],
      "givenNames": [
       "SJ"
      ],
      "type": "Person"
     },
     {
      "familyNames": [
       "Brett"
      ],
      "givenNames": [
       "M"
      ],
      "type": "Person"
     },
     {
      "familyNames": [
       "Wilson"
      ],
      "givenNames": [
       "J"
      ],
      "type": "Person"
     },
     {
      "familyNames": [
       "Millman"
      ],
      "givenNames": [
       "KJ"
      ],
      "type": "Person"
     },
     {
      "familyNames": [
       "Mayorov"
      ],
      "givenNames": [
       "N"
      ],
      "type": "Person"
     },
     {
      "familyNames": [
       "Nelson"
      ],
      "givenNames": [
       "ARJ"
      ],
      "type": "Person"
     },
     {
      "familyNames": [
       "Jones"
      ],
      "givenNames": [
       "E"
      ],
      "type": "Person"
     },
     {
      "familyNames": [
       "Kern"
      ],
      "givenNames": [
       "R"
      ],
      "type": "Person"
     },
     {
      "familyNames": [
       "Larson"
      ],
      "givenNames": [
       "E"
      ],
      "type": "Person"
     },
     {
      "familyNames": [
       "Carey"
      ],
      "givenNames": [
       "CJ"
      ],
      "type": "Person"
     },
     {
      "familyNames": [
       "Polat"
      ],
      "givenNames": [
       "İ"
      ],
      "type": "Person"
     },
     {
      "familyNames": [
       "Feng"
      ],
      "givenNames": [
       "Y"
      ],
      "type": "Person"
     },
     {
      "familyNames": [
       "Moore"
      ],
      "givenNames": [
       "EW"
      ],
      "type": "Person"
     },
     {
      "familyNames": [
       "VanderPlas"
      ],
      "givenNames": [
       "J"
      ],
      "type": "Person"
     },
     {
      "familyNames": [
       "Laxalde"
      ],
      "givenNames": [
       "D"
      ],
      "type": "Person"
     },
     {
      "familyNames": [
       "Perktold"
      ],
      "givenNames": [
       "J"
      ],
      "type": "Person"
     },
     {
      "familyNames": [
       "Cimrman"
      ],
      "givenNames": [
       "R"
      ],
      "type": "Person"
     },
     {
      "familyNames": [
       "Henriksen"
      ],
      "givenNames": [
       "I"
      ],
      "type": "Person"
     },
     {
      "familyNames": [
       "Quintero"
      ],
      "givenNames": [
       "EA"
      ],
      "type": "Person"
     },
     {
      "familyNames": [
       "Harris"
      ],
      "givenNames": [
       "CR"
      ],
      "type": "Person"
     },
     {
      "familyNames": [
       "Archibald"
      ],
      "givenNames": [
       "AM"
      ],
      "type": "Person"
     },
     {
      "familyNames": [
       "Ribeiro"
      ],
      "givenNames": [
       "AH"
      ],
      "type": "Person"
     },
     {
      "familyNames": [
       "Pedregosa"
      ],
      "givenNames": [
       "F"
      ],
      "type": "Person"
     },
     {
      "familyNames": [
       "van",
       "Mulbregt"
      ],
      "givenNames": [
       "P"
      ],
      "type": "Person"
     },
     {
      "name": "SciPy 1.0 Contributors",
      "type": "Organization"
     }
    ],
    "datePublished": {
     "type": "Date",
     "value": "2020"
    },
    "id": "bib130",
    "identifiers": [
     {
      "name": "doi",
      "propertyID": "https://registry.identifiers.org/registry/doi",
      "type": "PropertyValue",
      "value": "10.1038/s41592-019-0686-2"
     },
     {
      "name": "pmid",
      "propertyID": "https://registry.identifiers.org/registry/pmid",
      "type": "PropertyValue",
      "value": 32015543
     }
    ],
    "isPartOf": {
     "isPartOf": {
      "name": "Nature Methods",
      "type": "Periodical"
     },
     "type": "PublicationVolume",
     "volumeNumber": 17
    },
    "pageEnd": 272,
    "pageStart": 261,
    "title": "SciPy 1.0: fundamental algorithms for scientific computing in Python",
    "type": "Article"
   },
   {
    "authors": [
     {
      "familyNames": [
       "Waagmeester"
      ],
      "givenNames": [
       "A"
      ],
      "type": "Person"
     },
     {
      "familyNames": [
       "Stupp"
      ],
      "givenNames": [
       "G"
      ],
      "type": "Person"
     },
     {
      "familyNames": [
       "Burgstaller-Muehlbacher"
      ],
      "givenNames": [
       "S"
      ],
      "type": "Person"
     },
     {
      "familyNames": [
       "Good"
      ],
      "givenNames": [
       "BM"
      ],
      "type": "Person"
     },
     {
      "familyNames": [
       "Griffith"
      ],
      "givenNames": [
       "M"
      ],
      "type": "Person"
     },
     {
      "familyNames": [
       "Griffith"
      ],
      "givenNames": [
       "OL"
      ],
      "type": "Person"
     },
     {
      "familyNames": [
       "Hanspers"
      ],
      "givenNames": [
       "K"
      ],
      "type": "Person"
     },
     {
      "familyNames": [
       "Hermjakob"
      ],
      "givenNames": [
       "H"
      ],
      "type": "Person"
     },
     {
      "familyNames": [
       "Hudson"
      ],
      "givenNames": [
       "TS"
      ],
      "type": "Person"
     },
     {
      "familyNames": [
       "Hybiske"
      ],
      "givenNames": [
       "K"
      ],
      "type": "Person"
     },
     {
      "familyNames": [
       "Keating"
      ],
      "givenNames": [
       "SM"
      ],
      "type": "Person"
     },
     {
      "familyNames": [
       "Manske"
      ],
      "givenNames": [
       "M"
      ],
      "type": "Person"
     },
     {
      "familyNames": [
       "Mayers"
      ],
      "givenNames": [
       "M"
      ],
      "type": "Person"
     },
     {
      "familyNames": [
       "Mietchen"
      ],
      "givenNames": [
       "D"
      ],
      "type": "Person"
     },
     {
      "familyNames": [
       "Mitraka"
      ],
      "givenNames": [
       "E"
      ],
      "type": "Person"
     },
     {
      "familyNames": [
       "Pico"
      ],
      "givenNames": [
       "AR"
      ],
      "type": "Person"
     },
     {
      "familyNames": [
       "Putman"
      ],
      "givenNames": [
       "T"
      ],
      "type": "Person"
     },
     {
      "familyNames": [
       "Riutta"
      ],
      "givenNames": [
       "A"
      ],
      "type": "Person"
     },
     {
      "familyNames": [
       "Queralt-Rosinach"
      ],
      "givenNames": [
       "N"
      ],
      "type": "Person"
     },
     {
      "familyNames": [
       "Schriml"
      ],
      "givenNames": [
       "LM"
      ],
      "type": "Person"
     },
     {
      "familyNames": [
       "Shafee"
      ],
      "givenNames": [
       "T"
      ],
      "type": "Person"
     },
     {
      "familyNames": [
       "Slenter"
      ],
      "givenNames": [
       "D"
      ],
      "type": "Person"
     },
     {
      "familyNames": [
       "Stephan"
      ],
      "givenNames": [
       "R"
      ],
      "type": "Person"
     },
     {
      "familyNames": [
       "Thornton"
      ],
      "givenNames": [
       "K"
      ],
      "type": "Person"
     },
     {
      "familyNames": [
       "Tsueng"
      ],
      "givenNames": [
       "G"
      ],
      "type": "Person"
     },
     {
      "familyNames": [
       "Tu"
      ],
      "givenNames": [
       "R"
      ],
      "type": "Person"
     },
     {
      "familyNames": [
       "Ul-Hasan"
      ],
      "givenNames": [
       "S"
      ],
      "type": "Person"
     },
     {
      "familyNames": [
       "Willighagen"
      ],
      "givenNames": [
       "E"
      ],
      "type": "Person"
     },
     {
      "familyNames": [
       "Wu"
      ],
      "givenNames": [
       "C"
      ],
      "type": "Person"
     },
     {
      "familyNames": [
       "Su"
      ],
      "givenNames": [
       "AI"
      ],
      "type": "Person"
     }
    ],
    "datePublished": {
     "type": "Date",
     "value": "2020"
    },
    "id": "bib131",
    "identifiers": [
     {
      "name": "doi",
      "propertyID": "https://registry.identifiers.org/registry/doi",
      "type": "PropertyValue",
      "value": "10.7554/eLife.52614"
     },
     {
      "name": "pmid",
      "propertyID": "https://registry.identifiers.org/registry/pmid",
      "type": "PropertyValue",
      "value": 32180547
     }
    ],
    "isPartOf": {
     "isPartOf": {
      "name": "eLife",
      "type": "Periodical"
     },
     "type": "PublicationVolume",
     "volumeNumber": 9
    },
    "title": "Wikidata as a knowledge graph for the life sciences",
    "type": "Article"
   },
   {
    "authors": [
     {
      "name": "Wakankenaku",
      "type": "Organization"
     }
    ],
    "datePublished": {
     "type": "Date",
     "value": "2020"
    },
    "id": "bib132",
    "title": "WAKANKENSAKU",
    "type": "Article",
    "url": "https://wakankensaku.inm.u-toyama.ac.jp/wiki/Main_Page"
   },
   {
    "authors": [
     {
      "familyNames": [
       "Wang"
      ],
      "givenNames": [
       "L-G"
      ],
      "type": "Person"
     },
     {
      "familyNames": [
       "Lam"
      ],
      "givenNames": [
       "TT-Y"
      ],
      "type": "Person"
     },
     {
      "familyNames": [
       "Xu"
      ],
      "givenNames": [
       "S"
      ],
      "type": "Person"
     },
     {
      "familyNames": [
       "Dai"
      ],
      "givenNames": [
       "Z"
      ],
      "type": "Person"
     },
     {
      "familyNames": [
       "Zhou"
      ],
      "givenNames": [
       "L"
      ],
      "type": "Person"
     },
     {
      "familyNames": [
       "Feng"
      ],
      "givenNames": [
       "T"
      ],
      "type": "Person"
     },
     {
      "familyNames": [
       "Guo"
      ],
      "givenNames": [
       "P"
      ],
      "type": "Person"
     },
     {
      "familyNames": [
       "Dunn"
      ],
      "givenNames": [
       "CW"
      ],
      "type": "Person"
     },
     {
      "familyNames": [
       "Jones"
      ],
      "givenNames": [
       "BR"
      ],
      "type": "Person"
     },
     {
      "familyNames": [
       "Bradley"
      ],
      "givenNames": [
       "T"
      ],
      "type": "Person"
     },
     {
      "familyNames": [
       "Zhu"
      ],
      "givenNames": [
       "H"
      ],
      "type": "Person"
     },
     {
      "familyNames": [
       "Guan"
      ],
      "givenNames": [
       "Y"
      ],
      "type": "Person"
     },
     {
      "familyNames": [
       "Jiang"
      ],
      "givenNames": [
       "Y"
      ],
      "type": "Person"
     },
     {
      "familyNames": [
       "Yu"
      ],
      "givenNames": [
       "G"
      ],
      "type": "Person"
     }
    ],
    "datePublished": {
     "type": "Date",
     "value": "2020"
    },
    "id": "bib133",
    "identifiers": [
     {
      "name": "doi",
      "propertyID": "https://registry.identifiers.org/registry/doi",
      "type": "PropertyValue",
      "value": "10.1093/molbev/msz240"
     },
     {
      "name": "pmid",
      "propertyID": "https://registry.identifiers.org/registry/pmid",
      "type": "PropertyValue",
      "value": 31633786
     }
    ],
    "isPartOf": {
     "isPartOf": {
      "name": "Molecular Biology and Evolution",
      "type": "Periodical"
     },
     "type": "PublicationVolume",
     "volumeNumber": 37
    },
    "pageEnd": 603,
    "pageStart": 599,
    "title": "Treeio: An R Package for Phylogenetic Tree Input and Output with Richly Annotated and Associated Data",
    "type": "Article"
   },
   {
    "authors": [
     {
      "familyNames": [
       "Warnes"
      ],
      "givenNames": [
       "GR"
      ],
      "type": "Person"
     },
     {
      "familyNames": [
       "Bolker"
      ],
      "givenNames": [
       "B"
      ],
      "type": "Person"
     },
     {
      "familyNames": [
       "Gorjanc"
      ],
      "givenNames": [
       "G"
      ],
      "type": "Person"
     },
     {
      "familyNames": [
       "Grothendieck"
      ],
      "givenNames": [
       "G"
      ],
      "type": "Person"
     },
     {
      "familyNames": [
       "Korosec"
      ],
      "givenNames": [
       "A"
      ],
      "type": "Person"
     },
     {
      "familyNames": [
       "Lumley"
      ],
      "givenNames": [
       "T"
      ],
      "type": "Person"
     },
     {
      "familyNames": [
       "MacQueen"
      ],
      "givenNames": [
       "D"
      ],
      "type": "Person"
     },
     {
      "familyNames": [
       "Magnusson"
      ],
      "givenNames": [
       "A"
      ],
      "type": "Person"
     }
    ],
    "datePublished": {
     "type": "Date",
     "value": "2017"
    },
    "id": "bib134",
    "title": "gdata: Various r programming tools for data manipulation",
    "type": "Article",
    "url": "https://CRAN.R-project.org/package=gdata"
   },
   {
    "authors": [
     {
      "familyNames": [
       "Weininger"
      ],
      "givenNames": [
       "D"
      ],
      "type": "Person"
     }
    ],
    "datePublished": {
     "type": "Date",
     "value": "1988"
    },
    "id": "bib135",
    "identifiers": [
     {
      "name": "doi",
      "propertyID": "https://registry.identifiers.org/registry/doi",
      "type": "PropertyValue",
      "value": "10.1021/ci00057a005"
     }
    ],
    "isPartOf": {
     "isPartOf": {
      "name": "Journal of Chemical Information and Modeling",
      "type": "Periodical"
     },
     "type": "PublicationVolume",
     "volumeNumber": 28
    },
    "pageEnd": 36,
    "pageStart": 31,
    "title": "SMILES, a chemical language and information system. 1. Introduction to methodology and encoding rules",
    "type": "Article"
   },
   {
    "authors": [
     {
      "familyNames": [
       "Wickham"
      ],
      "givenNames": [
       "H"
      ],
      "type": "Person"
     }
    ],
    "datePublished": {
     "type": "Date",
     "value": "2018"
    },
    "id": "bib136",
    "title": "readxl: Read Excel Files",
    "type": "Article",
    "url": "https://CRAN.R-project.org/package=readxl"
   },
   {
    "authors": [
     {
      "familyNames": [
       "Wickham"
      ],
      "givenNames": [
       "H"
      ],
      "type": "Person"
     },
     {
      "familyNames": [
       "Averick"
      ],
      "givenNames": [
       "M"
      ],
      "type": "Person"
     },
     {
      "familyNames": [
       "Bryan"
      ],
      "givenNames": [
       "J"
      ],
      "type": "Person"
     },
     {
      "familyNames": [
       "Chang"
      ],
      "givenNames": [
       "W"
      ],
      "type": "Person"
     },
     {
      "familyNames": [
       "McGowan"
      ],
      "givenNames": [
       "L"
      ],
      "type": "Person"
     },
     {
      "familyNames": [
       "François"
      ],
      "givenNames": [
       "R"
      ],
      "type": "Person"
     },
     {
      "familyNames": [
       "Grolemund"
      ],
      "givenNames": [
       "G"
      ],
      "type": "Person"
     },
     {
      "familyNames": [
       "Hayes"
      ],
      "givenNames": [
       "A"
      ],
      "type": "Person"
     },
     {
      "familyNames": [
       "Henry"
      ],
      "givenNames": [
       "L"
      ],
      "type": "Person"
     },
     {
      "familyNames": [
       "Hester"
      ],
      "givenNames": [
       "J"
      ],
      "type": "Person"
     },
     {
      "familyNames": [
       "Kuhn"
      ],
      "givenNames": [
       "M"
      ],
      "type": "Person"
     },
     {
      "familyNames": [
       "Pedersen"
      ],
      "givenNames": [
       "T"
      ],
      "type": "Person"
     },
     {
      "familyNames": [
       "Miller"
      ],
      "givenNames": [
       "E"
      ],
      "type": "Person"
     },
     {
      "familyNames": [
       "Bache"
      ],
      "givenNames": [
       "S"
      ],
      "type": "Person"
     },
     {
      "familyNames": [
       "Müller"
      ],
      "givenNames": [
       "K"
      ],
      "type": "Person"
     },
     {
      "familyNames": [
       "Ooms"
      ],
      "givenNames": [
       "J"
      ],
      "type": "Person"
     },
     {
      "familyNames": [
       "Robinson"
      ],
      "givenNames": [
       "D"
      ],
      "type": "Person"
     },
     {
      "familyNames": [
       "Seidel"
      ],
      "givenNames": [
       "D"
      ],
      "type": "Person"
     },
     {
      "familyNames": [
       "Spinu"
      ],
      "givenNames": [
       "V"
      ],
      "type": "Person"
     },
     {
      "familyNames": [
       "Takahashi"
      ],
      "givenNames": [
       "K"
      ],
      "type": "Person"
     },
     {
      "familyNames": [
       "Vaughan"
      ],
      "givenNames": [
       "D"
      ],
      "type": "Person"
     },
     {
      "familyNames": [
       "Wilke"
      ],
      "givenNames": [
       "C"
      ],
      "type": "Person"
     },
     {
      "familyNames": [
       "Woo"
      ],
      "givenNames": [
       "K"
      ],
      "type": "Person"
     },
     {
      "familyNames": [
       "Yutani"
      ],
      "givenNames": [
       "H"
      ],
      "type": "Person"
     }
    ],
    "datePublished": {
     "type": "Date",
     "value": "2019"
    },
    "id": "bib137",
    "identifiers": [
     {
      "name": "doi",
      "propertyID": "https://registry.identifiers.org/registry/doi",
      "type": "PropertyValue",
      "value": "10.21105/joss.01686"
     }
    ],
    "isPartOf": {
     "isPartOf": {
      "name": "Journal of Open Source Software",
      "type": "Periodical"
     },
     "type": "PublicationVolume",
     "volumeNumber": 4
    },
    "title": "Welcome to the Tidyverse",
    "type": "Article"
   },
   {
    "authors": [
     {
      "familyNames": [
       "Wickham"
      ],
      "givenNames": [
       "H"
      ],
      "type": "Person"
     }
    ],
    "datePublished": {
     "type": "Date",
     "value": "2020"
    },
    "id": "bib138",
    "title": "rvest: Easily Harvest (Scrape) Web Pages",
    "type": "Article",
    "url": "https://CRAN.R-project.org/package=rvest"
   },
   {
    "authors": [
     {
      "familyNames": [
       "Wickham"
      ],
      "givenNames": [
       "H"
      ],
      "type": "Person"
     },
     {
      "familyNames": [
       "Hester"
      ],
      "givenNames": [
       "J"
      ],
      "type": "Person"
     }
    ],
    "datePublished": {
     "type": "Date",
     "value": "2020"
    },
    "id": "bib139",
    "title": "Jeroen Ooms. xml2",
    "type": "Article",
    "url": "https://CRAN.R-project.org/package=xml2"
   },
   {
    "authors": [
     {
      "familyNames": [
       "Wickham"
      ],
      "givenNames": [
       "H"
      ],
      "type": "Person"
     },
     {
      "familyNames": [
       "Müller"
      ],
      "givenNames": [
       "K"
      ],
      "type": "Person"
     }
    ],
    "datePublished": {
     "type": "Date",
     "value": "2021"
    },
    "id": "bib140",
    "title": "DBI: R database interface R Special Interest Group on Databases",
    "type": "Article",
    "url": "https://CRAN.R-project.org/package=DBI"
   },
   {
    "authors": [
     {
      "familyNames": [
       "Wilkins"
      ],
      "givenNames": [
       "D"
      ],
      "type": "Person"
     }
    ],
    "datePublished": {
     "type": "Date",
     "value": "2020"
    },
    "id": "bib141",
    "title": "ggfittext: Fit Text Inside a Box in ’ggplot2",
    "type": "Article",
    "url": "https://CRAN.R-project.org/package=ggfittext"
   },
   {
    "authors": [
     {
      "familyNames": [
       "Wilkinson"
      ],
      "givenNames": [
       "MD"
      ],
      "type": "Person"
     },
     {
      "familyNames": [
       "Dumontier"
      ],
      "givenNames": [
       "M"
      ],
      "type": "Person"
     },
     {
      "familyNames": [
       "Aalbersberg"
      ],
      "givenNames": [
       "IJJ"
      ],
      "type": "Person"
     },
     {
      "familyNames": [
       "Appleton"
      ],
      "givenNames": [
       "G"
      ],
      "type": "Person"
     },
     {
      "familyNames": [
       "Axton"
      ],
      "givenNames": [
       "M"
      ],
      "type": "Person"
     },
     {
      "familyNames": [
       "Baak"
      ],
      "givenNames": [
       "A"
      ],
      "type": "Person"
     },
     {
      "familyNames": [
       "Blomberg"
      ],
      "givenNames": [
       "N"
      ],
      "type": "Person"
     },
     {
      "familyNames": [
       "Boiten"
      ],
      "givenNames": [
       "JW"
      ],
      "type": "Person"
     },
     {
      "familyNames": [
       "da",
       "Silva",
       "Santos"
      ],
      "givenNames": [
       "LB"
      ],
      "type": "Person"
     },
     {
      "familyNames": [
       "Bourne"
      ],
      "givenNames": [
       "PE"
      ],
      "type": "Person"
     },
     {
      "familyNames": [
       "Bouwman"
      ],
      "givenNames": [
       "J"
      ],
      "type": "Person"
     },
     {
      "familyNames": [
       "Brookes"
      ],
      "givenNames": [
       "AJ"
      ],
      "type": "Person"
     },
     {
      "familyNames": [
       "Clark"
      ],
      "givenNames": [
       "T"
      ],
      "type": "Person"
     },
     {
      "familyNames": [
       "Crosas"
      ],
      "givenNames": [
       "M"
      ],
      "type": "Person"
     },
     {
      "familyNames": [
       "Dillo"
      ],
      "givenNames": [
       "I"
      ],
      "type": "Person"
     },
     {
      "familyNames": [
       "Dumon"
      ],
      "givenNames": [
       "O"
      ],
      "type": "Person"
     },
     {
      "familyNames": [
       "Edmunds"
      ],
      "givenNames": [
       "S"
      ],
      "type": "Person"
     },
     {
      "familyNames": [
       "Evelo"
      ],
      "givenNames": [
       "CT"
      ],
      "type": "Person"
     },
     {
      "familyNames": [
       "Finkers"
      ],
      "givenNames": [
       "R"
      ],
      "type": "Person"
     },
     {
      "familyNames": [
       "Gonzalez-Beltran"
      ],
      "givenNames": [
       "A"
      ],
      "type": "Person"
     },
     {
      "familyNames": [
       "Gray"
      ],
      "givenNames": [
       "AJG"
      ],
      "type": "Person"
     },
     {
      "familyNames": [
       "Groth"
      ],
      "givenNames": [
       "P"
      ],
      "type": "Person"
     },
     {
      "familyNames": [
       "Goble"
      ],
      "givenNames": [
       "C"
      ],
      "type": "Person"
     },
     {
      "familyNames": [
       "Grethe"
      ],
      "givenNames": [
       "JS"
      ],
      "type": "Person"
     },
     {
      "familyNames": [
       "Heringa"
      ],
      "givenNames": [
       "J"
      ],
      "type": "Person"
     },
     {
      "familyNames": [
       "’t",
       "Hoen"
      ],
      "givenNames": [
       "PAC"
      ],
      "type": "Person"
     },
     {
      "familyNames": [
       "Hooft"
      ],
      "givenNames": [
       "R"
      ],
      "type": "Person"
     },
     {
      "familyNames": [
       "Kuhn"
      ],
      "givenNames": [
       "T"
      ],
      "type": "Person"
     },
     {
      "familyNames": [
       "Kok"
      ],
      "givenNames": [
       "R"
      ],
      "type": "Person"
     },
     {
      "familyNames": [
       "Kok"
      ],
      "givenNames": [
       "J"
      ],
      "type": "Person"
     },
     {
      "familyNames": [
       "Lusher"
      ],
      "givenNames": [
       "SJ"
      ],
      "type": "Person"
     },
     {
      "familyNames": [
       "Martone"
      ],
      "givenNames": [
       "ME"
      ],
      "type": "Person"
     },
     {
      "familyNames": [
       "Mons"
      ],
      "givenNames": [
       "A"
      ],
      "type": "Person"
     },
     {
      "familyNames": [
       "Packer"
      ],
      "givenNames": [
       "AL"
      ],
      "type": "Person"
     },
     {
      "familyNames": [
       "Persson"
      ],
      "givenNames": [
       "B"
      ],
      "type": "Person"
     },
     {
      "familyNames": [
       "Rocca-Serra"
      ],
      "givenNames": [
       "P"
      ],
      "type": "Person"
     },
     {
      "familyNames": [
       "Roos"
      ],
      "givenNames": [
       "M"
      ],
      "type": "Person"
     },
     {
      "familyNames": [
       "van",
       "Schaik"
      ],
      "givenNames": [
       "R"
      ],
      "type": "Person"
     },
     {
      "familyNames": [
       "Sansone"
      ],
      "givenNames": [
       "SA"
      ],
      "type": "Person"
     },
     {
      "familyNames": [
       "Schultes"
      ],
      "givenNames": [
       "E"
      ],
      "type": "Person"
     },
     {
      "familyNames": [
       "Sengstag"
      ],
      "givenNames": [
       "T"
      ],
      "type": "Person"
     },
     {
      "familyNames": [
       "Slater"
      ],
      "givenNames": [
       "T"
      ],
      "type": "Person"
     },
     {
      "familyNames": [
       "Strawn"
      ],
      "givenNames": [
       "G"
      ],
      "type": "Person"
     },
     {
      "familyNames": [
       "Swertz"
      ],
      "givenNames": [
       "MA"
      ],
      "type": "Person"
     },
     {
      "familyNames": [
       "Thompson"
      ],
      "givenNames": [
       "M"
      ],
      "type": "Person"
     },
     {
      "familyNames": [
       "van",
       "der",
       "Lei"
      ],
      "givenNames": [
       "J"
      ],
      "type": "Person"
     },
     {
      "familyNames": [
       "van",
       "Mulligen"
      ],
      "givenNames": [
       "E"
      ],
      "type": "Person"
     },
     {
      "familyNames": [
       "Velterop"
      ],
      "givenNames": [
       "J"
      ],
      "type": "Person"
     },
     {
      "familyNames": [
       "Waagmeester"
      ],
      "givenNames": [
       "A"
      ],
      "type": "Person"
     },
     {
      "familyNames": [
       "Wittenburg"
      ],
      "givenNames": [
       "P"
      ],
      "type": "Person"
     },
     {
      "familyNames": [
       "Wolstencroft"
      ],
      "givenNames": [
       "K"
      ],
      "type": "Person"
     },
     {
      "familyNames": [
       "Zhao"
      ],
      "givenNames": [
       "J"
      ],
      "type": "Person"
     },
     {
      "familyNames": [
       "Mons"
      ],
      "givenNames": [
       "B"
      ],
      "type": "Person"
     }
    ],
    "datePublished": {
     "type": "Date",
     "value": "2016"
    },
    "id": "bib142",
    "identifiers": [
     {
      "name": "doi",
      "propertyID": "https://registry.identifiers.org/registry/doi",
      "type": "PropertyValue",
      "value": "10.1038/sdata.2016.18"
     },
     {
      "name": "pmid",
      "propertyID": "https://registry.identifiers.org/registry/pmid",
      "type": "PropertyValue",
      "value": 26978244
     }
    ],
    "isPartOf": {
     "isPartOf": {
      "name": "Scientific Data",
      "type": "Periodical"
     },
     "type": "PublicationVolume",
     "volumeNumber": 3
    },
    "title": "The FAIR Guiding Principles for scientific data management and stewardship",
    "type": "Article"
   },
   {
    "authors": [
     {
      "familyNames": [
       "Willighagen"
      ],
      "givenNames": [
       "EL"
      ],
      "type": "Person"
     },
     {
      "familyNames": [
       "Mayfield"
      ],
      "givenNames": [
       "JW"
      ],
      "type": "Person"
     },
     {
      "familyNames": [
       "Alvarsson"
      ],
      "givenNames": [
       "J"
      ],
      "type": "Person"
     },
     {
      "familyNames": [
       "Berg"
      ],
      "givenNames": [
       "A"
      ],
      "type": "Person"
     },
     {
      "familyNames": [
       "Carlsson"
      ],
      "givenNames": [
       "L"
      ],
      "type": "Person"
     },
     {
      "familyNames": [
       "Jeliazkova"
      ],
      "givenNames": [
       "N"
      ],
      "type": "Person"
     },
     {
      "familyNames": [
       "Kuhn"
      ],
      "givenNames": [
       "S"
      ],
      "type": "Person"
     },
     {
      "familyNames": [
       "Pluskal"
      ],
      "givenNames": [
       "T"
      ],
      "type": "Person"
     },
     {
      "familyNames": [
       "Rojas-Chertó"
      ],
      "givenNames": [
       "M"
      ],
      "type": "Person"
     },
     {
      "familyNames": [
       "Spjuth"
      ],
      "givenNames": [
       "O"
      ],
      "type": "Person"
     },
     {
      "familyNames": [
       "Torrance"
      ],
      "givenNames": [
       "G"
      ],
      "type": "Person"
     },
     {
      "familyNames": [
       "Evelo"
      ],
      "givenNames": [
       "CT"
      ],
      "type": "Person"
     },
     {
      "familyNames": [
       "Guha"
      ],
      "givenNames": [
       "R"
      ],
      "type": "Person"
     },
     {
      "familyNames": [
       "Steinbeck"
      ],
      "givenNames": [
       "C"
      ],
      "type": "Person"
     }
    ],
    "datePublished": {
     "type": "Date",
     "value": "2017"
    },
    "id": "bib143",
    "identifiers": [
     {
      "name": "doi",
      "propertyID": "https://registry.identifiers.org/registry/doi",
      "type": "PropertyValue",
      "value": "10.1186/s13321-017-0220-4"
     },
     {
      "name": "pmid",
      "propertyID": "https://registry.identifiers.org/registry/pmid",
      "type": "PropertyValue",
      "value": 29086040
     }
    ],
    "isPartOf": {
     "isPartOf": {
      "name": "Journal of Cheminformatics",
      "type": "Periodical"
     },
     "type": "PublicationVolume",
     "volumeNumber": 9
    },
    "title": "The Chemistry Development Kit (CDK) v2.0: atom typing, depiction, molecular formulas, and substructure searching",
    "type": "Article"
   },
   {
    "authors": [
     {
      "familyNames": [
       "Winter"
      ],
      "givenNames": [
       "D"
      ],
      "type": "Person"
     }
    ],
    "datePublished": {
     "type": "Date",
     "value": "2017"
    },
    "id": "bib144",
    "identifiers": [
     {
      "name": "doi",
      "propertyID": "https://registry.identifiers.org/registry/doi",
      "type": "PropertyValue",
      "value": "10.32614/RJ-2017-058"
     }
    ],
    "isPartOf": {
     "isPartOf": {
      "name": "The R Journal",
      "type": "Periodical"
     },
     "type": "PublicationVolume",
     "volumeNumber": 9
    },
    "title": "rentrez: An R package for the NCBI eUtils API",
    "type": "Article"
   },
   {
    "authors": [
     {
      "familyNames": [
       "Wohlgemuth"
      ],
      "givenNames": [
       "G"
      ],
      "type": "Person"
     },
     {
      "familyNames": [
       "Haldiya"
      ],
      "givenNames": [
       "PK"
      ],
      "type": "Person"
     },
     {
      "familyNames": [
       "Willighagen"
      ],
      "givenNames": [
       "E"
      ],
      "type": "Person"
     },
     {
      "familyNames": [
       "Kind"
      ],
      "givenNames": [
       "T"
      ],
      "type": "Person"
     },
     {
      "familyNames": [
       "Fiehn"
      ],
      "givenNames": [
       "O"
      ],
      "type": "Person"
     }
    ],
    "datePublished": {
     "type": "Date",
     "value": "2010"
    },
    "id": "bib145",
    "identifiers": [
     {
      "name": "doi",
      "propertyID": "https://registry.identifiers.org/registry/doi",
      "type": "PropertyValue",
      "value": "10.1093/bioinformatics/btq476"
     },
     {
      "name": "pmid",
      "propertyID": "https://registry.identifiers.org/registry/pmid",
      "type": "PropertyValue",
      "value": 20829444
     }
    ],
    "isPartOf": {
     "isPartOf": {
      "name": "Bioinformatics (Oxford, England)",
      "type": "Periodical"
     },
     "type": "PublicationVolume",
     "volumeNumber": 26
    },
    "pageEnd": 2648,
    "pageStart": 2647,
    "title": "The Chemical Translation Service--a web-based tool to improve standardization of metabolomic reports",
    "type": "Article"
   },
   {
    "authors": [
     {
      "familyNames": [
       "Xu"
      ],
      "givenNames": [
       "S"
      ],
      "type": "Person"
     }
    ],
    "datePublished": {
     "type": "Date",
     "value": "2021"
    },
    "id": "bib146",
    "title": "ggstar: Star Layer for ’ggplot2",
    "type": "Article",
    "url": "https://CRAN.R-project.org/package=ggstar"
   },
   {
    "authors": [
     {
      "familyNames": [
       "Xu"
      ],
      "givenNames": [
       "S"
      ],
      "type": "Person"
     },
     {
      "familyNames": [
       "Dai"
      ],
      "givenNames": [
       "Z"
      ],
      "type": "Person"
     },
     {
      "familyNames": [
       "Guo"
      ],
      "givenNames": [
       "P"
      ],
      "type": "Person"
     },
     {
      "familyNames": [
       "Fu"
      ],
      "givenNames": [
       "X"
      ],
      "type": "Person"
     },
     {
      "familyNames": [
       "Liu"
      ],
      "givenNames": [
       "S"
      ],
      "type": "Person"
     },
     {
      "familyNames": [
       "Zhou"
      ],
      "givenNames": [
       "L"
      ],
      "type": "Person"
     },
     {
      "familyNames": [
       "Tang"
      ],
      "givenNames": [
       "W"
      ],
      "type": "Person"
     },
     {
      "familyNames": [
       "Feng"
      ],
      "givenNames": [
       "T"
      ],
      "type": "Person"
     },
     {
      "familyNames": [
       "Chen"
      ],
      "givenNames": [
       "M"
      ],
      "type": "Person"
     },
     {
      "familyNames": [
       "Zhan"
      ],
      "givenNames": [
       "L"
      ],
      "type": "Person"
     },
     {
      "familyNames": [
       "Wu"
      ],
      "givenNames": [
       "T"
      ],
      "type": "Person"
     },
     {
      "familyNames": [
       "Hu"
      ],
      "givenNames": [
       "E"
      ],
      "type": "Person"
     },
     {
      "familyNames": [
       "Jiang"
      ],
      "givenNames": [
       "Y"
      ],
      "type": "Person"
     },
     {
      "familyNames": [
       "Bo"
      ],
      "givenNames": [
       "X"
      ],
      "type": "Person"
     },
     {
      "familyNames": [
       "Yu"
      ],
      "givenNames": [
       "G"
      ],
      "type": "Person"
     }
    ],
    "datePublished": {
     "type": "Date",
     "value": "2021"
    },
    "id": "bib147",
    "identifiers": [
     {
      "name": "doi",
      "propertyID": "https://registry.identifiers.org/registry/doi",
      "type": "PropertyValue",
      "value": "10.1093/molbev/msab166"
     },
     {
      "name": "pmid",
      "propertyID": "https://registry.identifiers.org/registry/pmid",
      "type": "PropertyValue",
      "value": 34097064
     }
    ],
    "isPartOf": {
     "isPartOf": {
      "name": "Molecular Biology and Evolution",
      "type": "Periodical"
     },
     "type": "PublicationVolume",
     "volumeNumber": 38
    },
    "pageEnd": 4042,
    "pageStart": 4039,
    "title": "ggtreeExtra: Compact Visualization of Richly Annotated Phylogenetic Data",
    "type": "Article"
   },
   {
    "authors": [
     {
      "familyNames": [
       "Yabuzaki"
      ],
      "givenNames": [
       "J"
      ],
      "type": "Person"
     }
    ],
    "datePublished": {
     "type": "Date",
     "value": "2017"
    },
    "id": "bib148",
    "identifiers": [
     {
      "name": "doi",
      "propertyID": "https://registry.identifiers.org/registry/doi",
      "type": "PropertyValue",
      "value": "10.1093/database/bax004"
     },
     {
      "name": "pmid",
      "propertyID": "https://registry.identifiers.org/registry/pmid",
      "type": "PropertyValue",
      "value": 28365725
     }
    ],
    "isPartOf": {
     "isPartOf": {
      "name": "Database",
      "type": "Periodical"
     },
     "type": "PublicationVolume",
     "volumeNumber": 2017
    },
    "title": "Carotenoids Database: structures, chemical fingerprints and distribution among organisms",
    "type": "Article"
   },
   {
    "authors": [
     {
      "familyNames": [
       "Yu"
      ],
      "givenNames": [
       "G"
      ],
      "type": "Person"
     }
    ],
    "datePublished": {
     "type": "Date",
     "value": "2017"
    },
    "id": "bib149",
    "identifiers": [
     {
      "name": "doi",
      "propertyID": "https://registry.identifiers.org/registry/doi",
      "type": "PropertyValue",
      "value": "10.1111/2041-210x.12628"
     }
    ],
    "isPartOf": {
     "isPartOf": {
      "name": "Methods in Ecology and Evolution",
      "type": "Periodical"
     },
     "type": "PublicationVolume",
     "volumeNumber": 8
    },
    "pageEnd": 36,
    "pageStart": 28,
    "title": "ggtree: an r package for visualization and annotation of phylogenetic trees with their covariates and other associated data",
    "type": "Article"
   },
   {
    "authors": [
     {
      "familyNames": [
       "Yue"
      ],
      "givenNames": [
       "Y"
      ],
      "type": "Person"
     },
     {
      "familyNames": [
       "Chu"
      ],
      "givenNames": [
       "G-X"
      ],
      "type": "Person"
     },
     {
      "familyNames": [
       "Liu"
      ],
      "givenNames": [
       "X-S"
      ],
      "type": "Person"
     },
     {
      "familyNames": [
       "Tang"
      ],
      "givenNames": [
       "X"
      ],
      "type": "Person"
     },
     {
      "familyNames": [
       "Wang"
      ],
      "givenNames": [
       "W"
      ],
      "type": "Person"
     },
     {
      "familyNames": [
       "Liu"
      ],
      "givenNames": [
       "G-J"
      ],
      "type": "Person"
     },
     {
      "familyNames": [
       "Yang"
      ],
      "givenNames": [
       "T"
      ],
      "type": "Person"
     },
     {
      "familyNames": [
       "Ling"
      ],
      "givenNames": [
       "T-J"
      ],
      "type": "Person"
     },
     {
      "familyNames": [
       "Wang"
      ],
      "givenNames": [
       "X-G"
      ],
      "type": "Person"
     },
     {
      "familyNames": [
       "Zhang"
      ],
      "givenNames": [
       "Z-Z"
      ],
      "type": "Person"
     },
     {
      "familyNames": [
       "Xia"
      ],
      "givenNames": [
       "T"
      ],
      "type": "Person"
     },
     {
      "familyNames": [
       "Wan"
      ],
      "givenNames": [
       "X-C"
      ],
      "type": "Person"
     },
     {
      "familyNames": [
       "Bao"
      ],
      "givenNames": [
       "G-H"
      ],
      "type": "Person"
     }
    ],
    "datePublished": {
     "type": "Date",
     "value": "2014"
    },
    "id": "bib150",
    "identifiers": [
     {
      "name": "doi",
      "propertyID": "https://registry.identifiers.org/registry/doi",
      "type": "PropertyValue",
      "value": "10.1186/s12870-014-0243-1"
     },
     {
      "name": "pmid",
      "propertyID": "https://registry.identifiers.org/registry/pmid",
      "type": "PropertyValue",
      "value": 25224438
     }
    ],
    "isPartOf": {
     "isPartOf": {
      "name": "BMC Plant Biology",
      "type": "Periodical"
     },
     "type": "PublicationVolume",
     "volumeNumber": 14
    },
    "title": "TMDB: A literature-curated database for small molecular compounds found from tea",
    "type": "Article"
   },
   {
    "authors": [
     {
      "familyNames": [
       "Zeng"
      ],
      "givenNames": [
       "X"
      ],
      "type": "Person"
     },
     {
      "familyNames": [
       "Zhang"
      ],
      "givenNames": [
       "P"
      ],
      "type": "Person"
     },
     {
      "familyNames": [
       "He"
      ],
      "givenNames": [
       "W"
      ],
      "type": "Person"
     },
     {
      "familyNames": [
       "Qin"
      ],
      "givenNames": [
       "C"
      ],
      "type": "Person"
     },
     {
      "familyNames": [
       "Chen"
      ],
      "givenNames": [
       "S"
      ],
      "type": "Person"
     },
     {
      "familyNames": [
       "Tao"
      ],
      "givenNames": [
       "L"
      ],
      "type": "Person"
     },
     {
      "familyNames": [
       "Wang"
      ],
      "givenNames": [
       "Y"
      ],
      "type": "Person"
     },
     {
      "familyNames": [
       "Tan"
      ],
      "givenNames": [
       "Y"
      ],
      "type": "Person"
     },
     {
      "familyNames": [
       "Gao"
      ],
      "givenNames": [
       "D"
      ],
      "type": "Person"
     },
     {
      "familyNames": [
       "Wang"
      ],
      "givenNames": [
       "B"
      ],
      "type": "Person"
     },
     {
      "familyNames": [
       "Chen"
      ],
      "givenNames": [
       "Z"
      ],
      "type": "Person"
     },
     {
      "familyNames": [
       "Chen"
      ],
      "givenNames": [
       "W"
      ],
      "type": "Person"
     },
     {
      "familyNames": [
       "Jiang"
      ],
      "givenNames": [
       "YY"
      ],
      "type": "Person"
     },
     {
      "familyNames": [
       "Chen"
      ],
      "givenNames": [
       "YZ"
      ],
      "type": "Person"
     }
    ],
    "datePublished": {
     "type": "Date",
     "value": "2018"
    },
    "id": "bib151",
    "identifiers": [
     {
      "name": "doi",
      "propertyID": "https://registry.identifiers.org/registry/doi",
      "type": "PropertyValue",
      "value": "10.1093/nar/gkx1026"
     },
     {
      "name": "pmid",
      "propertyID": "https://registry.identifiers.org/registry/pmid",
      "type": "PropertyValue",
      "value": 29106619
     }
    ],
    "isPartOf": {
     "isPartOf": {
      "name": "Nucleic Acids Research",
      "type": "Periodical"
     },
     "type": "PublicationVolume",
     "volumeNumber": 46
    },
    "title": "NPASS: natural product activity and species source database for natural product research, discovery and tool development",
    "type": "Article"
   },
   {
    "authors": [
     {
      "familyNames": [
       "Zhang"
      ],
      "givenNames": [
       "R"
      ],
      "type": "Person"
     },
     {
      "familyNames": [
       "Lin"
      ],
      "givenNames": [
       "J"
      ],
      "type": "Person"
     },
     {
      "familyNames": [
       "Zou"
      ],
      "givenNames": [
       "Y"
      ],
      "type": "Person"
     },
     {
      "familyNames": [
       "Zhang"
      ],
      "givenNames": [
       "X-J"
      ],
      "type": "Person"
     },
     {
      "familyNames": [
       "Xiao"
      ],
      "givenNames": [
       "W-L"
      ],
      "type": "Person"
     }
    ],
    "datePublished": {
     "type": "Date",
     "value": "2019"
    },
    "id": "bib152",
    "identifiers": [
     {
      "name": "doi",
      "propertyID": "https://registry.identifiers.org/registry/doi",
      "type": "PropertyValue",
      "value": "10.1021/acs.jcim.8b00560"
     },
     {
      "name": "pmid",
      "propertyID": "https://registry.identifiers.org/registry/pmid",
      "type": "PropertyValue",
      "value": 30540445
     }
    ],
    "isPartOf": {
     "isPartOf": {
      "name": "Journal of Chemical Information and Modeling",
      "type": "Periodical"
     },
     "type": "PublicationVolume",
     "volumeNumber": 59
    },
    "pageEnd": 73,
    "pageStart": 66,
    "title": "Chemical Space and Biological Target Network of Anti-Inflammatory Natural Products",
    "type": "Article"
   },
   {
    "authors": [
     {
      "familyNames": [
       "Zhao"
      ],
      "givenNames": [
       "W-Y"
      ],
      "type": "Person"
     },
     {
      "familyNames": [
       "Yi"
      ],
      "givenNames": [
       "J"
      ],
      "type": "Person"
     },
     {
      "familyNames": [
       "Chang"
      ],
      "givenNames": [
       "Y-B"
      ],
      "type": "Person"
     },
     {
      "familyNames": [
       "Sun"
      ],
      "givenNames": [
       "C-P"
      ],
      "type": "Person"
     },
     {
      "familyNames": [
       "Ma"
      ],
      "givenNames": [
       "X-C"
      ],
      "type": "Person"
     }
    ],
    "datePublished": {
     "type": "Date",
     "value": "2022"
    },
    "id": "bib153",
    "identifiers": [
     {
      "name": "doi",
      "propertyID": "https://registry.identifiers.org/registry/doi",
      "type": "PropertyValue",
      "value": "10.1016/j.phytochem.2021.113011"
     },
     {
      "name": "pmid",
      "propertyID": "https://registry.identifiers.org/registry/pmid",
      "type": "PropertyValue",
      "value": 34775270
     }
    ],
    "isPartOf": {
     "isPartOf": {
      "name": "Phytochemistry",
      "type": "Periodical"
     },
     "type": "PublicationVolume",
     "volumeNumber": 193
    },
    "title": "Recent studies on terpenoids in Aspergillus fungi: Chemical diversity, biosynthesis, and bioactivity",
    "type": "Article"
   }
  ],
  "title": "The LOTUS initiative for open knowledge management in natural products research"
 },
 "nbformat": 4,
 "nbformat_minor": 4
}
